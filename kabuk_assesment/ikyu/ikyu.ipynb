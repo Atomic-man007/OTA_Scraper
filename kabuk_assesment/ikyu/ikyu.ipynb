{
 "cells": [
  {
   "cell_type": "code",
   "execution_count": 4,
   "metadata": {},
   "outputs": [],
   "source": [
    "import time\n",
    "import random\n",
    "import json\n",
    "import datetime\n",
    "import pandas as pd\n",
    "import numpy as np\n",
    "from bs4 import BeautifulSoup\n",
    "from selenium import webdriver\n",
    "from selenium.webdriver.common.by import By\n",
    "from selenium.webdriver.common.keys import Keys\n",
    "from selenium.webdriver.chrome.service import Service\n",
    "from selenium.webdriver.chrome.options import Options\n",
    "from selenium.webdriver.support.ui import WebDriverWait\n",
    "from webdriver_manager.chrome import ChromeDriverManager\n",
    "from selenium.webdriver.common.proxy import Proxy, ProxyType\n",
    "from selenium.webdriver.support import expected_conditions as EC\n",
    "from selenium.common.exceptions import ElementClickInterceptedException,\\\n",
    "    TimeoutException, NoSuchElementException, StaleElementReferenceException"
   ]
  },
  {
   "cell_type": "markdown",
   "metadata": {},
   "source": [
    "## Hotel Test"
   ]
  },
  {
   "cell_type": "code",
   "execution_count": 2,
   "metadata": {},
   "outputs": [],
   "source": [
    "s=Service(ChromeDriverManager().install())\n",
    "driver = webdriver.Chrome(service=s)\n",
    "driver.maximize_window()\n",
    "driver.delete_all_cookies()\n",
    "driver.get('https://www.ikyu.com/area/ma000000/p1/?adc=1&lc=1&per_page=20&ppc=2&rc=1&si=6')"
   ]
  },
  {
   "cell_type": "code",
   "execution_count": 3,
   "metadata": {},
   "outputs": [
    {
     "data": {
      "text/plain": [
       "<selenium.webdriver.remote.webelement.WebElement (session=\"6e652a3e0b065748ce66d7a4973f423e\", element=\"f.26541B8C05C0031602F8C12EA8A98557.d.2A68016F5FDF919AA9E3366D6EC0EB08.e.66\")>"
      ]
     },
     "execution_count": 3,
     "metadata": {},
     "output_type": "execute_result"
    }
   ],
   "source": [
    "wait = WebDriverWait(driver, 10)\n",
    "wait.until(EC.presence_of_element_located((By.XPATH, '//*[@id=\"__nuxt\"]/div/div[1]/main/div[3]/div/div/div[1]')))"
   ]
  },
  {
   "cell_type": "code",
   "execution_count": 5,
   "metadata": {},
   "outputs": [],
   "source": [
    "# Parse page source with BeautifulSoup\n",
    "soup = BeautifulSoup(driver.page_source, 'html.parser')\n",
    "\n",
    "# Locate the main section that contains all hotel details\n",
    "main_section = soup.find('section', class_='relative')"
   ]
  },
  {
   "cell_type": "code",
   "execution_count": 6,
   "metadata": {},
   "outputs": [
    {
     "data": {
      "text/plain": [
       "'パレスホテル東京'"
      ]
     },
     "execution_count": 6,
     "metadata": {},
     "output_type": "execute_result"
    }
   ],
   "source": [
    "name_tag  = main_section.find('h2', itemprop='name', class_='nameText')\n",
    "hotel_name = name_tag.text.strip() if name_tag else 'N/A'\n",
    "hotel_name"
   ]
  },
  {
   "cell_type": "code",
   "execution_count": 7,
   "metadata": {},
   "outputs": [
    {
     "data": {
      "text/plain": [
       "'東京都・丸の内／大手町地下通路直結 [全284室]'"
      ]
     },
     "execution_count": 7,
     "metadata": {},
     "output_type": "execute_result"
    }
   ],
   "source": [
    "# Extract hotel address\n",
    "address_tag = main_section.find('p', class_='mt-3 w-2/3 text-sm leading-6 text-gray-400')\n",
    "hotel_address = address_tag.text.strip() if address_tag else 'N/A'\n",
    "hotel_address"
   ]
  },
  {
   "cell_type": "code",
   "execution_count": null,
   "metadata": {},
   "outputs": [],
   "source": [
    "# Locate the main section that contains all hotel details\n",
    "updated_soup = BeautifulSoup(driver.page_source, 'html.parser')\n",
    "updated_section = updated_soup.find('section', class_='relative')\n",
    "# Find the <ul> element within the specified <div> with class 'px-7 pb-7'\n",
    "ul_element = updated_section.find('div', class_='px-7 pb-7').find('ul')\n",
    "\n",
    "# Find all <li> elements inside that <ul>\n",
    "room_list = ul_element.find_all('li')\n",
    "\n",
    "# Print the result to see the list of <li> elements\n",
    "for room in room_list:\n",
    "    print(room)"
   ]
  },
  {
   "cell_type": "code",
   "execution_count": 23,
   "metadata": {},
   "outputs": [
    {
     "name": "stdout",
     "output_type": "stream",
     "text": [
      "デラックスキング（禁煙）ダブル 45平米\n",
      "デラックスキング with バルコニー（禁煙）ダブル 45平米\n",
      "デラックスツイン with バルコニー（禁煙）ツイン 45平米\n",
      "クラブデラックスツイン with バルコニー（禁煙）ツイン 45平米\n",
      "クラブデラックスキング with バルコニー（禁煙）ダブル 45平米\n",
      "グランドデラックスツイン（禁煙）ツイン 55平米\n",
      "クラブグランドデラックスツイン（禁煙）ツイン 55平米\n",
      "グランドデラックスキング with バルコニー（禁煙）ダブル 55平米\n",
      "クラブグランドデラックスキング with バルコニー（禁煙）ダブル 55平米\n",
      "エグゼクティブスイート（キング）ダブル 75平米\n",
      "ガーデンスイート（キング）ダブル 75平米\n",
      "プレミアスイート（キング）ダブル 90平米\n",
      "プレミアスイート （ツイン）ツイン 90平米\n",
      "パークスイート（ツイン）ツイン 120平米\n",
      "千代田スイート（ツイン）ツイン 80平米\n",
      "テラススイート（都内最大 約40平米のテラス付）ダブル 120平米\n"
     ]
    }
   ],
   "source": [
    "# Step 1: Find the first <ul> element inside the <div> with class 'px-7 pb-7'\n",
    "first_ul = updated_section.find('div', class_='px-7 pb-7').find('ul')\n",
    "\n",
    "# Step 2: Find all <li> elements inside the first <ul>\n",
    "li_elements = first_ul.find_all('li')\n",
    "\n",
    "# Step 3: For each <li>, find another nested <ul> and get the text\n",
    "for li in li_elements:\n",
    "    # Find the nested <ul> inside the current <li>\n",
    "    nested_ul = li.find('ul', class_= \"mr-2.5\")\n",
    "\n",
    "    if nested_ul:\n",
    "        # Get the text inside the nested <ul> and print it\n",
    "        nested_text = nested_ul.get_text(strip=True)\n",
    "        print(nested_text)"
   ]
  },
  {
   "cell_type": "code",
   "execution_count": 22,
   "metadata": {},
   "outputs": [
    {
     "name": "stdout",
     "output_type": "stream",
     "text": [
      "Name: デラックスキング（禁煙）\n",
      "Details:\n",
      "ポイント2%分利用で86,020円～2名税込84,300円～詳細･予約\n",
      "ポイント16%分利用+割引で140,668円～朝食付2名税込102,814円～詳細･予約\n",
      "ポイント7%分利用+割引で170,178円～夕食付2名税込137,695円～詳細･予約\n"
     ]
    }
   ],
   "source": [
    "from bs4 import BeautifulSoup\n",
    "\n",
    "# Assuming updated_soup contains the parsed HTML\n",
    "\n",
    "# Step 1: Find the first <ul> with class \"mr-2.5\" and get the name from the <a> tag\n",
    "ul_mr_2_5 = updated_soup.find('ul', class_='mr-2.5')\n",
    "name = ul_mr_2_5.find('a').get_text(strip=True)\n",
    "\n",
    "# Step 2: Find the next <ul> with class \"w-3/5\"\n",
    "ul_w_3_5 = ul_mr_2_5.find_next('ul', class_='w-3/5')\n",
    "\n",
    "# Step 3: Extract the text from each <li> inside this <ul>\n",
    "li_texts = [li.get_text(strip=True) for li in ul_w_3_5.find_all('li')]\n",
    "\n",
    "# Output the results\n",
    "print(\"Name:\", name)\n",
    "print(\"Details:\")\n",
    "for text in li_texts:\n",
    "    print(text)"
   ]
  },
  {
   "cell_type": "code",
   "execution_count": 24,
   "metadata": {},
   "outputs": [
    {
     "name": "stdout",
     "output_type": "stream",
     "text": [
      "Name: デラックスキング（禁煙）\n",
      "Details:\n",
      "ポイント2%分利用で86,020円～2名税込84,300円～詳細･予約\n",
      "ポイント16%分利用+割引で140,668円～朝食付2名税込102,814円～詳細･予約\n",
      "ポイント7%分利用+割引で170,178円～夕食付2名税込137,695円～詳細･予約\n",
      "Name: デラックスキング with バルコニー（禁煙）\n",
      "Details:\n",
      "ポイント7%分利用+割引で129,030円～2名税込114,004円～詳細･予約\n",
      "ポイント16%分利用+割引で163,438円～朝食付2名税込119,456円～詳細･予約\n",
      "ポイント7%分利用+割引で192,870円～夕食付2名税込156,058円～詳細･予約\n",
      "Name: デラックスツイン with バルコニー（禁煙）\n",
      "Details:\n",
      "ポイント7%分利用+割引で129,030円～2名税込114,004円～詳細･予約\n",
      "ポイント16%分利用+割引で163,438円～朝食付2名税込119,456円～詳細･予約\n",
      "ポイント7%分利用+割引で192,870円～夕食付2名税込156,058円～詳細･予約\n",
      "Name: クラブデラックスツイン with バルコニー（禁煙）\n",
      "Details:\n",
      "ポイント16%分利用+割引で178,366円～朝食付2名税込130,363円～詳細･予約\n",
      "Name: クラブデラックスキング with バルコニー（禁煙）\n",
      "Details:\n",
      "ポイント16%分利用+割引で178,366円～朝食付2名税込130,363円～詳細･予約\n",
      "Name: グランドデラックスツイン（禁煙）\n",
      "Details:\n",
      "ポイント2%分利用で137,886円～2名税込135,130円～詳細･予約\n",
      "ポイント16%分利用+割引で182,414円～朝食付2名税込133,309円～詳細･予約\n",
      "ポイント7%分利用+割引で204,216円～夕食付2名税込165,236円～詳細･予約\n",
      "Name: クラブグランドデラックスツイン（禁煙）\n",
      "Details:\n",
      "ポイント16%分利用+割引で193,546円～朝食付2名税込141,458円～詳細･予約\n",
      "Name: グランドデラックスキング with バルコニー（禁煙）\n",
      "Details:\n",
      "ポイント7%分利用+割引で189,750円～2名税込153,533円～詳細･予約\n",
      "ポイント7%分利用+割引で201,388円～朝食付2名税込162,944円～詳細･予約\n",
      "Name: クラブグランドデラックスキング with バルコニー（禁煙）\n",
      "Details:\n",
      "ポイント7%分利用+割引で215,050円～朝食付2名税込174,004円～詳細･予約\n",
      "Name: エグゼクティブスイート（キング）\n",
      "Details:\n",
      "ポイント7%分利用+割引で278,300円～朝食付2名税込225,174円～詳細･予約\n",
      "Name: ガーデンスイート（キング）\n",
      "Details:\n",
      "ポイント7%分利用+割引で359,260円～朝食付2名税込290,682円～詳細･予約\n",
      "Name: プレミアスイート（キング）\n",
      "Details:\n",
      "ポイント7%分利用+割引で379,500円～朝食付2名税込307,058円～詳細･予約\n",
      "Name: プレミアスイート （ツイン）\n",
      "Details:\n",
      "ポイント7%分利用+割引で379,500円～朝食付2名税込307,058円～詳細･予約\n",
      "Name: パークスイート（ツイン）\n",
      "Details:\n",
      "ポイント7%分利用+割引で460,460円～朝食付2名税込372,559円～詳細･予約\n",
      "Name: 千代田スイート（ツイン）\n",
      "Details:\n",
      "ポイント2%分利用で404,800円～朝食付2名税込396,704円～詳細･予約\n",
      "Name: テラススイート（都内最大 約40平米のテラス付）\n",
      "Details:\n",
      "ポイント7%分利用+割引で567,986円～朝食付2名税込459,561円～詳細･予約\n"
     ]
    }
   ],
   "source": [
    "# Step 1: Find the first <ul> element inside the <div> with class 'px-7 pb-7'\n",
    "first_ul = updated_section.find('div', class_='px-7 pb-7').find('ul')\n",
    "\n",
    "# Step 2: Find all <li> elements inside the first <ul>\n",
    "li_elements = first_ul.find_all('li')\n",
    "\n",
    "# Step 3: Iterate through each <li> to find the nested <ul> and extract details\n",
    "for li in li_elements:\n",
    "    # Find the nested <ul> with class \"mr-2.5\" inside the current <li>\n",
    "    nested_ul = li.find('ul', class_='mr-2.5')\n",
    "\n",
    "    if nested_ul:\n",
    "        # Extract the name from the nested <ul>\n",
    "        name = nested_ul.find('a').get_text(strip=True)\n",
    "\n",
    "        # Find the next <ul> with class \"w-3/5\" for details\n",
    "        ul_w_3_5 = nested_ul.find_next('ul', class_='w-3/5')\n",
    "\n",
    "        # Step 4: Extract details from the <li> elements inside the \"w-3/5\" <ul>\n",
    "        if ul_w_3_5:\n",
    "            li_texts = [li.get_text(strip=True) for li in ul_w_3_5.find_all('li')]\n",
    "\n",
    "            # Output the name and the corresponding details\n",
    "            print(\"Name:\", name)\n",
    "            print(\"Details:\")\n",
    "            for text in li_texts:\n",
    "                print(text)\n",
    "        else:\n",
    "            print(f\"No details found for {name}\")\n"
   ]
  },
  {
   "cell_type": "code",
   "execution_count": null,
   "metadata": {},
   "outputs": [],
   "source": [
    "# Parse page source with BeautifulSoup\n",
    "soup = BeautifulSoup(driver.page_source, 'html.parser')\n",
    "\n",
    "main_sections = soup.find_all('section', class_='relative')\n",
    "if main_sections:\n",
    "    hotels = []\n",
    "    for i, section in enumerate(main_sections):\n",
    "        # Scroll to the section to ensure it's in view\n",
    "        try:\n",
    "            # Find the button using the CSS selector\n",
    "            button = driver.find_element(By.CSS_SELECTOR, f'#__nuxt > div > div.min-h-screen > main > div.w-full.bg-gray-100 > div > div > div.w-\\\\[950px\\\\] > div:nth-child(2) > section > div:nth-child({i+1}) > section > div.px-7.pb-7 > div > section > div.relative.box-border.h-14.px-0.pb-14.pt-5 > div > button')\n",
    "\n",
    "            # Click the button\n",
    "            button.click()\n",
    "        except Exception as e:\n",
    "            print(\"An error occurred:\", e)\n",
    "\n",
    "        time.sleep(random.randint(2, 4))\n",
    "        updated_soup = BeautifulSoup(driver.page_source, 'html.parser')\n",
    "        updated_section = updated_soup.find_all('section', class_='relative')[i]\n",
    "\n",
    "        name_tag = updated_section.find('h2', itemprop='name', class_='nameText')\n",
    "        hotel_name = name_tag.text.strip() if name_tag else 'N/A'\n",
    "\n",
    "        # Extract hotel address\n",
    "        address_tag = updated_section.find('p', class_='mt-3 w-2/3 text-sm leading-6 text-gray-400')\n",
    "        hotel_address = address_tag.text.strip() if address_tag else 'N/A'\n",
    "\n",
    "        room_list = updated_section.find('div', class_='px-7 pb-7').find('ul')\n",
    "        li_elements = room_list.find_all('li')\n",
    "\n",
    "        rooms = []\n",
    "        for room in li_elements:\n",
    "            # Find the nested <ul> with class \"mr-2.5\" to extract the room name\n",
    "            nested_ul = room.find('ul', class_='mr-2.5')\n",
    "            if nested_ul:\n",
    "                name = nested_ul.find('a').get_text(strip=True)  # Extract room name\n",
    "                \n",
    "                # Find the next <ul> with class \"w-3/5\" to extract the detailed price information\n",
    "                ul_w_3_5 = nested_ul.find_next('ul', class_='w-3/5')\n",
    "                if ul_w_3_5:\n",
    "                    # Extract the relevant price information and format it\n",
    "                    formatted_Detailprices = [li.get_text(strip=True) for li in ul_w_3_5.find_all('li')]\n",
    "                    \n",
    "                    # Append the room name and detailed price to the rooms list\n",
    "                    rooms.append({\n",
    "                        'Room type': name,  # Room name\n",
    "                        'Room Price Detail': formatted_Detailprices  # Price details\n",
    "                    })\n",
    "\n",
    "        # Append the extracted data to the hotels list\n",
    "        hotels.append({\n",
    "            'Hotel Name': hotel_name,\n",
    "            'Address': hotel_address,\n",
    "            'Rooms': rooms\n",
    "        })\n",
    "\n",
    "        try:\n",
    "            # Find the button using the CSS selector\n",
    "            button = driver.find_element(By.CSS_SELECTOR, f'#__nuxt > div > div.min-h-screen > main > div.w-full.bg-gray-100 > div > div > div.w-\\\\[950px\\\\] > div:nth-child(2) > section > div:nth-child({i+1}) > section > div.px-7.pb-7 > div > section > div.relative.box-border.h-14.px-0.pb-14.pt-5 > div > button')\n",
    "\n",
    "            # Click the button\n",
    "            button.click()\n",
    "        except Exception as e:\n",
    "            print(\"An error occurred:\", e)\n",
    "        time.sleep(2)\n"
   ]
  },
  {
   "cell_type": "code",
   "execution_count": 29,
   "metadata": {},
   "outputs": [],
   "source": [
    "import csv\n",
    "\n",
    "with open('hotel_data_ikyu.csv', 'w', newline='', encoding='utf-8') as csvfile:\n",
    "        fieldnames = ['Hotel Name', 'Address', 'Room Type', 'Room Price Detail']\n",
    "        writer = csv.DictWriter(csvfile, fieldnames=fieldnames)\n",
    "\n",
    "        writer.writeheader()\n",
    "        for hotel in hotels:\n",
    "            for room in hotel['Rooms']:\n",
    "                writer.writerow({\n",
    "                    'Hotel Name': hotel['Hotel Name'],\n",
    "                    'Address': hotel['Address'],\n",
    "                    'Room Type': room['Room type'],\n",
    "                    'Room Price Detail' : room['Room Price Detail']\n",
    "                })"
   ]
  },
  {
   "cell_type": "code",
   "execution_count": 28,
   "metadata": {},
   "outputs": [
    {
     "data": {
      "text/plain": [
       "[{'Hotel Name': 'パレスホテル東京',\n",
       "  'Address': '東京都・丸の内／大手町地下通路直結 [全284室]',\n",
       "  'Price': '84,300円～',\n",
       "  'Rooms': [{'Room type': 'デラックスキング（禁煙）',\n",
       "    'Room Price Detail': ['ポイント2%分利用で86,020円～2名税込84,300円～詳細･予約',\n",
       "     'ポイント16%分利用+割引で140,668円～朝食付2名税込102,814円～詳細･予約',\n",
       "     'ポイント7%分利用+割引で170,178円～夕食付2名税込137,695円～詳細･予約']},\n",
       "   {'Room type': 'デラックスキング with バルコニー（禁煙）',\n",
       "    'Room Price Detail': ['ポイント7%分利用+割引で129,030円～2名税込114,004円～詳細･予約',\n",
       "     'ポイント16%分利用+割引で163,438円～朝食付2名税込119,456円～詳細･予約',\n",
       "     'ポイント7%分利用+割引で192,870円～夕食付2名税込156,058円～詳細･予約']},\n",
       "   {'Room type': 'デラックスツイン with バルコニー（禁煙）',\n",
       "    'Room Price Detail': ['ポイント7%分利用+割引で129,030円～2名税込114,004円～詳細･予約',\n",
       "     'ポイント16%分利用+割引で163,438円～朝食付2名税込119,456円～詳細･予約',\n",
       "     'ポイント7%分利用+割引で192,870円～夕食付2名税込156,058円～詳細･予約']},\n",
       "   {'Room type': 'クラブデラックスツイン with バルコニー（禁煙）',\n",
       "    'Room Price Detail': ['ポイント16%分利用+割引で178,366円～朝食付2名税込130,363円～詳細･予約']},\n",
       "   {'Room type': 'クラブデラックスキング with バルコニー（禁煙）',\n",
       "    'Room Price Detail': ['ポイント16%分利用+割引で178,366円～朝食付2名税込130,363円～詳細･予約']},\n",
       "   {'Room type': 'グランドデラックスツイン（禁煙）',\n",
       "    'Room Price Detail': ['ポイント2%分利用で137,886円～2名税込135,130円～詳細･予約',\n",
       "     'ポイント16%分利用+割引で182,414円～朝食付2名税込133,309円～詳細･予約',\n",
       "     'ポイント7%分利用+割引で204,216円～夕食付2名税込165,236円～詳細･予約']},\n",
       "   {'Room type': 'クラブグランドデラックスツイン（禁煙）',\n",
       "    'Room Price Detail': ['ポイント16%分利用+割引で193,546円～朝食付2名税込141,458円～詳細･予約']},\n",
       "   {'Room type': 'グランドデラックスキング with バルコニー（禁煙）',\n",
       "    'Room Price Detail': ['ポイント7%分利用+割引で189,750円～2名税込153,533円～詳細･予約',\n",
       "     'ポイント7%分利用+割引で201,388円～朝食付2名税込162,944円～詳細･予約']},\n",
       "   {'Room type': 'クラブグランドデラックスキング with バルコニー（禁煙）',\n",
       "    'Room Price Detail': ['ポイント7%分利用+割引で215,050円～朝食付2名税込174,004円～詳細･予約']},\n",
       "   {'Room type': 'エグゼクティブスイート（キング）',\n",
       "    'Room Price Detail': ['ポイント7%分利用+割引で278,300円～朝食付2名税込225,174円～詳細･予約']},\n",
       "   {'Room type': 'ガーデンスイート（キング）',\n",
       "    'Room Price Detail': ['ポイント7%分利用+割引で359,260円～朝食付2名税込290,682円～詳細･予約']},\n",
       "   {'Room type': 'プレミアスイート（キング）',\n",
       "    'Room Price Detail': ['ポイント7%分利用+割引で379,500円～朝食付2名税込307,058円～詳細･予約']},\n",
       "   {'Room type': 'プレミアスイート （ツイン）',\n",
       "    'Room Price Detail': ['ポイント7%分利用+割引で379,500円～朝食付2名税込307,058円～詳細･予約']},\n",
       "   {'Room type': 'パークスイート（ツイン）',\n",
       "    'Room Price Detail': ['ポイント7%分利用+割引で460,460円～朝食付2名税込372,559円～詳細･予約']},\n",
       "   {'Room type': '千代田スイート（ツイン）',\n",
       "    'Room Price Detail': ['ポイント2%分利用で404,800円～朝食付2名税込396,704円～詳細･予約']},\n",
       "   {'Room type': 'テラススイート（都内最大 約40平米のテラス付）',\n",
       "    'Room Price Detail': ['ポイント7%分利用+割引で567,986円～朝食付2名税込459,561円～詳細･予約']}]},\n",
       " {'Hotel Name': 'ホテルシギラミラージュ',\n",
       "  'Address': '沖縄県・宮古島市 [全160室]',\n",
       "  'Price': '84,300円～',\n",
       "  'Rooms': [{'Room type': 'スーペリアルーム（52平米/2-4階）＜眺望指定なし＞',\n",
       "    'Room Price Detail': ['ポイント12%分利用で45,560円～朝食付2名税込40,100円～詳細･予約']},\n",
       "   {'Room type': 'スーペリアルーム（52平米/5-8階）＜サンセットビュー＞',\n",
       "    'Room Price Detail': ['ポイント12%分利用で48,780円～朝食付2名税込42,936円～詳細･予約']},\n",
       "   {'Room type': 'デラックスルーム＜テラスジャグジー付＞',\n",
       "    'Room Price Detail': ['ポイント12%分利用で51,340円～朝食付2名税込45,184円～詳細･予約']},\n",
       "   {'Room type': 'スーペリアルーム（52平米/5-8階）＜オーシャンビュー＞',\n",
       "    'Room Price Detail': ['ポイント12%分利用で54,560円～朝食付2名税込48,020円～詳細･予約']},\n",
       "   {'Room type': 'ジュニアスイート＜デイベッド・テラスジャグジー付＞',\n",
       "    'Room Price Detail': ['ポイント12%分利用で57,460円～朝食付2名税込50,572円～詳細･予約']},\n",
       "   {'Room type': 'デラックススイート1ベッドルーム＜テラスジャグジー付＞',\n",
       "    'Room Price Detail': ['ポイント12%分利用で63,920円～朝食付2名税込56,252円～詳細･予約']},\n",
       "   {'Room type': 'プールヴィラプレミア1F\\u3000温水プライベートプール・ラウンジ',\n",
       "    'Room Price Detail': ['ポイント12%分利用で63,920円～朝食付2名税込56,252円～詳細･予約']},\n",
       "   {'Room type': '【ドッグフレンドリールーム】プールヴィラプレミア1F',\n",
       "    'Room Price Detail': ['ポイント12%分利用で63,920円～朝食付2名税込56,252円～詳細･予約']},\n",
       "   {'Room type': 'プールヴィラプレミア2F\\u3000温水プライベートプール・ラウンジ',\n",
       "    'Room Price Detail': ['ポイント12%分利用で73,940円～朝食付2名税込65,072円～詳細･予約']},\n",
       "   {'Room type': 'ファミリープールスイート＜お子様用プライベートプール付＞',\n",
       "    'Room Price Detail': ['ポイント12%分利用で78,400円～朝食付2名税込68,992円～詳細･予約']},\n",
       "   {'Room type': 'ミラージュフロア・デラックススイート＜ラウンジ利用付＞',\n",
       "    'Room Price Detail': ['ポイント12%分利用で80,740円～朝食付2名税込71,056円～詳細･予約']},\n",
       "   {'Room type': 'デラックススイート2ベッドルーム＜ジャグジー付＞',\n",
       "    'Room Price Detail': ['ポイント12%分利用で90,240円～朝食付2名税込79,416円～詳細･予約']},\n",
       "   {'Room type': 'デラックススイート2ベッドルームデイベッド付＜ジャグジー付＞',\n",
       "    'Room Price Detail': ['ポイント12%分利用で90,240円～朝食付2名税込79,416円～詳細･予約']},\n",
       "   {'Room type': 'ミラージュフロア・プレミアスイート＜ラウンジ利用付＞',\n",
       "    'Room Price Detail': ['ポイント12%分利用で94,420円～朝食付2名税込83,092円～詳細･予約']},\n",
       "   {'Room type': 'プールヴィラプレミア メゾネット\\u3000温水プライベートプール付',\n",
       "    'Room Price Detail': ['ポイント12%分利用で94,420円～朝食付2名税込83,092円～詳細･予約']},\n",
       "   {'Room type': 'ミラージュフロア・ガーデンプールスイート＜ラウンジ利用付＞',\n",
       "    'Room Price Detail': ['ポイント12%分利用で109,000円～朝食付2名税込95,920円～詳細･予約']}]},\n",
       " {'Hotel Name': '熱海・伊豆山 佳ら久（ORIX HOTELS＆RESORTS）',\n",
       "  'Address': '静岡県・熱海・伊豆山  / 熱海温泉[全57室]',\n",
       "  'Price': '84,300円～',\n",
       "  'Rooms': [{'Room type': 'デラックスルーム低層階（和タイプ）2名定員',\n",
       "    'Room Price Detail': ['ポイント15%分利用で93,060円～夕朝食付2名税込79,110円～詳細･予約',\n",
       "     'ポイント15%分利用で99,000円～朝食付2名税込84,150円～詳細･予約']},\n",
       "   {'Room type': 'デラックスルーム低層階（和タイプ）4名定員',\n",
       "    'Room Price Detail': ['ポイント15%分利用で93,060円～夕朝食付2名税込79,110円～詳細･予約',\n",
       "     'ポイント15%分利用で105,600円～朝食付2名税込89,760円～詳細･予約']},\n",
       "   {'Room type': 'デラックスルーム低層階（洋タイプ）2名定員',\n",
       "    'Room Price Detail': ['ポイント15%分利用で93,060円～夕朝食付2名税込79,110円～詳細･予約',\n",
       "     'ポイント15%分利用で99,000円～朝食付2名税込84,150円～詳細･予約']},\n",
       "   {'Room type': 'デラックスルーム低層階（洋タイプ）3名定員',\n",
       "    'Room Price Detail': ['ポイント15%分利用で93,060円～夕朝食付2名税込79,110円～詳細･予約',\n",
       "     'ポイント15%分利用で105,600円～朝食付2名税込89,760円～詳細･予約']},\n",
       "   {'Room type': 'デラックスルーム高層階（和タイプ）2名定員',\n",
       "    'Room Price Detail': ['ポイント15%分利用で102,960円～夕朝食付2名税込87,525円～詳細･予約',\n",
       "     'ポイント15%分利用で110,000円～朝食付2名税込93,500円～詳細･予約']},\n",
       "   {'Room type': 'デラックスルーム高層階（和タイプ）3名定員',\n",
       "    'Room Price Detail': ['ポイント15%分利用で102,960円～夕朝食付2名税込87,525円～詳細･予約',\n",
       "     'ポイント15%分利用で116,600円～朝食付2名税込99,110円～詳細･予約']},\n",
       "   {'Room type': 'デラックスルーム高層階（和タイプ）4名定員',\n",
       "    'Room Price Detail': ['ポイント15%分利用で102,960円～夕朝食付2名税込87,525円～詳細･予約',\n",
       "     'ポイント15%分利用で116,600円～朝食付2名税込99,110円～詳細･予約']},\n",
       "   {'Room type': 'デラックスルーム高層階（洋タイプ）2名定員',\n",
       "    'Room Price Detail': ['ポイント15%分利用で102,960円～夕朝食付2名税込87,525円～詳細･予約',\n",
       "     'ポイント15%分利用で116,600円～朝食付2名税込99,110円～詳細･予約']},\n",
       "   {'Room type': 'デラックスルーム高層階（洋タイプ）4名定員',\n",
       "    'Room Price Detail': ['ポイント15%分利用で102,960円～夕朝食付2名税込87,525円～詳細･予約']},\n",
       "   {'Room type': 'デラックスルーム低層階（和タイプ）3名定員',\n",
       "    'Room Price Detail': ['ポイント15%分利用で105,600円～朝食付2名税込89,760円～詳細･予約',\n",
       "     'ポイント15%分利用で110,880円～夕朝食付2名税込94,260円～詳細･予約']},\n",
       "   {'Room type': 'デラックスルーム低層階（洋タイプ）4名定員',\n",
       "    'Room Price Detail': ['ポイント15%分利用で105,600円～朝食付2名税込89,760円～詳細･予約',\n",
       "     'ポイント15%分利用で110,880円～夕朝食付2名税込94,260円～詳細･予約']},\n",
       "   {'Room type': '佳ら久ルーム\\u3000露天風呂付（洋タイプ）2名定員',\n",
       "    'Room Price Detail': ['ポイント15%分利用で112,860円～夕朝食付2名税込95,940円～詳細･予約']},\n",
       "   {'Room type': '佳ら久ルーム\\u3000露天風呂付（洋タイプ）3名定員',\n",
       "    'Room Price Detail': ['ポイント15%分利用で112,860円～夕朝食付2名税込95,940円～詳細･予約',\n",
       "     'ポイント15%分利用で147,400円～朝食付2名税込125,290円～詳細･予約']},\n",
       "   {'Room type': 'デラックスルーム高層階（洋タイプ）3名定員',\n",
       "    'Room Price Detail': ['ポイント15%分利用で114,840円～夕朝食付2名税込97,620円～詳細･予約']}]},\n",
       " {'Hotel Name': 'ホテルニューグランド',\n",
       "  'Address': '神奈川県・横浜・山下町 [全230室]',\n",
       "  'Price': '84,300円～',\n",
       "  'Rooms': [{'Room type': 'タワー館スタンダード\\u3000ツイン（禁煙）',\n",
       "    'Room Price Detail': ['ポイント10%分利用で22,000円～2名税込19,800円～詳細･予約',\n",
       "     'ポイント10%分利用で30,200円～朝食付2名税込27,180円～詳細･予約',\n",
       "     'ポイント10%分利用で44,800円～夕朝食付2名税込40,320円～詳細･予約']},\n",
       "   {'Room type': 'タワー館スタンダードツイン（喫煙）',\n",
       "    'Room Price Detail': ['ポイント10%分利用で22,000円～2名税込19,800円～詳細･予約',\n",
       "     'ポイント10%分利用で30,200円～朝食付2名税込27,180円～詳細･予約',\n",
       "     'ポイント10%分利用で44,800円～夕朝食付2名税込40,320円～詳細･予約']},\n",
       "   {'Room type': '本館グランドダブル（禁煙）',\n",
       "    'Room Price Detail': ['ポイント10%分利用で23,000円～2名税込20,700円～詳細･予約',\n",
       "     'ポイント10%分利用で31,200円～朝食付2名税込28,080円～詳細･予約']},\n",
       "   {'Room type': '本館グランドツイン（禁煙）',\n",
       "    'Room Price Detail': ['ポイント10%分利用で23,000円～2名税込20,700円～詳細･予約',\n",
       "     'ポイント10%分利用で31,200円～朝食付2名税込28,080円～詳細･予約']},\n",
       "   {'Room type': 'タワー館スタンダード\\u3000ベイビューコーナーダブル（禁煙）',\n",
       "    'Room Price Detail': ['ポイント10%分利用で25,000円～2名税込22,500円～詳細･予約',\n",
       "     'ポイント10%分利用で33,200円～朝食付2名税込29,880円～詳細･予約',\n",
       "     'ポイント10%分利用で50,800円～夕朝食付2名税込45,720円～詳細･予約']},\n",
       "   {'Room type': 'タワー館スタンダード\\u3000ベイビューハリウッドツイン（禁煙）',\n",
       "    'Room Price Detail': ['ポイント10%分利用で25,000円～2名税込22,500円～詳細･予約',\n",
       "     'ポイント10%分利用で33,200円～朝食付2名税込29,880円～詳細･予約',\n",
       "     'ポイント10%分利用で50,800円～夕朝食付2名税込45,720円～詳細･予約']},\n",
       "   {'Room type': 'タワー館スタンダード\\u3000ベイビューコーナーダブル（喫煙）',\n",
       "    'Room Price Detail': ['ポイント10%分利用で25,000円～2名税込22,500円～詳細･予約',\n",
       "     'ポイント10%分利用で33,200円～朝食付2名税込29,880円～詳細･予約',\n",
       "     'ポイント10%分利用で50,800円～夕朝食付2名税込45,720円～詳細･予約']},\n",
       "   {'Room type': 'タワー館スタンダード\\u3000ベイビューハリウッドツイン（喫煙）',\n",
       "    'Room Price Detail': ['ポイント10%分利用で25,000円～2名税込22,500円～詳細･予約',\n",
       "     'ポイント10%分利用で33,200円～朝食付2名税込29,880円～詳細･予約',\n",
       "     'ポイント10%分利用で50,800円～夕朝食付2名税込45,720円～詳細･予約']},\n",
       "   {'Room type': 'タワー館スーペリアフロア\\u3000タワーサイドツイン（禁煙）',\n",
       "    'Room Price Detail': ['ポイント10%分利用で25,000円～2名税込22,500円～詳細･予約',\n",
       "     'ポイント10%分利用で33,200円～朝食付2名税込29,880円～詳細･予約']},\n",
       "   {'Room type': 'タワー館スーペリアフロア\\u3000タワーサイドダブル（禁煙）',\n",
       "    'Room Price Detail': ['ポイント10%分利用で25,000円～2名税込22,500円～詳細･予約',\n",
       "     'ポイント10%分利用で33,200円～朝食付2名税込29,880円～詳細･予約']},\n",
       "   {'Room type': '本館グランドデラックスツイン（禁煙）',\n",
       "    'Room Price Detail': ['ポイント10%分利用で26,000円～2名税込23,400円～詳細･予約',\n",
       "     'ポイント10%分利用で34,200円～朝食付2名税込30,780円～詳細･予約',\n",
       "     'ポイント10%分利用で51,800円～夕朝食付2名税込46,620円～詳細･予約']},\n",
       "   {'Room type': 'タワー館スーペリアフロア\\u3000ベイサイドツイン（禁煙）',\n",
       "    'Room Price Detail': ['ポイント10%分利用で26,000円～2名税込23,400円～詳細･予約',\n",
       "     'ポイント10%分利用で34,200円～朝食付2名税込30,780円～詳細･予約',\n",
       "     'ポイント10%分利用で51,800円～夕朝食付2名税込46,620円～詳細･予約']},\n",
       "   {'Room type': 'タワー館スーペリアフロア\\u3000ベイサイドダブル（禁煙）',\n",
       "    'Room Price Detail': ['ポイント10%分利用で26,000円～2名税込23,400円～詳細･予約',\n",
       "     'ポイント10%分利用で34,200円～朝食付2名税込30,780円～詳細･予約',\n",
       "     'ポイント10%分利用で51,800円～夕朝食付2名税込46,620円～詳細･予約']},\n",
       "   {'Room type': 'タワー館スーペリアフロア\\u3000ベイフロントハリウッドツイン（禁煙',\n",
       "    'Room Price Detail': ['ポイント10%分利用で28,000円～2名税込25,200円～詳細･予約',\n",
       "     'ポイント10%分利用で36,200円～朝食付2名税込32,580円～詳細･予約',\n",
       "     'ポイント10%分利用で53,800円～夕朝食付2名税込48,420円～詳細･予約']},\n",
       "   {'Room type': 'タワー館スーペリアフロア\\u3000ベイフロントコーナーダブル（禁煙）',\n",
       "    'Room Price Detail': ['ポイント10%分利用で28,000円～2名税込25,200円～詳細･予約',\n",
       "     'ポイント10%分利用で36,200円～朝食付2名税込32,580円～詳細･予約',\n",
       "     'ポイント10%分利用で53,800円～夕朝食付2名税込48,420円～詳細･予約']},\n",
       "   {'Room type': 'タワー館グランドクラブフロア\\u3000高層階ツイン（禁煙）',\n",
       "    'Room Price Detail': ['ポイント10%分利用で33,000円～2名税込29,700円～詳細･予約',\n",
       "     'ポイント10%分利用で41,200円～朝食付2名税込37,080円～詳細･予約',\n",
       "     'ポイント10%分利用で58,800円～夕朝食付2名税込52,920円～詳細･予約']},\n",
       "   {'Room type': 'タワー館グランドクラブフロア\\u3000高層階ダブル（禁煙）',\n",
       "    'Room Price Detail': ['ポイント10%分利用で33,000円～2名税込29,700円～詳細･予約',\n",
       "     'ポイント10%分利用で41,200円～朝食付2名税込37,080円～詳細･予約',\n",
       "     'ポイント10%分利用で58,800円～夕朝食付2名税込52,920円～詳細･予約']},\n",
       "   {'Room type': 'タワー館グランドクラブフロア\\u3000ベイビューハリウッドツイン禁煙',\n",
       "    'Room Price Detail': ['ポイント10%分利用で36,000円～2名税込32,400円～詳細･予約',\n",
       "     'ポイント10%分利用で44,200円～朝食付2名税込39,780円～詳細･予約']},\n",
       "   {'Room type': 'タワー館グランドクラブフロア\\u3000ベイビューコーナーダブル（禁煙',\n",
       "    'Room Price Detail': ['ポイント10%分利用で36,000円～2名税込32,400円～詳細･予約',\n",
       "     'ポイント10%分利用で44,200円～朝食付2名税込39,780円～詳細･予約']},\n",
       "   {'Room type': 'タワー館スーペリアフロア\\u3000ベイサイドツイン（AT）',\n",
       "    'Room Price Detail': ['ポイント10%分利用で60,400円～朝食付2名税込54,360円～詳細･予約']},\n",
       "   {'Room type': '本館グランドスイート\\u3000ツイン（禁煙）',\n",
       "    'Room Price Detail': ['ポイント10%分利用で81,000円～2名税込72,900円～詳細･予約',\n",
       "     'ポイント10%分利用で89,200円～朝食付2名税込80,280円～詳細･予約']},\n",
       "   {'Room type': '本館グランドスイート\\u3000ダブル（禁煙）',\n",
       "    'Room Price Detail': ['ポイント10%分利用で81,000円～2名税込72,900円～詳細･予約',\n",
       "     'ポイント10%分利用で89,200円～朝食付2名税込80,280円～詳細･予約']},\n",
       "   {'Room type': 'タワー館グランドクラブフロア\\u3000セミスイートハリウッドツイン',\n",
       "    'Room Price Detail': ['ポイント10%分利用で81,000円～2名税込72,900円～詳細･予約',\n",
       "     'ポイント10%分利用で89,200円～朝食付2名税込80,280円～詳細･予約']},\n",
       "   {'Room type': 'タワー館グランドクラブフロア\\u3000プルミエスイート\\u3000ツイン（禁煙',\n",
       "    'Room Price Detail': ['ポイント10%分利用で86,000円～2名税込77,400円～詳細･予約',\n",
       "     'ポイント10%分利用で94,200円～朝食付2名税込84,780円～詳細･予約',\n",
       "     'ポイント10%分利用で134,800円～夕朝食付2名税込121,320円～詳細･予約']},\n",
       "   {'Room type': 'タワー館グランドクラブフロア\\u3000プルミエスイート\\u3000ダブル（禁煙',\n",
       "    'Room Price Detail': ['ポイント10%分利用で86,000円～2名税込77,400円～詳細･予約',\n",
       "     'ポイント10%分利用で94,200円～朝食付2名税込84,780円～詳細･予約',\n",
       "     'ポイント10%分利用で134,800円～夕朝食付2名税込121,320円～詳細･予約']}]},\n",
       " {'Hotel Name': 'ハレクラニ沖縄',\n",
       "  'Address': '沖縄県・恩納村 [全360室]',\n",
       "  'Price': '84,300円～',\n",
       "  'Rooms': [{'Room type': 'デラックスオーシャンビュー キング',\n",
       "    'Room Price Detail': ['ポイント2%分利用で56,926円～2名税込55,788円～詳細･予約',\n",
       "     'ポイント2%分利用で58,064円～朝食付2名税込56,904円～詳細･予約']},\n",
       "   {'Room type': 'デラックスオーシャンビュー ツイン',\n",
       "    'Room Price Detail': ['ポイント2%分利用で56,926円～2名税込55,788円～詳細･予約',\n",
       "     'ポイント2%分利用で58,064円～朝食付2名税込56,904円～詳細･予約']},\n",
       "   {'Room type': 'デラックスオーシャンビュー サンセットウイング ツイン',\n",
       "    'Room Price Detail': ['ポイント2%分利用で56,926円～2名税込55,788円～詳細･予約',\n",
       "     'ポイント2%分利用で58,064円～朝食付2名税込56,904円～詳細･予約']},\n",
       "   {'Room type': 'デラックスオーシャンビュー サンセットウイング キング',\n",
       "    'Room Price Detail': ['ポイント2%分利用で60,720円～2名税込59,506円～詳細･予約',\n",
       "     'ポイント2%分利用で61,290円～朝食付2名税込60,066円～詳細･予約']},\n",
       "   {'Room type': 'プレミアオーシャンビュー キング',\n",
       "    'Room Price Detail': ['ポイント2%分利用で64,516円～2名税込63,226円～詳細･予約',\n",
       "     'ポイント2%分利用で64,516円～朝食付2名税込63,226円～詳細･予約']},\n",
       "   {'Room type': 'プレミアオーシャンビュー ツイン',\n",
       "    'Room Price Detail': ['ポイント2%分利用で64,516円～2名税込63,226円～詳細･予約',\n",
       "     'ポイント2%分利用で64,516円～朝食付2名税込63,226円～詳細･予約']},\n",
       "   {'Room type': 'プレミアオーシャンフロント キング',\n",
       "    'Room Price Detail': ['ポイント2%分利用で70,966円～朝食付2名税込69,548円～詳細･予約',\n",
       "     'ポイント2%分利用で72,106円～2名税込70,664円～詳細･予約']},\n",
       "   {'Room type': 'プレミアオーシャンフロント ツイン',\n",
       "    'Room Price Detail': ['ポイント2%分利用で70,966円～朝食付2名税込69,548円～詳細･予約',\n",
       "     'ポイント2%分利用で72,106円～2名税込70,664円～詳細･予約']},\n",
       "   {'Room type': 'エグゼクティブオーシャンスイート キング',\n",
       "    'Room Price Detail': ['ポイント2%分利用で103,224円～朝食付2名税込101,160円～詳細･予約',\n",
       "     'ポイント2%分利用で110,056円～2名税込107,856円～詳細･予約']},\n",
       "   {'Room type': 'エグゼクティブオーシャンフロントスイート ツイン',\n",
       "    'Room Price Detail': ['ポイント2%分利用で109,676円～朝食付2名税込107,484円～詳細･予約',\n",
       "     'ポイント2%分利用で117,646円～2名税込115,294円～詳細･予約']},\n",
       "   {'Room type': 'エグゼクティブオーシャンフロントスイート キング',\n",
       "    'Room Price Detail': ['ポイント2%分利用で109,676円～朝食付2名税込107,484円～詳細･予約',\n",
       "     'ポイント2%分利用で117,646円～2名税込115,294円～詳細･予約']},\n",
       "   {'Room type': 'プレミアクラブオーシャンフロント キング\\u3000※ラウンジ利用付※',\n",
       "    'Room Price Detail': ['ポイント2%分利用で109,676円～朝食付2名税込107,484円～詳細･予約',\n",
       "     'ポイント2%分利用で117,646円～2名税込115,294円～詳細･予約']},\n",
       "   {'Room type': 'プレミアクラブオーシャンフロント ツイン\\u3000※ラウンジ利用付※',\n",
       "    'Room Price Detail': ['ポイント2%分利用で109,676円～朝食付2名税込107,484円～詳細･予約',\n",
       "     'ポイント2%分利用で117,646円～2名税込115,294円～詳細･予約']},\n",
       "   {'Room type': 'コーラルスイート ツイン',\n",
       "    'Room Price Detail': ['ポイント2%分利用で151,610円～朝食付2名税込148,578円～詳細･予約',\n",
       "     'ポイント2%分利用で166,980円～2名税込163,642円～詳細･予約']},\n",
       "   {'Room type': 'コーラルスイート キング',\n",
       "    'Room Price Detail': ['ポイント2%分利用で151,610円～朝食付2名税込148,578円～詳細･予約',\n",
       "     'ポイント2%分利用で166,980円～2名税込163,642円～詳細･予約']},\n",
       "   {'Room type': 'クリフヴィラ\\u3000※ラウンジ利用・専用プール・天然温泉付※',\n",
       "    'Room Price Detail': ['ポイント2%分利用で277,414円～朝食付2名税込271,866円～詳細･予約',\n",
       "     'ポイント2%分利用で314,986円～2名税込308,688円～詳細･予約']},\n",
       "   {'Room type': 'ハレクラニクリフヴィラ\\u3000※ラウンジ利用・プール・天然温泉付※',\n",
       "    'Room Price Detail': ['ポイント2%分利用で490,314円～朝食付2名税込480,508円～詳細･予約',\n",
       "     'ポイント2%分利用で565,456円～2名税込554,148円～詳細･予約']}]},\n",
       " {'Hotel Name': 'シギラベイサイドスイート アラマンダ',\n",
       "  'Address': '沖縄県・宮古島 [全174室]',\n",
       "  'Price': '84,300円～',\n",
       "  'Rooms': [{'Room type': 'ジャグジースイート・グリーンビュー1F＜テラスジャグジー付＞',\n",
       "    'Room Price Detail': ['ポイント20%分利用で34,340円～朝食付2名税込27,480円～詳細･予約']},\n",
       "   {'Room type': 'スーペリアスイート1F-4F＜デイベッド付＞',\n",
       "    'Room Price Detail': ['ポイント20%分利用で36,200円～朝食付2名税込28,960円～詳細･予約']},\n",
       "   {'Room type': 'ジャグジースイート1F-4F＜キッチン・テラスジャグジー付＞',\n",
       "    'Room Price Detail': ['ポイント20%分利用で39,100円～朝食付2名税込31,280円～詳細･予約']},\n",
       "   {'Room type': 'プールヴィララグーンスイート 1F-3F＜ラウンジ利用付＞',\n",
       "    'Room Price Detail': ['ポイント20%分利用で45,900円～朝食付2名税込36,720円～詳細･予約']},\n",
       "   {'Room type': 'プールヴィララグーンスイート ダブルルーム3F\\u3000ラウンジ利用',\n",
       "    'Room Price Detail': ['ポイント20%分利用で45,900円～朝食付2名税込36,720円～詳細･予約']},\n",
       "   {'Room type': 'プールヴィララグーンスイート最上階・4F＜ラウンジ利用付＞',\n",
       "    'Room Price Detail': ['ポイント20%分利用で51,340円～朝食付2名税込41,080円～詳細･予約']},\n",
       "   {'Room type': '＜愛犬ルーム＞プールヴィララグーンスイート1F\\u3000ラウンジ利用',\n",
       "    'Room Price Detail': ['ポイント20%分利用で54,000円～朝食付2名税込43,200円～詳細･予約']},\n",
       "   {'Room type': '部屋タイプ指定なし（禁煙）',\n",
       "    'Room Price Detail': ['ポイント20%分利用で63,800円～朝食付2名税込51,040円～詳細･予約']},\n",
       "   {'Room type': 'プールヴィラロイヤルスイート＜温水プール・サウナ・ラウンジ＞',\n",
       "    'Room Price Detail': ['ポイント20%分利用で67,660円～朝食付2名税込54,140円～詳細･予約']}]},\n",
       " {'Hotel Name': 'シャングリ・ラ 東京',\n",
       "  'Address': '東京都・丸の内・東京駅隣接 [全200室]',\n",
       "  'Price': '84,300円～',\n",
       "  'Rooms': [{'Room type': '【禁煙】デラックスキングルーム',\n",
       "    'Room Price Detail': ['ポイント2%分利用で104,362円～2名税込102,276円～詳細･予約',\n",
       "     'ポイント2%分利用で120,048円～朝食付2名税込117,648円～詳細･予約']},\n",
       "   {'Room type': '【禁煙】デラックスツインルーム',\n",
       "    'Room Price Detail': ['ポイント2%分利用で104,362円～2名税込102,276円～詳細･予約',\n",
       "     'ポイント2%分利用で120,048円～朝食付2名税込117,648円～詳細･予約']},\n",
       "   {'Room type': '【禁煙】デラックス インペリアルガーデンビューキングルーム',\n",
       "    'Room Price Detail': ['ポイント2%分利用で110,686円～2名税込108,474円～詳細･予約',\n",
       "     'ポイント2%分利用で126,372円～朝食付2名税込123,846円～詳細･予約']},\n",
       "   {'Room type': '【禁煙】デラックス インペリアルガーデンビューツインルーム',\n",
       "    'Room Price Detail': ['ポイント2%分利用で110,686円～2名税込108,474円～詳細･予約',\n",
       "     'ポイント2%分利用で126,372円～朝食付2名税込123,846円～詳細･予約']},\n",
       "   {'Room type': '【禁煙】プレミアルーム',\n",
       "    'Room Price Detail': ['ポイント2%分利用で129,662円～2名税込127,070円～詳細･予約',\n",
       "     'ポイント2%分利用で145,348円～朝食付2名税込142,442円～詳細･予約']},\n",
       "   {'Room type': 'ホライゾンデラックスキングルーム',\n",
       "    'Room Price Detail': ['ポイント2%分利用で151,800円～朝食付2名税込148,764円～詳細･予約']},\n",
       "   {'Room type': 'ホライゾンデラックスインペリアルガーデンビューキングルーム',\n",
       "    'Room Price Detail': ['ポイント2%分利用で154,962円～朝食付2名税込151,864円～詳細･予約']},\n",
       "   {'Room type': 'ホライゾンデラックスインペリアルガーデンビューツインルーム',\n",
       "    'Room Price Detail': ['ポイント2%分利用で158,124円～朝食付2名税込154,962円～詳細･予約']},\n",
       "   {'Room type': 'ホライゾンデラックスツインルーム',\n",
       "    'Room Price Detail': ['ポイント2%分利用で164,450円～朝食付2名税込161,162円～詳細･予約']},\n",
       "   {'Room type': '【禁煙】エグゼクティブスイート',\n",
       "    'Room Price Detail': ['ポイント2%分利用で167,612円～朝食付2名税込164,260円～詳細･予約']},\n",
       "   {'Room type': '【禁煙】プレミアスイート（部屋タイプお任せツインorキング）',\n",
       "    'Room Price Detail': ['ポイント2%分利用で294,112円～朝食付2名税込288,230円～詳細･予約']}]},\n",
       " {'Hotel Name': 'ザ・キャピトルホテル 東急',\n",
       "  'Address': '東京都・溜池山王駅・国会議事堂前駅直結 [全251室]',\n",
       "  'Price': '84,300円～',\n",
       "  'Rooms': [{'Room type': 'デラックスハリウッドツイン【禁煙】',\n",
       "    'Room Price Detail': ['ポイント17%分利用+割引で101,832円～2名税込76,078円～詳細･予約',\n",
       "     'ポイント17%分利用+割引で113,470円～朝食付2名税込84,767円～詳細･予約']},\n",
       "   {'Room type': 'デラックスキング【禁煙】',\n",
       "    'Room Price Detail': ['ポイント17%分利用+割引で101,832円～2名税込76,078円～詳細･予約',\n",
       "     'ポイント17%分利用+割引で113,470円～朝食付2名税込84,767円～詳細･予約']},\n",
       "   {'Room type': 'デラックスキング【喫煙】',\n",
       "    'Room Price Detail': ['ポイント17%分利用+割引で109,104円～2名税込81,517円～詳細･予約',\n",
       "     'ポイント17%分利用+割引で120,742円～朝食付2名税込90,206円～詳細･予約']},\n",
       "   {'Room type': 'プレミアコーナーツイン【禁煙】',\n",
       "    'Room Price Detail': ['ポイント17%分利用+割引で130,926円～2名税込97,808円～詳細･予約',\n",
       "     'ポイント17%分利用+割引で142,564円～朝食付2名税込106,497円～詳細･予約']},\n",
       "   {'Room type': 'プレミアコーナーキング【禁煙】',\n",
       "    'Room Price Detail': ['ポイント17%分利用+割引で130,926円～2名税込97,808円～詳細･予約',\n",
       "     'ポイント17%分利用+割引で142,564円～朝食付2名税込106,497円～詳細･予約']},\n",
       "   {'Room type': 'プレミアコーナーツイン【喫煙】',\n",
       "    'Room Price Detail': ['ポイント17%分利用+割引で138,200円～2名税込103,249円～詳細･予約']},\n",
       "   {'Room type': 'プレミアコーナーツイン ビューバス【禁煙】',\n",
       "    'Room Price Detail': ['ポイント17%分利用+割引で138,200円～2名税込103,249円～詳細･予約',\n",
       "     'ポイント17%分利用+割引で169,444円～朝食付2名税込126,575円～詳細･予約']},\n",
       "   {'Room type': 'プレミアコーナーキング ビューバス【禁煙】',\n",
       "    'Room Price Detail': ['ポイント17%分利用+割引で138,200円～2名税込103,249円～詳細･予約',\n",
       "     'ポイント17%分利用+割引で169,444円～朝食付2名税込126,575円～詳細･予約']},\n",
       "   {'Room type': 'クラブデラックスキング【禁煙】',\n",
       "    'Room Price Detail': ['ポイント17%分利用+割引で145,474円～朝食付2名税込108,675円～詳細･予約']},\n",
       "   {'Room type': 'クラブデラックスハリウッド【禁煙】',\n",
       "    'Room Price Detail': ['ポイント17%分利用+割引で145,474円～朝食付2名税込108,675円～詳細･予約']},\n",
       "   {'Room type': 'プレミアキング【禁煙】',\n",
       "    'Room Price Detail': ['ポイント17%分利用+割引で145,474円～2名税込108,675円～詳細･予約',\n",
       "     'ポイント17%分利用+割引で157,112円～朝食付2名税込117,364円～詳細･予約']},\n",
       "   {'Room type': 'ユニバーサルコーナーツイン【禁煙】',\n",
       "    'Room Price Detail': ['ポイント17%分利用+割引で167,548円～朝食付2名税込125,175円～詳細･予約']},\n",
       "   {'Room type': 'クラブプレミアコーナーツイン【禁煙】',\n",
       "    'Room Price Detail': ['ポイント17%分利用+割引で189,116円～朝食付2名税込141,272円～詳細･予約']},\n",
       "   {'Room type': 'ドッグフレンドリープレミアコーナーツイン【禁煙】',\n",
       "    'Room Price Detail': ['ポイント17%分利用+割引で199,164円～朝食付2名税込148,784円～詳細･予約']},\n",
       "   {'Room type': 'クラブプレミアキング【禁煙】',\n",
       "    'Room Price Detail': ['ポイント17%分利用+割引で203,664円～朝食付2名税込152,154円～詳細･予約']},\n",
       "   {'Room type': 'ドッグフレンドリープレミアキング【禁煙】',\n",
       "    'Room Price Detail': ['ポイント17%分利用+割引で213,712円～朝食付2名税込159,651円～詳細･予約']},\n",
       "   {'Room type': 'コネクティングルーム【禁煙】',\n",
       "    'Room Price Detail': ['ポイント17%分利用+割引で232,760円～2名税込173,886円～詳細･予約',\n",
       "     'ポイント17%分利用+割引で244,398円～朝食付2名税込182,577円～詳細･予約']},\n",
       "   {'Room type': 'ジュニアスイート【禁煙】',\n",
       "    'Room Price Detail': ['ポイント17%分利用+割引で247,306円～朝食付2名税込184,751円～詳細･予約']},\n",
       "   {'Room type': 'エグゼクティブスイート\\u3000キング\\u3000【禁煙】',\n",
       "    'Room Price Detail': ['ポイント17%分利用+割引で436,424円～朝食付2名税込326,023円～詳細･予約']},\n",
       "   {'Room type': 'エグゼクティブスイート\\u3000ツイン【禁煙】',\n",
       "    'Room Price Detail': ['ポイント17%分利用+割引で436,424円～朝食付2名税込326,023円～詳細･予約']},\n",
       "   {'Room type': 'ガーデンスイート ツイン 【禁煙】',\n",
       "    'Room Price Detail': ['ポイント17%分利用+割引で581,900円～朝食付2名税込434,681円～詳細･予約']}]},\n",
       " {'Hotel Name': '熱海パールスターホテル',\n",
       "  'Address': '静岡県・熱海  / 熱海温泉[全87室]',\n",
       "  'Price': '84,300円～',\n",
       "  'Rooms': [{'Room type': 'スーペリア オーシャンビュー 室礼',\n",
       "    'Room Price Detail': ['ポイント15%分利用で64,250円～朝食付2名税込54,620円～詳細･予約',\n",
       "     'ポイント15%分利用で93,884円～夕朝食付2名税込79,814円～詳細･予約']},\n",
       "   {'Room type': 'スーペリアオーシャンビュー“ROTEN”',\n",
       "    'Room Price Detail': ['ポイント15%分利用で75,250円～朝食付2名税込63,970円～詳細･予約',\n",
       "     'ポイント15%分利用で121,866円～夕朝食付2名税込103,596円～詳細･予約']},\n",
       "   {'Room type': 'デラックス\\u3000オーシャンビュー\\u3000“ROTEN”\\u3000（高層階）',\n",
       "    'Room Price Detail': ['ポイント15%分利用で86,140円～朝食付2名税込73,225円～詳細･予約',\n",
       "     'ポイント15%分利用で132,212円～夕朝食付2名税込112,382円～詳細･予約']},\n",
       "   {'Room type': 'デラックス\\u3000オーシャンビュー\\u3000“ROTEN”\\u3000室礼',\n",
       "    'Room Price Detail': ['ポイント15%分利用で86,140円～朝食付2名税込73,225円～詳細･予約',\n",
       "     'ポイント15%分利用で132,212円～夕朝食付2名税込112,382円～詳細･予約']},\n",
       "   {'Room type': 'DX オーシャンビュー “VIEW BATH” 室礼',\n",
       "    'Room Price Detail': ['ポイント15%分利用で109,340円～朝食付2名税込92,945円～詳細･予約',\n",
       "     'ポイント15%分利用で127,974円～夕朝食付2名税込108,789円～詳細･予約']},\n",
       "   {'Room type': '【バリアフリー対応】ユニバーサル オーシャンビュー ツイン',\n",
       "    'Room Price Detail': ['ポイント15%分利用で109,340円～朝食付2名税込92,945円～詳細･予約',\n",
       "     'ポイント15%分利用で143,802円～夕朝食付2名税込122,232円～詳細･予約']},\n",
       "   {'Room type': 'スイート\\u3000ヒルサイド\\u3000“TERRACE BATH”\\u3000（街側）',\n",
       "    'Room Price Detail': ['ポイント15%分利用で163,350円～朝食付2名税込138,855円～詳細･予約',\n",
       "     'ポイント15%分利用で195,110円～夕朝食付2名税込165,845円～詳細･予約']},\n",
       "   {'Room type': 'スイートヒルサイド“TERRACE BATH”室礼（街側）',\n",
       "    'Room Price Detail': ['ポイント15%分利用で163,350円～朝食付2名税込138,855円～詳細･予約',\n",
       "     'ポイント15%分利用で195,110円～夕朝食付2名税込165,845円～詳細･予約']},\n",
       "   {'Room type': 'ジュニアスイート\\u3000オーシャンビュー\\u3000“ROTEN”',\n",
       "    'Room Price Detail': ['ポイント15%分利用で179,684円～朝食付2名税込152,744円～詳細･予約',\n",
       "     'ポイント15%分利用で210,630円～夕朝食付2名税込179,040円～詳細･予約']},\n",
       "   {'Room type': 'プレミアスイート\\u3000オーシャンビュー\\u3000“ROTEN”',\n",
       "    'Room Price Detail': ['ポイント15%分利用で359,370円～朝食付2名税込305,475円～詳細･予約',\n",
       "     'ポイント15%分利用で381,330円～夕朝食付2名税込324,135円～詳細･予約']}]},\n",
       " {'Hotel Name': 'ROKU KYOTO, LXR Hotels & Resorts',\n",
       "  'Address': '京都府・京都市  / 京都温泉[全114室]',\n",
       "  'Price': '84,300円～',\n",
       "  'Rooms': [{'Room type': 'デラックスルーム キング',\n",
       "    'Room Price Detail': ['ポイント2%分利用で118,536円～2名税込116,172円～詳細･予約',\n",
       "     'ポイント2%分利用で128,928円～朝食付2名税込126,356円～詳細･予約',\n",
       "     'ポイント2%分利用で166,244円～夕朝食付2名税込162,926円～詳細･予約',\n",
       "     'ポイント2%分利用で178,464円～朝昼食付2名税込174,902円～詳細･予約']},\n",
       "   {'Room type': 'デラックスルーム ツイン',\n",
       "    'Room Price Detail': ['ポイント2%分利用で120,578円～2名税込118,174円～詳細･予約',\n",
       "     'ポイント2%分利用で130,698円～朝食付2名税込128,092円～詳細･予約',\n",
       "     'ポイント2%分利用で166,244円～夕朝食付2名税込162,926円～詳細･予約',\n",
       "     'ポイント2%分利用で178,718円～朝昼食付2名税込175,150円～詳細･予約']},\n",
       "   {'Room type': '鷹峯デラックスルーム キング',\n",
       "    'Room Price Detail': ['ポイント2%分利用で134,366円～朝食付2名税込131,686円～詳細･予約',\n",
       "     'ポイント2%分利用で135,126円～2名税込132,430円～詳細･予約',\n",
       "     'ポイント2%分利用で172,570円～夕朝食付2名税込169,126円～詳細･予約',\n",
       "     'ポイント2%分利用で190,356円～朝昼食付2名税込186,556円～詳細･予約']},\n",
       "   {'Room type': '鷹峯デラックスルーム ツイン',\n",
       "    'Room Price Detail': ['ポイント2%分利用で134,366円～朝食付2名税込131,686円～詳細･予約',\n",
       "     'ポイント2%分利用で135,126円～2名税込132,430円～詳細･予約',\n",
       "     'ポイント2%分利用で172,570円～夕朝食付2名税込169,126円～詳細･予約',\n",
       "     'ポイント2%分利用で189,976円～朝昼食付2名税込186,184円～詳細･予約']},\n",
       "   {'Room type': 'プレミアデラックスルーム キング',\n",
       "    'Room Price Detail': ['ポイント2%分利用で138,858円～2名税込136,088円～詳細･予約',\n",
       "     'ポイント2%分利用で149,040円～朝食付2名税込146,066円～詳細･予約',\n",
       "     'ポイント2%分利用で187,750円～夕朝食付2名税込184,002円～詳細･予約',\n",
       "     'ポイント2%分利用で205,030円～朝昼食付2名税込200,936円～詳細･予約']},\n",
       "   {'Room type': 'プレミアデラックスルーム ツイン',\n",
       "    'Room Price Detail': ['ポイント2%分利用で138,858円～2名税込136,088円～詳細･予約',\n",
       "     'ポイント2%分利用で149,040円～朝食付2名税込146,066円～詳細･予約',\n",
       "     'ポイント2%分利用で187,750円～夕朝食付2名税込184,002円～詳細･予約',\n",
       "     'ポイント2%分利用で205,156円～朝昼食付2名税込201,060円～詳細･予約']},\n",
       "   {'Room type': 'パノラマデラックスルーム キング',\n",
       "    'Room Price Detail': ['ポイント2%分利用で138,920円～2名税込136,148円～詳細･予約',\n",
       "     'ポイント2%分利用で139,300円～朝食付2名税込136,520円～詳細･予約',\n",
       "     'ポイント2%分利用で176,364円～夕朝食付2名税込172,844円～詳細･予約',\n",
       "     'ポイント2%分利用で193,772円～朝昼食付2名税込189,904円～詳細･予約']},\n",
       "   {'Room type': '温泉ガーデンルーム キング',\n",
       "    'Room Price Detail': ['ポイント2%分利用で149,610円～2名税込146,624円～詳細･予約',\n",
       "     'ポイント2%分利用で159,794円～朝食付2名税込156,606円～詳細･予約',\n",
       "     'ポイント2%分利用で200,400円～夕朝食付2名税込196,398円～詳細･予約',\n",
       "     'ポイント2%分利用で218,186円～朝昼食付2名税込213,830円～詳細･予約']},\n",
       "   {'Room type': '温泉ガーデンルーム ツイン',\n",
       "    'Room Price Detail': ['ポイント2%分利用で149,610円～2名税込146,624円～詳細･予約',\n",
       "     'ポイント2%分利用で159,794円～朝食付2名税込156,606円～詳細･予約',\n",
       "     'ポイント2%分利用で200,400円～夕朝食付2名税込196,398円～詳細･予約',\n",
       "     'ポイント2%分利用で217,806円～朝昼食付2名税込213,456円～詳細･予約']},\n",
       "   {'Room type': 'プールサイドテラスルーム キング',\n",
       "    'Room Price Detail': ['ポイント2%分利用で161,438円～2名税込158,216円～詳細･予約',\n",
       "     'ポイント2%分利用で171,558円～朝食付2名税込168,134円～詳細･予約',\n",
       "     'ポイント2%分利用で214,314円～夕朝食付2名税込210,034円～詳細･予約',\n",
       "     'ポイント2%分利用で233,998円～朝昼食付2名税込229,326円～詳細･予約']},\n",
       "   {'Room type': 'ROKUスイートルーム ツイン',\n",
       "    'Room Price Detail': ['ポイント2%分利用で386,166円～2名税込378,450円～詳細･予約',\n",
       "     'ポイント2%分利用で396,348円～朝食付2名税込388,428円～詳細･予約',\n",
       "     'ポイント2%分利用で478,700円～夕朝食付2名税込469,132円～詳細･予約',\n",
       "     'ポイント2%分利用で498,256円～朝昼食付2名税込488,298円～詳細･予約']},\n",
       "   {'Room type': 'PEAKスイートルーム キング',\n",
       "    'Room Price Detail': ['ポイント2%分利用で386,166円～2名税込378,450円～詳細･予約',\n",
       "     'ポイント2%分利用で396,348円～朝食付2名税込388,428円～詳細･予約',\n",
       "     'ポイント2%分利用で478,700円～夕朝食付2名税込469,132円～詳細･予約',\n",
       "     'ポイント2%分利用で496,106円～朝昼食付2名税込486,190円～詳細･予約']}]},\n",
       " {'Hotel Name': '東京ステーションホテル',\n",
       "  'Address': '東京都・東京駅丸の内南口直結 [全150室]',\n",
       "  'Price': '84,300円～',\n",
       "  'Rooms': [{'Room type': 'ドームサイド キング【禁煙】',\n",
       "    'Room Price Detail': ['ポイント10%分利用で65,122円～2名税込58,612円～詳細･予約',\n",
       "     'ポイント10%分利用で75,322円～朝食付2名税込67,792円～詳細･予約',\n",
       "     'ポイント10%分利用で95,322円～夕朝食付2名税込85,792円～詳細･予約']},\n",
       "   {'Room type': 'ドームサイド コンフォートキング【禁煙】',\n",
       "    'Room Price Detail': ['ポイント10%分利用で65,122円～2名税込58,612円～詳細･予約',\n",
       "     'ポイント10%分利用で75,322円～朝食付2名税込67,792円～詳細･予約',\n",
       "     'ポイント10%分利用で95,322円～夕朝食付2名税込85,792円～詳細･予約']},\n",
       "   {'Room type': 'パレスサイド コンフォートツイン【禁煙】',\n",
       "    'Room Price Detail': ['ポイント10%分利用で73,876円～2名税込66,496円～詳細･予約',\n",
       "     'ポイント10%分利用で84,076円～朝食付2名税込75,676円～詳細･予約',\n",
       "     'ポイント10%分利用で114,076円～夕朝食付2名税込102,676円～詳細･予約']},\n",
       "   {'Room type': 'パレスサイド コンフォートキング【禁煙】',\n",
       "    'Room Price Detail': ['ポイント10%分利用で73,876円～2名税込66,496円～詳細･予約',\n",
       "     'ポイント10%分利用で84,076円～朝食付2名税込75,676円～詳細･予約',\n",
       "     'ポイント10%分利用で114,076円～夕朝食付2名税込102,676円～詳細･予約']},\n",
       "   {'Room type': 'サウスウイング スーペリアツイン【喫煙】',\n",
       "    'Room Price Detail': ['ポイント10%分利用で80,150円～2名税込72,140円～詳細･予約',\n",
       "     'ポイント10%分利用で89,330円～朝食付2名税込80,400円～詳細･予約',\n",
       "     'ポイント10%分利用で119,256円～夕朝食付2名税込107,336円～詳細･予約']},\n",
       "   {'Room type': 'パレスサイド スーペリアツイン【禁煙】',\n",
       "    'Room Price Detail': ['ポイント10%分利用で81,150円～2名税込73,040円～詳細･予約',\n",
       "     'ポイント10%分利用で90,330円～朝食付2名税込81,300円～詳細･予約',\n",
       "     'ポイント10%分利用で120,368円～夕朝食付2名税込108,338円～詳細･予約']},\n",
       "   {'Room type': 'クラシック スーペリアツイン【禁煙】',\n",
       "    'Room Price Detail': ['ポイント10%分利用で84,856円～2名税込76,376円～詳細･予約',\n",
       "     'ポイント10%分利用で95,056円～朝食付2名税込85,556円～詳細･予約',\n",
       "     'ポイント10%分利用で125,056円～夕朝食付2名税込112,556円～詳細･予約']},\n",
       "   {'Room type': 'クラシック スーペリアツイン【喫煙】',\n",
       "    'Room Price Detail': ['ポイント10%分利用で84,856円～2名税込76,376円～詳細･予約',\n",
       "     'ポイント10%分利用で95,056円～朝食付2名税込85,556円～詳細･予約',\n",
       "     'ポイント10%分利用で125,056円～夕朝食付2名税込112,556円～詳細･予約']},\n",
       "   {'Room type': 'シティビュー スーペリアキング【禁煙】',\n",
       "    'Room Price Detail': ['ポイント10%分利用で90,168円～2名税込81,158円～詳細･予約',\n",
       "     'ポイント10%分利用で100,368円～朝食付2名税込90,338円～詳細･予約',\n",
       "     'ポイント10%分利用で147,668円～夕朝食付2名税込132,908円～詳細･予約']},\n",
       "   {'Room type': 'シティビュー スーペリアツイン【禁煙】',\n",
       "    'Room Price Detail': ['ポイント10%分利用で90,168円～2名税込81,158円～詳細･予約',\n",
       "     'ポイント10%分利用で100,368円～朝食付2名税込90,338円～詳細･予約']},\n",
       "   {'Room type': 'シティビュー キング【禁煙】',\n",
       "    'Room Price Detail': ['ポイント10%分利用で90,168円～2名税込81,158円～詳細･予約',\n",
       "     'ポイント10%分利用で100,368円～朝食付2名税込90,338円～詳細･予約',\n",
       "     'ポイント10%分利用で147,668円～夕朝食付2名税込132,908円～詳細･予約']},\n",
       "   {'Room type': 'パレスビュー スーペリアツイン【禁煙】',\n",
       "    'Room Price Detail': ['ポイント10%分利用で92,218円～2名税込82,998円～詳細･予約',\n",
       "     'ポイント10%分利用で102,418円～朝食付2名税込92,178円～詳細･予約',\n",
       "     'ポイント10%分利用で132,418円～夕朝食付2名税込119,178円～詳細･予約']},\n",
       "   {'Room type': 'ドームサイド スーペリアツイン【禁煙】',\n",
       "    'Room Price Detail': ['ポイント10%分利用で92,940円～2名税込83,650円～詳細･予約',\n",
       "     'ポイント10%分利用で103,140円～朝食付2名税込92,830円～詳細･予約',\n",
       "     'ポイント10%分利用で123,140円～夕朝食付2名税込110,830円～詳細･予約']},\n",
       "   {'Room type': 'ドームサイド スーペリアキング【禁煙】',\n",
       "    'Room Price Detail': ['ポイント10%分利用で92,940円～2名税込83,650円～詳細･予約',\n",
       "     'ポイント10%分利用で103,140円～朝食付2名税込92,830円～詳細･予約',\n",
       "     'ポイント10%分利用で133,140円～夕朝食付2名税込119,830円～詳細･予約']},\n",
       "   {'Room type': 'サウスウイング プレミアムツイン【喫煙】',\n",
       "    'Room Price Detail': ['ポイント10%分利用で97,682円～2名税込87,922円～詳細･予約',\n",
       "     'ポイント10%分利用で106,862円～朝食付2名税込96,182円～詳細･予約',\n",
       "     'ポイント10%分利用で158,736円～夕朝食付2名税込142,866円～詳細･予約']},\n",
       "   {'Room type': 'サウスウイング デラックスツイン【喫煙】',\n",
       "    'Room Price Detail': ['ポイント10%分利用で100,642円～2名税込90,582円～詳細･予約',\n",
       "     'ポイント10%分利用で110,842円～朝食付2名税込99,762円～詳細･予約',\n",
       "     'ポイント10%分利用で150,842円～夕朝食付2名税込135,762円～詳細･予約']},\n",
       "   {'Room type': 'パレスサイド デラックスツイン【禁煙】',\n",
       "    'Room Price Detail': ['ポイント10%分利用で102,692円～2名税込92,432円～詳細･予約',\n",
       "     'ポイント10%分利用で112,892円～朝食付2名税込101,612円～詳細･予約',\n",
       "     'ポイント10%分利用で142,892円～夕朝食付2名税込128,612円～詳細･予約']},\n",
       "   {'Room type': 'パレスビュー プレミアムツイン【禁煙】',\n",
       "    'Room Price Detail': ['ポイント19%分利用で115,444円～2名税込93,518円～詳細･予約',\n",
       "     'ポイント19%分利用で125,644円～朝食付2名税込101,780円～詳細･予約',\n",
       "     'ポイント10%分利用で145,644円～夕朝食付2名税込131,084円～詳細･予約']},\n",
       "   {'Room type': 'メゾネットツイン【禁煙】',\n",
       "    'Room Price Detail': ['ポイント19%分利用で130,232円～2名税込105,494円～詳細･予約',\n",
       "     'ポイント19%分利用で140,432円～朝食付2名税込113,756円～詳細･予約',\n",
       "     'ポイント10%分利用で160,432円～夕朝食付2名税込144,392円～詳細･予約']},\n",
       "   {'Room type': 'メゾネットキング【禁煙】',\n",
       "    'Room Price Detail': ['ポイント19%分利用で130,232円～2名税込105,494円～詳細･予約',\n",
       "     'ポイント19%分利用で140,432円～朝食付2名税込113,756円～詳細･予約',\n",
       "     'ポイント10%分利用で160,432円～夕朝食付2名税込144,392円～詳細･予約']},\n",
       "   {'Room type': 'パレスビュー プレミアムデラックスツイン【禁煙】',\n",
       "    'Room Price Detail': ['ポイント10%分利用で122,350円～2名税込110,120円～詳細･予約',\n",
       "     'ポイント10%分利用で132,550円～朝食付2名税込119,300円～詳細･予約',\n",
       "     'ポイント10%分利用で162,550円～夕朝食付2名税込146,300円～詳細･予約']},\n",
       "   {'Room type': 'パレスビュー プレミアムデラックスキング【禁煙】',\n",
       "    'Room Price Detail': ['ポイント10%分利用で122,350円～2名税込110,120円～詳細･予約',\n",
       "     'ポイント10%分利用で132,550円～朝食付2名税込119,300円～詳細･予約',\n",
       "     'ポイント10%分利用で162,550円～夕朝食付2名税込146,300円～詳細･予約']},\n",
       "   {'Room type': 'ジュニアスイートツイン【禁煙】',\n",
       "    'Room Price Detail': ['ポイント10%分利用で132,066円～2名税込118,866円～詳細･予約',\n",
       "     'ポイント10%分利用で142,266円～朝食付2名税込128,046円～詳細･予約',\n",
       "     'ポイント10%分利用で162,266円～夕朝食付2名税込146,046円～詳細･予約']},\n",
       "   {'Room type': 'ジュニアスイートキング【禁煙】',\n",
       "    'Room Price Detail': ['ポイント10%分利用で132,066円～2名税込118,866円～詳細･予約',\n",
       "     'ポイント10%分利用で142,266円～朝食付2名税込128,046円～詳細･予約',\n",
       "     'ポイント10%分利用で172,266円～夕朝食付2名税込155,046円～詳細･予約']},\n",
       "   {'Room type': 'メゾネットスイートキング【禁煙】',\n",
       "    'Room Price Detail': ['ポイント19%分利用で269,192円～2名税込218,063円～詳細･予約',\n",
       "     'ポイント19%分利用で279,392円～朝食付2名税込226,325円～詳細･予約']},\n",
       "   {'Room type': 'メゾネットスイートツイン【禁煙】',\n",
       "    'Room Price Detail': ['ポイント19%分利用で413,402円～2名税込334,856円～詳細･予約',\n",
       "     'ポイント19%分利用で423,602円～朝食付2名税込343,118円～詳細･予約']},\n",
       "   {'Room type': 'アンバサダースイートキング【禁煙】',\n",
       "    'Room Price Detail': ['ポイント10%分利用で452,444円～朝食付2名税込407,204円～詳細･予約']},\n",
       "   {'Room type': 'アンバサダースイートツイン【禁煙】',\n",
       "    'Room Price Detail': ['ポイント10%分利用で452,444円～朝食付2名税込407,204円～詳細･予約']}]},\n",
       " {'Hotel Name': 'ATAMI せかいえ',\n",
       "  'Address': '静岡県・熱海  / 熱海温泉[全25室]',\n",
       "  'Price': '84,300円～',\n",
       "  'Rooms': [{'Room type': 'オーシャンビュースーペリア',\n",
       "    'Room Price Detail': ['ポイント7%分利用で83,600円～朝食付2名税込77,748円～詳細･予約',\n",
       "     'ポイント7%分利用で88,000円～夕朝食付2名税込81,840円～詳細･予約']},\n",
       "   {'Room type': 'オーシャンビュープレミアム 月の道',\n",
       "    'Room Price Detail': ['ポイント7%分利用で95,200円～朝食付2名税込88,536円～詳細･予約',\n",
       "     'ポイント7%分利用で104,000円～夕朝食付2名税込96,720円～詳細･予約']},\n",
       "   {'Room type': 'オーシャンビュースイート',\n",
       "    'Room Price Detail': ['ポイント7%分利用で108,900円～朝食付2名税込101,277円～詳細･予約',\n",
       "     'ポイント7%分利用で113,300円～夕朝食付2名税込105,369円～詳細･予約']},\n",
       "   {'Room type': 'オーシャンビュースイート  月の道',\n",
       "    'Room Price Detail': ['ポイント7%分利用で117,700円～朝食付2名税込109,461円～詳細･予約',\n",
       "     'ポイント7%分利用で126,500円～夕朝食付2名税込117,645円～詳細･予約']},\n",
       "   {'Room type': 'オーシャンビューペントハウス KUMO NO NAMI',\n",
       "    'Room Price Detail': ['ポイント7%分利用で277,200円～夕朝食付2名税込257,796円～詳細･予約']},\n",
       "   {'Room type': 'オーシャンビューペントハウス TSUKI NO MICHI',\n",
       "    'Room Price Detail': ['ポイント7%分利用で346,500円～夕朝食付2名税込322,245円～詳細･予約']}]},\n",
       " {'Hotel Name': 'seven x seven （セブンバイセブン）石垣',\n",
       "  'Address': '沖縄県・石垣市 [全121室]',\n",
       "  'Price': '84,300円～',\n",
       "  'Rooms': [{'Room type': 'スーペリアバンク',\n",
       "    'Room Price Detail': ['ポイント30%分利用で35,156円～2名税込24,626円～詳細･予約',\n",
       "     'ポイント30%分利用で42,156円～朝食付2名税込29,526円～詳細･予約']},\n",
       "   {'Room type': 'スーペリアツイン',\n",
       "    'Room Price Detail': ['ポイント30%分利用で36,736円～2名税込25,726円～詳細･予約',\n",
       "     'ポイント30%分利用で43,736円～朝食付2名税込30,626円～詳細･予約']},\n",
       "   {'Room type': 'スーペリアツイン（オーシャンビュー）',\n",
       "    'Room Price Detail': ['ポイント30%分利用で39,500円～2名税込27,650円～詳細･予約',\n",
       "     'ポイント30%分利用で46,500円～朝食付2名税込32,550円～詳細･予約']},\n",
       "   {'Room type': 'コーナースーペリア（プールビュー）',\n",
       "    'Room Price Detail': ['ポイント30%分利用で41,080円～2名税込28,780円～詳細･予約',\n",
       "     'ポイント30%分利用で48,080円～朝食付2名税込33,680円～詳細･予約']},\n",
       "   {'Room type': 'スーペリアツイン（バリアフリー）',\n",
       "    'Room Price Detail': ['ポイント15%分利用で35,600円～2名税込30,260円～詳細･予約',\n",
       "     'ポイント15%分利用で42,600円～朝食付2名税込36,210円～詳細･予約']},\n",
       "   {'Room type': 'コーナースーペリア（オーシャンビュー）',\n",
       "    'Room Price Detail': ['ポイント30%分利用で45,030円～2名税込31,530円～詳細･予約',\n",
       "     'ポイント30%分利用で52,030円～朝食付2名税込36,430円～詳細･予約']},\n",
       "   {'Room type': 'タタミエグゼクティブバンク（プールビュー）',\n",
       "    'Room Price Detail': ['ポイント30%分利用で50,560円～2名税込35,410円～詳細･予約',\n",
       "     'ポイント30%分利用で57,560円～朝食付2名税込40,310円～詳細･予約']},\n",
       "   {'Room type': 'エグゼクティブバンク （プールビュー）',\n",
       "    'Room Price Detail': ['ポイント30%分利用で50,560円～2名税込35,410円～詳細･予約',\n",
       "     'ポイント30%分利用で57,560円～朝食付2名税込40,310円～詳細･予約']},\n",
       "   {'Room type': 'タタミエグゼクティブツイン',\n",
       "    'Room Price Detail': ['ポイント30%分利用で52,140円～2名税込36,510円～詳細･予約',\n",
       "     'ポイント30%分利用で59,140円～朝食付2名税込41,410円～詳細･予約']},\n",
       "   {'Room type': 'タタミエグゼクティブバンク（オーシャンビュー）',\n",
       "    'Room Price Detail': ['ポイント30%分利用で53,720円～2名税込37,610円～詳細･予約',\n",
       "     'ポイント30%分利用で60,720円～朝食付2名税込42,510円～詳細･予約']},\n",
       "   {'Room type': 'エグゼクティブバンク （オーシャンビュー）',\n",
       "    'Room Price Detail': ['ポイント30%分利用で53,720円～2名税込37,610円～詳細･予約',\n",
       "     'ポイント30%分利用で60,720円～朝食付2名税込42,510円～詳細･予約']},\n",
       "   {'Room type': 'エグゼクティブツイン（オーシャンビュー）',\n",
       "    'Room Price Detail': ['ポイント30%分利用で54,510円～2名税込38,160円～詳細･予約',\n",
       "     'ポイント30%分利用で61,510円～朝食付2名税込43,060円～詳細･予約']},\n",
       "   {'Room type': 'デラックスバンク with ジャグジー',\n",
       "    'Room Price Detail': ['ポイント30%分利用で58,460円～2名税込40,940円～詳細･予約',\n",
       "     'ポイント30%分利用で65,460円～朝食付2名税込45,840円～詳細･予約']},\n",
       "   {'Room type': 'デラックスバンク with ジャグジー（オーシャンビュー）',\n",
       "    'Room Price Detail': ['ポイント30%分利用で62,410円～2名税込43,690円～詳細･予約',\n",
       "     'ポイント30%分利用で69,410円～朝食付2名税込48,590円～詳細･予約']},\n",
       "   {'Room type': 'デラックスツイン（プールビュー）',\n",
       "    'Room Price Detail': ['ポイント30%分利用で64,780円～2名税込45,370円～詳細･予約',\n",
       "     'ポイント30%分利用で71,780円～朝食付2名税込50,270円～詳細･予約']},\n",
       "   {'Room type': 'デラックスツイン（オーシャンビュー）',\n",
       "    'Room Price Detail': ['ポイント30%分利用で67,940円～2名税込47,570円～詳細･予約',\n",
       "     'ポイント30%分利用で74,940円～朝食付2名税込52,470円～詳細･予約']},\n",
       "   {'Room type': 'ザ・セブン プールスイート',\n",
       "    'Room Price Detail': ['ポイント30%分利用で180,800円～朝食付2名税込126,560円～詳細･予約']},\n",
       "   {'Room type': 'ザ・セブン オーシャンスイート（オーシャンビュー）',\n",
       "    'Room Price Detail': ['ポイント30%分利用で180,800円～朝食付2名税込126,560円～詳細･予約']},\n",
       "   {'Room type': 'ザ・セブン テラススイート（オーシャンビュー）',\n",
       "    'Room Price Detail': ['ポイント30%分利用で180,800円～朝食付2名税込126,560円～詳細･予約']}]},\n",
       " {'Hotel Name': 'ザ・ホテル青龍 京都清水（The Hotel Seiryu Kyoto Kiyomizu）',\n",
       "  'Address': '京都府・清水五条 [全48室]',\n",
       "  'Price': '84,300円～',\n",
       "  'Rooms': [{'Room type': 'スタンダードキング【宿泊者専用無料ラウンジ付き】',\n",
       "    'Room Price Detail': ['ポイント7%分利用で112,500円～朝食付2名税込104,625円～詳細･予約',\n",
       "     'ポイント7%分利用で118,732円～2名税込110,423円～詳細･予約',\n",
       "     'ポイント22%分利用で171,012円～夕朝食付2名税込133,392円～詳細･予約']},\n",
       "   {'Room type': 'スーペリアキング【宿泊者専用無料ラウンジ付き】',\n",
       "    'Room Price Detail': ['ポイント7%分利用で113,500円～朝食付2名税込105,555円～詳細･予約',\n",
       "     'ポイント7%分利用で125,398円～2名税込116,627円～詳細･予約',\n",
       "     'ポイント22%分利用で178,154円～夕朝食付2名税込138,972円～詳細･予約']},\n",
       "   {'Room type': 'デラックスツイン【宿泊者専用無料ラウンジ付き】',\n",
       "    'Room Price Detail': ['ポイント7%分利用で114,500円～朝食付2名税込106,485円～詳細･予約',\n",
       "     'ポイント7%分利用で132,064円～2名税込122,824円～詳細･予約',\n",
       "     'ポイント22%分利用で185,298円～夕朝食付2名税込144,554円～詳細･予約']},\n",
       "   {'Room type': 'スタンダードコーナーキング【宿泊者専用無料ラウンジ付き】',\n",
       "    'Room Price Detail': ['ポイント7%分利用で122,066円～2名税込113,526円～詳細･予約',\n",
       "     'ポイント22%分利用で153,304円～朝食付2名税込119,578円～詳細･予約',\n",
       "     'ポイント22%分利用で174,586円～夕朝食付2名税込136,196円～詳細･予約']},\n",
       "   {'Room type': 'デラックスツイン DEN【宿泊者専用無料ラウンジ付き】',\n",
       "    'Room Price Detail': ['ポイント7%分利用で132,064円～2名税込122,824円～詳細･予約',\n",
       "     'ポイント22%分利用で164,732円～朝食付2名税込128,498円～詳細･予約',\n",
       "     'ポイント22%分利用で185,298円～夕朝食付2名税込144,554円～詳細･予約']},\n",
       "   {'Room type': 'プレミアムコーナーツイン【宿泊者専用無料ラウンジ付き】',\n",
       "    'Room Price Detail': ['ポイント7%分利用で145,402円～2名税込135,224円～詳細･予約',\n",
       "     'ポイント22%分利用で179,974円～朝食付2名税込140,396円～詳細･予約',\n",
       "     'ポイント22%分利用で199,588円～夕朝食付2名税込155,698円～詳細･予約']},\n",
       "   {'Room type': 'スーペリアツイン パゴダビュー【宿泊者専用無料ラウンジ付き】',\n",
       "    'Room Price Detail': ['ポイント7%分利用で152,074円～2名税込141,434円～詳細･予約',\n",
       "     'ポイント22%分利用で187,598円～朝食付2名税込146,348円～詳細･予約',\n",
       "     'ポイント22%分利用で206,736円～夕朝食付2名税込161,262円～詳細･予約']},\n",
       "   {'Room type': 'スーペリアキング パゴダビュー【宿泊者専用無料ラウンジ付き】',\n",
       "    'Room Price Detail': ['ポイント7%分利用で152,074円～2名税込141,434円～詳細･予約',\n",
       "     'ポイント22%分利用で187,598円～朝食付2名税込146,348円～詳細･予約',\n",
       "     'ポイント22%分利用で206,736円～夕朝食付2名税込161,262円～詳細･予約']},\n",
       "   {'Room type': 'デラックスツイン パゴダビュー【宿泊者専用無料ラウンジ付き】',\n",
       "    'Room Price Detail': ['ポイント7%分利用で158,736円～2名税込147,627円～詳細･予約',\n",
       "     'ポイント22%分利用で195,214円～朝食付2名税込152,270円～詳細･予約',\n",
       "     'ポイント22%分利用で213,876円～夕朝食付2名税込166,840円～詳細･予約']},\n",
       "   {'Room type': 'プレミアムツイン パゴダビュー【宿泊者専用無料ラウンジ付き】',\n",
       "    'Room Price Detail': ['ポイント7%分利用で172,072円～2名税込160,032円～詳細･予約',\n",
       "     'ポイント22%分利用で210,454円～朝食付2名税込164,166円～詳細･予約',\n",
       "     'ポイント22%分利用で228,162円～夕朝食付2名税込177,980円～詳細･予約']},\n",
       "   {'Room type': 'テラスツイン【宿泊者専用無料ラウンジ付き】',\n",
       "    'Room Price Detail': ['ポイント7%分利用で185,410円～2名税込172,432円～詳細･予約',\n",
       "     'ポイント22%分利用で225,696円～朝食付2名税込176,064円～詳細･予約',\n",
       "     'ポイント22%分利用で242,452円～夕朝食付2名税込189,124円～詳細･予約']},\n",
       "   {'Room type': 'ジュニアスイート クラシック【宿泊者専用無料ラウンジ付き】',\n",
       "    'Room Price Detail': ['ポイント7%分利用で185,410円～2名税込172,432円～詳細･予約',\n",
       "     'ポイント22%分利用で225,696円～朝食付2名税込176,064円～詳細･予約',\n",
       "     'ポイント22%分利用で242,452円～夕朝食付2名税込189,124円～詳細･予約']},\n",
       "   {'Room type': 'ジュニアスイート モダン【宿泊者専用無料ラウンジ付き】',\n",
       "    'Room Price Detail': ['ポイント7%分利用で185,410円～2名税込172,432円～詳細･予約',\n",
       "     'ポイント22%分利用で225,696円～朝食付2名税込176,064円～詳細･予約',\n",
       "     'ポイント22%分利用で242,452円～夕朝食付2名税込189,124円～詳細･予約']},\n",
       "   {'Room type': 'テラスツイン パゴダビュー【宿泊者専用無料ラウンジ付き】',\n",
       "    'Room Price Detail': ['ポイント7%分利用で351,554円～2名税込326,949円～詳細･予約',\n",
       "     'ポイント22%分利用で415,576円～朝食付2名税込324,166円～詳細･予約',\n",
       "     'ポイント22%分利用で420,466円～夕朝食付2名税込327,978円～詳細･予約']},\n",
       "   {'Room type': 'パノラミックスイート【宿泊者専用無料ラウンジ付き】',\n",
       "    'Room Price Detail': ['ポイント7%分利用で643,126円～2名税込598,109円～詳細･予約',\n",
       "     'ポイント22%分利用で732,862円～夕朝食付2名税込571,646円～詳細･予約',\n",
       "     'ポイント22%分利用で748,800円～朝食付2名税込584,064円～詳細･予約']}]},\n",
       " {'Hotel Name': 'ソラリア西鉄ホテル京都プレミア\\u3000三条鴨川',\n",
       "  'Address': '京都府・三条/河原町 [全200室]',\n",
       "  'Price': '84,300円～',\n",
       "  'Rooms': [{'Room type': '【禁煙】ダブル',\n",
       "    'Room Price Detail': ['ポイント19%分利用で17,000円～2名税込13,770円～詳細･予約',\n",
       "     'ポイント19%分利用で23,000円～朝食付2名税込18,630円～詳細･予約']},\n",
       "   {'Room type': '【禁煙】スタンダードツイン',\n",
       "    'Room Price Detail': ['ポイント19%分利用で17,000円～2名税込13,770円～詳細･予約',\n",
       "     'ポイント19%分利用で23,000円～朝食付2名税込18,630円～詳細･予約']},\n",
       "   {'Room type': '【禁煙】ビューバスツイン',\n",
       "    'Room Price Detail': ['ポイント19%分利用で17,000円～2名税込13,770円～詳細･予約',\n",
       "     'ポイント19%分利用で23,000円～朝食付2名税込18,630円～詳細･予約']},\n",
       "   {'Room type': '【禁煙】ガーデンツイン',\n",
       "    'Room Price Detail': ['ポイント19%分利用で22,000円～2名税込17,820円～詳細･予約',\n",
       "     'ポイント19%分利用で28,000円～朝食付2名税込22,680円～詳細･予約']},\n",
       "   {'Room type': '【禁煙】スーペリアコーナーツイン',\n",
       "    'Room Price Detail': ['ポイント19%分利用で25,000円～2名税込20,250円～詳細･予約',\n",
       "     'ポイント19%分利用で31,000円～朝食付2名税込25,110円～詳細･予約']},\n",
       "   {'Room type': '【禁煙】スーペリア鴨川ツイン',\n",
       "    'Room Price Detail': ['ポイント19%分利用で25,000円～2名税込20,250円～詳細･予約',\n",
       "     'ポイント19%分利用で31,000円～朝食付2名税込25,110円～詳細･予約']},\n",
       "   {'Room type': '【禁煙】スーペリア鴨川トリプル',\n",
       "    'Room Price Detail': ['ポイント19%分利用で31,500円～2名税込25,515円～詳細･予約',\n",
       "     'ポイント19%分利用で37,500円～朝食付2名税込30,375円～詳細･予約']},\n",
       "   {'Room type': '【禁煙】エグゼクティブツイン',\n",
       "    'Room Price Detail': ['ポイント19%分利用で38,500円～2名税込31,185円～詳細･予約',\n",
       "     'ポイント19%分利用で44,500円～朝食付2名税込36,045円～詳細･予約']},\n",
       "   {'Room type': '【禁煙】ガーデンスイート',\n",
       "    'Room Price Detail': ['ポイント19%分利用で42,000円～2名税込34,020円～詳細･予約',\n",
       "     'ポイント19%分利用で48,000円～朝食付2名税込38,880円～詳細･予約']},\n",
       "   {'Room type': '【禁煙】鴨川スイート',\n",
       "    'Room Price Detail': ['ポイント19%分利用で51,000円～2名税込41,310円～詳細･予約',\n",
       "     'ポイント19%分利用で57,000円～朝食付2名税込46,170円～詳細･予約']}]},\n",
       " {'Hotel Name': 'ウェスティン都ホテル京都',\n",
       "  'Address': '京都府・東山けあげ  / 京都温泉[全266室]',\n",
       "  'Price': '84,300円～',\n",
       "  'Rooms': [{'Room type': 'デラックスツイン',\n",
       "    'Room Price Detail': ['ポイント2%分利用で40,480円～2名税込39,672円～詳細･予約',\n",
       "     'ポイント2%分利用で48,070円～朝食付2名税込47,110円～詳細･予約']},\n",
       "   {'Room type': 'デラックスキング',\n",
       "    'Room Price Detail': ['ポイント2%分利用で40,480円～2名税込39,672円～詳細･予約',\n",
       "     'ポイント2%分利用で48,070円～朝食付2名税込47,110円～詳細･予約']},\n",
       "   {'Room type': 'デラックス平安京ビュー ツイン',\n",
       "    'Room Price Detail': ['ポイント2%分利用で50,600円～2名税込49,588円～詳細･予約',\n",
       "     'ポイント2%分利用で58,190円～朝食付2名税込57,028円～詳細･予約']},\n",
       "   {'Room type': 'デラックス平安京ビューキング',\n",
       "    'Room Price Detail': ['ポイント2%分利用で50,600円～2名税込49,588円～詳細･予約',\n",
       "     'ポイント2%分利用で58,190円～朝食付2名税込57,028円～詳細･予約']},\n",
       "   {'Room type': '【ラウンジ付】ジュニアスイート 1キング',\n",
       "    'Room Price Detail': ['ポイント2%分利用で65,984円～朝食付2名税込64,666円～詳細･予約']},\n",
       "   {'Room type': '【ラウンジ付】ジュニアスイート 2ダブル',\n",
       "    'Room Price Detail': ['ポイント2%分利用で77,630円～朝食付2名税込76,078円～詳細･予約']},\n",
       "   {'Room type': '【ラウンジ付】ジュニアスイート平安京ビュー 1キング',\n",
       "    'Room Price Detail': ['ポイント2%分利用で91,084円～朝食付2名税込89,264円～詳細･予約']},\n",
       "   {'Room type': '【ラウンジ付】ジュニアスイート平安京ビュー 2ダブル',\n",
       "    'Room Price Detail': ['ポイント2%分利用で91,084円～朝食付2名税込89,264円～詳細･予約']},\n",
       "   {'Room type': '【ラウンジ付】ラグジュアリースイート 2ダブル',\n",
       "    'Room Price Detail': ['ポイント2%分利用で111,514円～朝食付2名税込109,284円～詳細･予約']},\n",
       "   {'Room type': '【ラウンジ付】ラグジュアリースイート 1キング',\n",
       "    'Room Price Detail': ['ポイント2%分利用で111,514円～朝食付2名税込109,284円～詳細･予約']},\n",
       "   {'Room type': '【ラウンジ付】ラグジュアリースイート平安京ビュー 2ダブル',\n",
       "    'Room Price Detail': ['ポイント2%分利用で125,372円～朝食付2名税込122,866円～詳細･予約']},\n",
       "   {'Room type': '【ラウンジ付】ラグジュアリースイート平安京ビュー 1キング',\n",
       "    'Room Price Detail': ['ポイント2%分利用で142,740円～朝食付2名税込139,886円～詳細･予約']},\n",
       "   {'Room type': '【ラウンジ付】2ベッドルームスイート 1キング＆2シングル',\n",
       "    'Room Price Detail': ['ポイント2%分利用で142,740円～朝食付2名税込139,886円～詳細･予約']},\n",
       "   {'Room type': '数寄屋風別館「佳水園」天然温泉風呂付 ツイン 63～68平米',\n",
       "    'Room Price Detail': ['ポイント2%分利用で163,994円～朝食付2名税込160,716円～詳細･予約']},\n",
       "   {'Room type': '数寄屋風別館「佳水園」天然温泉風呂付 キング 70～84平米',\n",
       "    'Room Price Detail': ['ポイント2%分利用で189,576円～朝食付2名税込185,786円～詳細･予約']},\n",
       "   {'Room type': '数寄屋風別館「佳水園」天然温泉風呂付 ツイン 100平米',\n",
       "    'Room Price Detail': ['ポイント2%分利用で260,668円～朝食付2名税込255,456円～詳細･予約']}]},\n",
       " {'Hotel Name': 'ラグジュアリーホテル 風の薫MORI premier',\n",
       "  'Address': '静岡県・伊東市  / 伊東温泉[全7室]',\n",
       "  'Price': '84,300円～',\n",
       "  'Rooms': [{'Room type': '深林に佇む200cm幅キングダブル1～2名様用',\n",
       "    'Room Price Detail': ['ポイント15%分利用で71,600円～夕朝食付2名税込60,860円～詳細･予約']},\n",
       "   {'Room type': '温泉露天風呂付メゾネットツイン最大2名様',\n",
       "    'Room Price Detail': ['ポイント15%分利用で79,600円～夕朝食付2名税込67,660円～詳細･予約']},\n",
       "   {'Room type': '温泉露天風呂付メゾネットトリプル最大3名様',\n",
       "    'Room Price Detail': ['ポイント15%分利用で79,600円～夕朝食付2名税込67,660円～詳細･予約']},\n",
       "   {'Room type': '温泉内風呂付プラチナスイート（ベッドルーム3室\\u30003名～6名）',\n",
       "    'Room Price Detail': ['ポイント15%分利用で171,600円～夕朝食付2名税込145,860円～詳細･予約']}]},\n",
       " {'Hotel Name': '葉山ホテル音羽ノ森',\n",
       "  'Address': '神奈川県・湘南・葉山 [全15室]',\n",
       "  'Price': '84,300円～',\n",
       "  'Rooms': [{'Room type': 'スーペリアスイート',\n",
       "    'Room Price Detail': ['ポイント2%分利用で100,320円～夕朝食付2名税込98,314円～詳細･予約']},\n",
       "   {'Room type': 'デラックススイート',\n",
       "    'Room Price Detail': ['ポイント2%分利用で106,612円～夕朝食付2名税込104,480円～詳細･予約']},\n",
       "   {'Room type': 'デラックスバルコニースイート',\n",
       "    'Room Price Detail': ['ポイント2%分利用で112,420円～夕朝食付2名税込110,172円～詳細･予約']},\n",
       "   {'Room type': 'デラックスバルコニースイート（3名定員）',\n",
       "    'Room Price Detail': ['ポイント2%分利用で112,420円～夕朝食付2名税込110,172円～詳細･予約']},\n",
       "   {'Room type': 'デラックスジャグジースイート',\n",
       "    'Room Price Detail': ['ポイント2%分利用で122,748円～夕朝食付2名税込120,294円～詳細･予約']},\n",
       "   {'Room type': 'デラックスプールスイート',\n",
       "    'Room Price Detail': ['ポイント2%分利用で135,354円～夕朝食付2名税込132,648円～詳細･予約']},\n",
       "   {'Room type': 'コーナージャグジースイート',\n",
       "    'Room Price Detail': ['ポイント2%分利用で135,718円～夕朝食付2名税込133,004円～詳細･予約']},\n",
       "   {'Room type': 'メゾネットスイート',\n",
       "    'Room Price Detail': ['ポイント2%分利用で138,388円～夕朝食付2名税込135,622円～詳細･予約']},\n",
       "   {'Room type': 'ドッグフレンドリースイート',\n",
       "    'Room Price Detail': ['ポイント2%分利用で172,920円～夕朝食付2名税込169,462円～詳細･予約']},\n",
       "   {'Room type': 'ルーフトップテラススイート',\n",
       "    'Room Price Detail': ['ポイント2%分利用で197,340円～夕朝食付2名税込193,394円～詳細･予約']},\n",
       "   {'Room type': 'OTOWAスイート',\n",
       "    'Room Price Detail': ['ポイント2%分利用で281,160円～夕朝食付2名税込275,538円～詳細･予約']}]},\n",
       " {'Hotel Name': 'ホテル インターコンチネンタル 東京ベイ',\n",
       "  'Address': '東京都・竹芝 [全330室]',\n",
       "  'Price': '84,300円～',\n",
       "  'Rooms': [{'Room type': '2 シングル クラシック リバービュー',\n",
       "    'Room Price Detail': ['ポイント40%分利用で32,000円～2名税込19,200円～詳細･予約',\n",
       "     'ポイント40%分利用で39,000円～朝食付2名税込23,400円～詳細･予約']},\n",
       "   {'Room type': '2 シングル クラシック ベイビュー',\n",
       "    'Room Price Detail': ['ポイント40%分利用で34,250円～2名税込20,570円～詳細･予約',\n",
       "     'ポイント40%分利用で41,250円～朝食付2名税込24,770円～詳細･予約']},\n",
       "   {'Room type': '1 キング クラシック ベイビュー',\n",
       "    'Room Price Detail': ['ポイント40%分利用で34,250円～2名税込20,570円～詳細･予約',\n",
       "     'ポイント40%分利用で41,250円～朝食付2名税込24,770円～詳細･予約']},\n",
       "   {'Room type': '2 シングル クラシック リバービューハイフロア',\n",
       "    'Room Price Detail': ['ポイント40%分利用で38,750円～2名税込23,270円～詳細･予約',\n",
       "     'ポイント40%分利用で45,750円～朝食付2名税込27,470円～詳細･予約']},\n",
       "   {'Room type': '2 シングル クラシック ベイビュー ハイフロア',\n",
       "    'Room Price Detail': ['ポイント40%分利用で41,000円～2名税込24,600円～詳細･予約',\n",
       "     'ポイント40%分利用で48,000円～朝食付2名税込28,800円～詳細･予約']},\n",
       "   {'Room type': '1 キング クラシック ベイビュー ハイフロア',\n",
       "    'Room Price Detail': ['ポイント40%分利用で41,000円～2名税込24,600円～詳細･予約',\n",
       "     'ポイント40%分利用で48,000円～朝食付2名税込28,800円～詳細･予約']},\n",
       "   {'Room type': '1 キング プレミアム ベイビュー',\n",
       "    'Room Price Detail': ['ポイント40%分利用で41,750円～2名税込25,070円～詳細･予約',\n",
       "     'ポイント40%分利用で48,750円～朝食付2名税込29,270円～詳細･予約']},\n",
       "   {'Room type': '1キング クラシックリバービューNAGOMIラウンジアクセス',\n",
       "    'Room Price Detail': ['ポイント40%分利用で43,250円～夕朝食付2名税込25,970円～詳細･予約']},\n",
       "   {'Room type': '2 シングル クラシック リバービューNAGOMIラウンジ',\n",
       "    'Room Price Detail': ['ポイント40%分利用で43,250円～夕朝食付2名税込25,970円～詳細･予約']},\n",
       "   {'Room type': '2 シングル プレミアム ベイビュー ハイフロア',\n",
       "    'Room Price Detail': ['ポイント40%分利用で44,000円～2名税込26,400円～詳細･予約',\n",
       "     'ポイント40%分利用で51,000円～朝食付2名税込30,600円～詳細･予約']},\n",
       "   {'Room type': '1 キング プレミアム ベイビュー ハイフロア',\n",
       "    'Room Price Detail': ['ポイント40%分利用で44,000円～2名税込26,400円～詳細･予約',\n",
       "     'ポイント40%分利用で51,000円～朝食付2名税込30,600円～詳細･予約']},\n",
       "   {'Room type': '1 キング ジュニアスイート リバービュー',\n",
       "    'Room Price Detail': ['ポイント40%分利用で44,000円～2名税込26,400円～詳細･予約',\n",
       "     'ポイント40%分利用で51,000円～朝食付2名税込30,600円～詳細･予約']},\n",
       "   {'Room type': '2 シングル クラシック ベイビュー NAGOMIラウンジ',\n",
       "    'Room Price Detail': ['ポイント40%分利用で45,500円～夕朝食付2名税込27,300円～詳細･予約']},\n",
       "   {'Room type': '1 キング クラシック ベイビュー NAGOMIラウンジ',\n",
       "    'Room Price Detail': ['ポイント40%分利用で45,500円～夕朝食付2名税込27,300円～詳細･予約']},\n",
       "   {'Room type': '2 シングル プレミアム ベイビュー',\n",
       "    'Room Price Detail': ['ポイント40%分利用で47,000円～2名税込28,200円～詳細･予約',\n",
       "     'ポイント40%分利用で54,000円～朝食付2名税込32,400円～詳細･予約']},\n",
       "   {'Room type': '1 キング クラシック リバービュークラブラウンジアクセス',\n",
       "    'Room Price Detail': ['ポイント40%分利用で47,000円～朝食付2名税込28,200円～詳細･予約']},\n",
       "   {'Room type': '2 シングル クラシック リバービュークラブラウンジアクセス',\n",
       "    'Room Price Detail': ['ポイント40%分利用で47,000円～朝食付2名税込28,200円～詳細･予約']},\n",
       "   {'Room type': '1 キング ジュニアスイート リバービューハイフロア',\n",
       "    'Room Price Detail': ['ポイント40%分利用で47,000円～2名税込28,200円～詳細･予約',\n",
       "     'ポイント40%分利用で54,000円～朝食付2名税込32,400円～詳細･予約']},\n",
       "   {'Room type': '2 シングル プレミアム ベイビュー NAGOMIラウンジ',\n",
       "    'Room Price Detail': ['ポイント40%分利用で48,500円～夕朝食付2名税込29,100円～詳細･予約']},\n",
       "   {'Room type': '1 キング プレミアム ベイビュー NAGOMIラウンジ',\n",
       "    'Room Price Detail': ['ポイント40%分利用で48,500円～夕朝食付2名税込29,100円～詳細･予約']},\n",
       "   {'Room type': '1 キング クラシック ベイビュー クラブラウンジアクセス',\n",
       "    'Room Price Detail': ['ポイント40%分利用で49,250円～朝食付2名税込29,570円～詳細･予約']},\n",
       "   {'Room type': '2 シングル クラシック ベイビュー クラブラウンジアクセス',\n",
       "    'Room Price Detail': ['ポイント40%分利用で49,250円～朝食付2名税込29,570円～詳細･予約']},\n",
       "   {'Room type': '2 シングル プレミアム ベイビュー クラブラウンジアクセス',\n",
       "    'Room Price Detail': ['ポイント40%分利用で58,250円～朝食付2名税込34,970円～詳細･予約']},\n",
       "   {'Room type': '1 キング プレミアム ベイビュー クラブラウンジアクセス',\n",
       "    'Room Price Detail': ['ポイント40%分利用で58,250円～朝食付2名税込34,970円～詳細･予約']},\n",
       "   {'Room type': '1キング ジュニアスイート リバービューNAGOMIラウンジ',\n",
       "    'Room Price Detail': ['ポイント40%分利用で58,250円～夕朝食付2名税込34,970円～詳細･予約']},\n",
       "   {'Room type': '1キング ジュニアスイート リバービュークラブラウンジ',\n",
       "    'Room Price Detail': ['ポイント40%分利用で62,000円～朝食付2名税込37,200円～詳細･予約']},\n",
       "   {'Room type': '2 シングル クラシック リバービューハイフロア',\n",
       "    'Room Price Detail': ['ポイント40%分利用で70,000円～朝食付2名税込42,000円～詳細･予約',\n",
       "     'ポイント40%分利用で86,000円～夕朝食付2名税込51,600円～詳細･予約']},\n",
       "   {'Room type': '2 シングル クラシック ベイビュー ハイフロア',\n",
       "    'Room Price Detail': ['ポイント40%分利用で72,400円～朝食付2名税込43,440円～詳細･予約',\n",
       "     'ポイント40%分利用で88,400円～夕朝食付2名税込53,040円～詳細･予約']},\n",
       "   {'Room type': '1 キング クラシック ベイビュー ハイフロア',\n",
       "    'Room Price Detail': ['ポイント40%分利用で72,400円～朝食付2名税込43,440円～詳細･予約',\n",
       "     'ポイント40%分利用で88,400円～夕朝食付2名税込53,040円～詳細･予約']},\n",
       "   {'Room type': '2 シングル プレミアム ベイビュー',\n",
       "    'Room Price Detail': ['ポイント40%分利用で74,000円～朝食付2名税込44,400円～詳細･予約',\n",
       "     'ポイント40%分利用で90,000円～夕朝食付2名税込54,000円～詳細･予約',\n",
       "     'ポイント40%分利用で93,000円～夕食付2名税込55,800円～詳細･予約']},\n",
       "   {'Room type': '1 キング プレミアム ベイビュー',\n",
       "    'Room Price Detail': ['ポイント40%分利用で74,000円～朝食付2名税込44,400円～詳細･予約',\n",
       "     'ポイント40%分利用で90,000円～夕朝食付2名税込54,000円～詳細･予約',\n",
       "     'ポイント40%分利用で93,000円～夕食付2名税込55,800円～詳細･予約']},\n",
       "   {'Room type': '2 シングル プレミアム ベイビュー ハイフロア',\n",
       "    'Room Price Detail': ['ポイント40%分利用で78,000円～朝食付2名税込46,800円～詳細･予約',\n",
       "     'ポイント40%分利用で94,000円～夕朝食付2名税込56,400円～詳細･予約',\n",
       "     'ポイント40%分利用で97,000円～夕食付2名税込58,200円～詳細･予約']},\n",
       "   {'Room type': '1 キング プレミアム ベイビュー ハイフロア',\n",
       "    'Room Price Detail': ['ポイント40%分利用で78,000円～朝食付2名税込46,800円～詳細･予約',\n",
       "     'ポイント40%分利用で94,000円～夕朝食付2名税込56,400円～詳細･予約',\n",
       "     'ポイント40%分利用で97,000円～夕食付2名税込58,200円～詳細･予約']},\n",
       "   {'Room type': '2 シングル クラシック リバービュークラブラウンジアクセス',\n",
       "    'Room Price Detail': ['ポイント40%分利用で78,000円～朝食付2名税込46,800円～詳細･予約']},\n",
       "   {'Room type': '1 キング クラシック リバービュークラブラウンジアクセス',\n",
       "    'Room Price Detail': ['ポイント40%分利用で78,000円～朝食付2名税込46,800円～詳細･予約']},\n",
       "   {'Room type': '1 キング クラシック ベイビュー クラブラウンジアクセス',\n",
       "    'Room Price Detail': ['ポイント40%分利用で80,400円～朝食付2名税込48,240円～詳細･予約']},\n",
       "   {'Room type': '2 シングル クラシック ベイビュー クラブラウンジアクセス',\n",
       "    'Room Price Detail': ['ポイント40%分利用で80,400円～朝食付2名税込48,240円～詳細･予約']},\n",
       "   {'Room type': '2 シングル プレミアム ベイビュー クラブラウンジアクセス',\n",
       "    'Room Price Detail': ['ポイント40%分利用で86,000円～朝食付2名税込51,600円～詳細･予約',\n",
       "     'ポイント40%分利用で105,000円～夕食付2名税込63,000円～詳細･予約']},\n",
       "   {'Room type': '1 キング プレミアム ベイビュー クラブラウンジアクセス',\n",
       "    'Room Price Detail': ['ポイント40%分利用で86,000円～朝食付2名税込51,600円～詳細･予約',\n",
       "     'ポイント40%分利用で105,000円～夕食付2名税込63,000円～詳細･予約']},\n",
       "   {'Room type': '1キング ジュニアスイート リバービュークラブラウンジ',\n",
       "    'Room Price Detail': ['ポイント40%分利用で90,000円～朝食付2名税込54,000円～詳細･予約',\n",
       "     'ポイント40%分利用で109,000円～夕食付2名税込65,400円～詳細･予約']},\n",
       "   {'Room type': '2 シングル クラシック ベイビュー',\n",
       "    'Room Price Detail': ['ポイント40%分利用で93,400円～夕朝食付2名税込56,040円～詳細･予約']},\n",
       "   {'Room type': '1 キング クラシック ベイビュー',\n",
       "    'Room Price Detail': ['ポイント40%分利用で93,400円～夕朝食付2名税込56,040円～詳細･予約']},\n",
       "   {'Room type': '1 キング ジュニアスイート リバービューハイフロア',\n",
       "    'Room Price Detail': ['ポイント40%分利用で96,400円～夕朝食付2名税込57,840円～詳細･予約',\n",
       "     'ポイント40%分利用で99,400円～夕食付2名税込59,640円～詳細･予約']},\n",
       "   {'Room type': 'デザイナーズ スイート＆ルーム',\n",
       "    'Room Price Detail': ['ポイント40%分利用で107,000円～朝食付2名税込64,200円～詳細･予約',\n",
       "     'ポイント40%分利用で160,000円～2名税込96,000円～詳細･予約']},\n",
       "   {'Room type': 'デザイナーズ スイート＆ルーム（パリメゾン）',\n",
       "    'Room Price Detail': ['ポイント40%分利用で125,750円～朝食付2名税込75,470円～詳細･予約']},\n",
       "   {'Room type': 'デザイナーズ スイート＆ルーム（ラグジュアリーオリエンタル）',\n",
       "    'Room Price Detail': ['ポイント40%分利用で137,000円～朝食付2名税込82,200円～詳細･予約']},\n",
       "   {'Room type': 'デザイナーズ スイート＆ルーム',\n",
       "    'Room Price Detail': ['ポイント40%分利用で158,000円～朝食付2名税込94,800円～詳細･予約',\n",
       "     'ポイント40%分利用で187,000円～夕朝食付2名税込112,200円～詳細･予約']},\n",
       "   {'Room type': 'デザイナーズ スイート＆ルーム（パリメゾン）',\n",
       "    'Room Price Detail': ['ポイント40%分利用で174,000円～朝食付2名税込104,400円～詳細･予約',\n",
       "     'ポイント40%分利用で203,000円～夕朝食付2名税込121,800円～詳細･予約']},\n",
       "   {'Room type': 'デザイナーズ スイート＆ルーム（ラグジュアリーオリエンタル）',\n",
       "    'Room Price Detail': ['ポイント40%分利用で190,000円～朝食付2名税込114,000円～詳細･予約',\n",
       "     'ポイント40%分利用で209,000円～夕食付2名税込125,400円～詳細･予約',\n",
       "     'ポイント40%分利用で219,000円～夕朝食付2名税込131,400円～詳細･予約']}]},\n",
       " {'Hotel Name': 'ホテルニューオータニ',\n",
       "  'Address': '東京都・赤坂見附駅 徒歩3分 [全1474室]',\n",
       "  'Price': '84,300円～',\n",
       "  'Rooms': [{'Room type': '【ザ・メイン】スタンダード ダブル  禁煙',\n",
       "    'Room Price Detail': ['ポイント33%分利用で44,940円～2名税込30,123円～詳細･予約',\n",
       "     'ポイント20%分利用で58,300円～朝食付2名税込46,640円～詳細･予約',\n",
       "     'ポイント20%分利用で79,300円～夕朝食付2名税込63,440円～詳細･予約']},\n",
       "   {'Room type': '【ザ・メイン】スタンダード ツイン 禁煙',\n",
       "    'Room Price Detail': ['ポイント33%分利用で44,940円～2名税込30,123円～詳細･予約',\n",
       "     'ポイント20%分利用で58,300円～朝食付2名税込46,640円～詳細･予約',\n",
       "     'ポイント20%分利用で79,300円～夕朝食付2名税込63,440円～詳細･予約']},\n",
       "   {'Room type': '【ザ・メイン】スタンダード ツイン 喫煙',\n",
       "    'Room Price Detail': ['ポイント33%分利用で47,220円～2名税込31,644円～詳細･予約',\n",
       "     'ポイント20%分利用で58,300円～朝食付2名税込46,640円～詳細･予約']},\n",
       "   {'Room type': '【ガーデンタワー】スタンダード ダブル  禁煙',\n",
       "    'Room Price Detail': ['ポイント20%分利用で39,900円～2名税込31,920円～詳細･予約',\n",
       "     'ポイント20%分利用で48,220円～朝食付2名税込38,580円～詳細･予約']},\n",
       "   {'Room type': '【ガーデンタワー】スタンダード ツイン  禁煙',\n",
       "    'Room Price Detail': ['ポイント20%分利用で39,900円～2名税込31,920円～詳細･予約',\n",
       "     'ポイント20%分利用で48,220円～朝食付2名税込38,580円～詳細･予約']},\n",
       "   {'Room type': '【ガーデンタワー】デラックス ダブル 禁煙',\n",
       "    'Room Price Detail': ['ポイント33%分利用で49,960円～2名税込33,493円～詳細･予約',\n",
       "     'ポイント20%分利用で65,930円～朝食付2名税込52,750円～詳細･予約',\n",
       "     'ポイント20%分利用で85,400円～夕朝食付2名税込68,320円～詳細･予約']},\n",
       "   {'Room type': '【ガーデンタワー】デラックス ツイン 禁煙',\n",
       "    'Room Price Detail': ['ポイント33%分利用で49,960円～2名税込33,493円～詳細･予約',\n",
       "     'ポイント20%分利用で65,930円～朝食付2名税込52,750円～詳細･予約',\n",
       "     'ポイント20%分利用で85,400円～夕朝食付2名税込68,320円～詳細･予約']},\n",
       "   {'Room type': '【ザ・メイン】新江戸スタンダード ダブル 禁煙',\n",
       "    'Room Price Detail': ['ポイント33%分利用で50,760円～2名税込34,029円～詳細･予約',\n",
       "     'ポイント20%分利用で64,800円～朝食付2名税込51,840円～詳細･予約',\n",
       "     'ポイント20%分利用で84,400円～夕朝食付2名税込67,520円～詳細･予約']},\n",
       "   {'Room type': '【ザ・メイン】新江戸スタンダード ツイン 禁煙',\n",
       "    'Room Price Detail': ['ポイント33%分利用で50,760円～2名税込34,029円～詳細･予約',\n",
       "     'ポイント20%分利用で64,800円～朝食付2名税込51,840円～詳細･予約',\n",
       "     'ポイント20%分利用で84,400円～夕朝食付2名税込67,520円～詳細･予約']},\n",
       "   {'Room type': '【ガーデンタワー】スタンダード 日本庭園側 ダブル 禁煙',\n",
       "    'Room Price Detail': ['ポイント20%分利用で43,400円～2名税込34,720円～詳細･予約',\n",
       "     'ポイント20%分利用で52,016円～朝食付2名税込41,616円～詳細･予約']},\n",
       "   {'Room type': '【ガーデンタワー】スタンダード 日本庭園側 ツイン 禁煙',\n",
       "    'Room Price Detail': ['ポイント20%分利用で43,400円～2名税込34,720円～詳細･予約',\n",
       "     'ポイント20%分利用で52,016円～朝食付2名税込41,616円～詳細･予約']},\n",
       "   {'Room type': '【ザ・メイン】デラックス ダブル  禁煙',\n",
       "    'Room Price Detail': ['ポイント33%分利用で53,392円～2名税込35,803円～詳細･予約',\n",
       "     'ポイント20%分利用で69,726円～朝食付2名税込55,786円～詳細･予約',\n",
       "     'ポイント20%分利用で88,400円～夕朝食付2名税込70,720円～詳細･予約']},\n",
       "   {'Room type': '【ザ・メイン】デラックス ツイン 禁煙',\n",
       "    'Room Price Detail': ['ポイント33%分利用で53,392円～2名税込35,803円～詳細･予約',\n",
       "     'ポイント20%分利用で69,726円～朝食付2名税込55,786円～詳細･予約',\n",
       "     'ポイント20%分利用で88,400円～夕朝食付2名税込70,720円～詳細･予約']},\n",
       "   {'Room type': '【ザ・メイン】新江戸デラックス ダブル 禁煙',\n",
       "    'Room Price Detail': ['ポイント33%分利用で63,360円～2名税込42,471円～詳細･予約',\n",
       "     'ポイント20%分利用で77,900円～朝食付2名税込62,320円～詳細･予約',\n",
       "     'ポイント20%分利用で103,800円～夕朝食付2名税込83,040円～詳細･予約']},\n",
       "   {'Room type': '【ザ・メイン】新江戸デラックス ツイン 禁煙',\n",
       "    'Room Price Detail': ['ポイント33%分利用で63,360円～2名税込42,471円～詳細･予約',\n",
       "     'ポイント20%分利用で77,900円～朝食付2名税込62,320円～詳細･予約',\n",
       "     'ポイント20%分利用で103,800円～夕朝食付2名税込83,040円～詳細･予約']},\n",
       "   {'Room type': '【ザ・メイン】デラックス  ツイン  喫煙',\n",
       "    'Room Price Detail': ['ポイント20%分利用で70,400円～2名税込56,320円～詳細･予約',\n",
       "     'ポイント20%分利用で80,100円～朝食付2名税込64,080円～詳細･予約']},\n",
       "   {'Room type': '【ザ・メイン】デラックス（洗い場付き） ダブル 禁煙',\n",
       "    'Room Price Detail': ['ポイント20%分利用で71,900円～2名税込57,520円～詳細･予約',\n",
       "     'ポイント20%分利用で79,100円～朝食付2名税込63,280円～詳細･予約']},\n",
       "   {'Room type': '【ザ・メイン】デラックス（洗い場付き） ツイン  禁煙',\n",
       "    'Room Price Detail': ['ポイント20%分利用で71,900円～2名税込57,520円～詳細･予約',\n",
       "     'ポイント20%分利用で79,100円～朝食付2名税込63,280円～詳細･予約']},\n",
       "   {'Room type': '【ザ・メイン】ジュニアスイート  ダブル 禁煙',\n",
       "    'Room Price Detail': ['ポイント20%分利用で119,960円～朝食付2名税込95,980円～詳細･予約']},\n",
       "   {'Room type': '【ザ・メイン】ジュニアスイート  ツイン 禁煙',\n",
       "    'Room Price Detail': ['ポイント20%分利用で119,960円～朝食付2名税込95,980円～詳細･予約']},\n",
       "   {'Room type': '【ガーデンタワー】スイート ダブル 禁煙',\n",
       "    'Room Price Detail': ['ポイント20%分利用で121,840円～朝食付2名税込97,480円～詳細･予約']},\n",
       "   {'Room type': '【ガーデンタワー】スイート ツイン 禁煙',\n",
       "    'Room Price Detail': ['ポイント20%分利用で121,840円～朝食付2名税込97,480円～詳細･予約']},\n",
       "   {'Room type': '【エグゼクティブハウス 禅】 デラックス ダブル 45平米',\n",
       "    'Room Price Detail': ['ポイント20%分利用で124,900円～朝食付2名税込99,920円～詳細･予約',\n",
       "     'ポイント20%分利用で166,600円～夕朝食付2名税込133,280円～詳細･予約']},\n",
       "   {'Room type': '【エグゼクティブハウス 禅】 デラックス ツイン 45平米',\n",
       "    'Room Price Detail': ['ポイント20%分利用で124,900円～朝食付2名税込99,920円～詳細･予約',\n",
       "     'ポイント20%分利用で166,600円～夕朝食付2名税込133,280円～詳細･予約']},\n",
       "   {'Room type': '【エグゼクティブハウス 禅】 デラックス ダブル 50平米',\n",
       "    'Room Price Detail': ['ポイント20%分利用で138,900円～朝食付2名税込111,120円～詳細･予約',\n",
       "     'ポイント20%分利用で182,200円～夕朝食付2名税込145,760円～詳細･予約']},\n",
       "   {'Room type': '【エグゼクティブハウス 禅】 デラックス ツイン 50平米',\n",
       "    'Room Price Detail': ['ポイント20%分利用で138,900円～朝食付2名税込111,120円～詳細･予約',\n",
       "     'ポイント20%分利用で182,200円～夕朝食付2名税込145,760円～詳細･予約']},\n",
       "   {'Room type': '【エグゼクティブハウス 禅】ジュニアスイート ダブル',\n",
       "    'Room Price Detail': ['ポイント20%分利用で204,900円～朝食付2名税込163,920円～詳細･予約']},\n",
       "   {'Room type': '【エグゼクティブハウス 禅】ジュニアスイート ツイン',\n",
       "    'Room Price Detail': ['ポイント20%分利用で204,900円～朝食付2名税込163,920円～詳細･予約']}]}]"
      ]
     },
     "execution_count": 28,
     "metadata": {},
     "output_type": "execute_result"
    }
   ],
   "source": [
    "hotels"
   ]
  },
  {
   "cell_type": "code",
   "execution_count": 6,
   "metadata": {},
   "outputs": [
    {
     "data": {
      "text/html": [
       "<div>\n",
       "<style scoped>\n",
       "    .dataframe tbody tr th:only-of-type {\n",
       "        vertical-align: middle;\n",
       "    }\n",
       "\n",
       "    .dataframe tbody tr th {\n",
       "        vertical-align: top;\n",
       "    }\n",
       "\n",
       "    .dataframe thead th {\n",
       "        text-align: right;\n",
       "    }\n",
       "</style>\n",
       "<table border=\"1\" class=\"dataframe\">\n",
       "  <thead>\n",
       "    <tr style=\"text-align: right;\">\n",
       "      <th></th>\n",
       "      <th>Hotel Name</th>\n",
       "      <th>Address</th>\n",
       "      <th>Room Type</th>\n",
       "      <th>Room Price Detail</th>\n",
       "    </tr>\n",
       "  </thead>\n",
       "  <tbody>\n",
       "    <tr>\n",
       "      <th>0</th>\n",
       "      <td>パレスホテル東京</td>\n",
       "      <td>東京都・丸の内／大手町地下通路直結 [全284室]</td>\n",
       "      <td>デラックスキング（禁煙）</td>\n",
       "      <td>['ポイント2%分利用で86,020円～2名税込84,300円～詳細･予約', 'ポイント1...</td>\n",
       "    </tr>\n",
       "    <tr>\n",
       "      <th>1</th>\n",
       "      <td>パレスホテル東京</td>\n",
       "      <td>東京都・丸の内／大手町地下通路直結 [全284室]</td>\n",
       "      <td>デラックスキング with バルコニー（禁煙）</td>\n",
       "      <td>['ポイント7%分利用+割引で129,030円～2名税込114,004円～詳細･予約', '...</td>\n",
       "    </tr>\n",
       "    <tr>\n",
       "      <th>2</th>\n",
       "      <td>パレスホテル東京</td>\n",
       "      <td>東京都・丸の内／大手町地下通路直結 [全284室]</td>\n",
       "      <td>デラックスツイン with バルコニー（禁煙）</td>\n",
       "      <td>['ポイント7%分利用+割引で129,030円～2名税込114,004円～詳細･予約', '...</td>\n",
       "    </tr>\n",
       "    <tr>\n",
       "      <th>3</th>\n",
       "      <td>パレスホテル東京</td>\n",
       "      <td>東京都・丸の内／大手町地下通路直結 [全284室]</td>\n",
       "      <td>クラブデラックスツイン with バルコニー（禁煙）</td>\n",
       "      <td>['ポイント16%分利用+割引で178,366円～朝食付2名税込130,363円～詳細･予約']</td>\n",
       "    </tr>\n",
       "    <tr>\n",
       "      <th>4</th>\n",
       "      <td>パレスホテル東京</td>\n",
       "      <td>東京都・丸の内／大手町地下通路直結 [全284室]</td>\n",
       "      <td>クラブデラックスキング with バルコニー（禁煙）</td>\n",
       "      <td>['ポイント16%分利用+割引で178,366円～朝食付2名税込130,363円～詳細･予約']</td>\n",
       "    </tr>\n",
       "  </tbody>\n",
       "</table>\n",
       "</div>"
      ],
      "text/plain": [
       "  Hotel Name                    Address                   Room Type  \\\n",
       "0   パレスホテル東京  東京都・丸の内／大手町地下通路直結 [全284室]                デラックスキング（禁煙）   \n",
       "1   パレスホテル東京  東京都・丸の内／大手町地下通路直結 [全284室]     デラックスキング with バルコニー（禁煙）   \n",
       "2   パレスホテル東京  東京都・丸の内／大手町地下通路直結 [全284室]     デラックスツイン with バルコニー（禁煙）   \n",
       "3   パレスホテル東京  東京都・丸の内／大手町地下通路直結 [全284室]  クラブデラックスツイン with バルコニー（禁煙）   \n",
       "4   パレスホテル東京  東京都・丸の内／大手町地下通路直結 [全284室]  クラブデラックスキング with バルコニー（禁煙）   \n",
       "\n",
       "                                   Room Price Detail  \n",
       "0  ['ポイント2%分利用で86,020円～2名税込84,300円～詳細･予約', 'ポイント1...  \n",
       "1  ['ポイント7%分利用+割引で129,030円～2名税込114,004円～詳細･予約', '...  \n",
       "2  ['ポイント7%分利用+割引で129,030円～2名税込114,004円～詳細･予約', '...  \n",
       "3   ['ポイント16%分利用+割引で178,366円～朝食付2名税込130,363円～詳細･予約']  \n",
       "4   ['ポイント16%分利用+割引で178,366円～朝食付2名税込130,363円～詳細･予約']  "
      ]
     },
     "execution_count": 6,
     "metadata": {},
     "output_type": "execute_result"
    }
   ],
   "source": [
    "import pandas as pd\n",
    "df = pd.read_csv(r\"./scraped_data/hotel_data_20240822_230337.csv\")\n",
    "df.head()"
   ]
  },
  {
   "cell_type": "code",
   "execution_count": 7,
   "metadata": {},
   "outputs": [],
   "source": [
    "# Function to clean and split the Room Price Detail\n",
    "def clean_price_detail(detail_str):\n",
    "    # Remove single quotes and brackets, and then split into a list\n",
    "    detail_str = detail_str.strip(\"[]\").replace(\"'\", \"\")\n",
    "    return detail_str.split(\", \")\n"
   ]
  },
  {
   "cell_type": "code",
   "execution_count": 3,
   "metadata": {},
   "outputs": [],
   "source": []
  },
  {
   "cell_type": "code",
   "execution_count": 3,
   "metadata": {},
   "outputs": [
    {
     "data": {
      "text/html": [
       "<div>\n",
       "<style scoped>\n",
       "    .dataframe tbody tr th:only-of-type {\n",
       "        vertical-align: middle;\n",
       "    }\n",
       "\n",
       "    .dataframe tbody tr th {\n",
       "        vertical-align: top;\n",
       "    }\n",
       "\n",
       "    .dataframe thead th {\n",
       "        text-align: right;\n",
       "    }\n",
       "</style>\n",
       "<table border=\"1\" class=\"dataframe\">\n",
       "  <thead>\n",
       "    <tr style=\"text-align: right;\">\n",
       "      <th></th>\n",
       "      <th>Hotel Name</th>\n",
       "      <th>Address</th>\n",
       "      <th>Room Type</th>\n",
       "      <th>Room Price Detail</th>\n",
       "      <th>2名税込</th>\n",
       "      <th>朝食付2名税込</th>\n",
       "      <th>夕食付2名税込</th>\n",
       "    </tr>\n",
       "  </thead>\n",
       "  <tbody>\n",
       "    <tr>\n",
       "      <th>0</th>\n",
       "      <td>パレスホテル東京</td>\n",
       "      <td>東京都・丸の内／大手町地下通路直結 [全284室]</td>\n",
       "      <td>デラックスキング（禁煙）</td>\n",
       "      <td>[ポイント2%分利用で86,020円～2名税込84,300円～詳細･予約, ポイント16%分...</td>\n",
       "      <td>86,020</td>\n",
       "      <td>140,668</td>\n",
       "      <td>170,178</td>\n",
       "    </tr>\n",
       "    <tr>\n",
       "      <th>1</th>\n",
       "      <td>パレスホテル東京</td>\n",
       "      <td>東京都・丸の内／大手町地下通路直結 [全284室]</td>\n",
       "      <td>デラックスキング with バルコニー（禁煙）</td>\n",
       "      <td>[ポイント7%分利用+割引で129,030円～2名税込114,004円～詳細･予約, ポイン...</td>\n",
       "      <td>129,030</td>\n",
       "      <td>163,438</td>\n",
       "      <td>192,870</td>\n",
       "    </tr>\n",
       "    <tr>\n",
       "      <th>2</th>\n",
       "      <td>パレスホテル東京</td>\n",
       "      <td>東京都・丸の内／大手町地下通路直結 [全284室]</td>\n",
       "      <td>デラックスツイン with バルコニー（禁煙）</td>\n",
       "      <td>[ポイント7%分利用+割引で129,030円～2名税込114,004円～詳細･予約, ポイン...</td>\n",
       "      <td>129,030</td>\n",
       "      <td>163,438</td>\n",
       "      <td>192,870</td>\n",
       "    </tr>\n",
       "    <tr>\n",
       "      <th>3</th>\n",
       "      <td>パレスホテル東京</td>\n",
       "      <td>東京都・丸の内／大手町地下通路直結 [全284室]</td>\n",
       "      <td>クラブデラックスツイン with バルコニー（禁煙）</td>\n",
       "      <td>[ポイント16%分利用+割引で178,366円～朝食付2名税込130,363円～詳細･予約]</td>\n",
       "      <td>178,366</td>\n",
       "      <td>178,366</td>\n",
       "      <td>None</td>\n",
       "    </tr>\n",
       "    <tr>\n",
       "      <th>4</th>\n",
       "      <td>パレスホテル東京</td>\n",
       "      <td>東京都・丸の内／大手町地下通路直結 [全284室]</td>\n",
       "      <td>クラブデラックスキング with バルコニー（禁煙）</td>\n",
       "      <td>[ポイント16%分利用+割引で178,366円～朝食付2名税込130,363円～詳細･予約]</td>\n",
       "      <td>178,366</td>\n",
       "      <td>178,366</td>\n",
       "      <td>None</td>\n",
       "    </tr>\n",
       "    <tr>\n",
       "      <th>...</th>\n",
       "      <td>...</td>\n",
       "      <td>...</td>\n",
       "      <td>...</td>\n",
       "      <td>...</td>\n",
       "      <td>...</td>\n",
       "      <td>...</td>\n",
       "      <td>...</td>\n",
       "    </tr>\n",
       "    <tr>\n",
       "      <th>359</th>\n",
       "      <td>ウェスティン都ホテル京都</td>\n",
       "      <td>京都府・東山けあげ  / 京都温泉[全266室]</td>\n",
       "      <td>【ラウンジ付】ラグジュアリースイート平安京ビュー 1キング</td>\n",
       "      <td>[ポイント2%分利用で142,740円～朝食付2名税込139,886円～詳細･予約]</td>\n",
       "      <td>142,740</td>\n",
       "      <td>142,740</td>\n",
       "      <td>None</td>\n",
       "    </tr>\n",
       "    <tr>\n",
       "      <th>360</th>\n",
       "      <td>ウェスティン都ホテル京都</td>\n",
       "      <td>京都府・東山けあげ  / 京都温泉[全266室]</td>\n",
       "      <td>【ラウンジ付】2ベッドルームスイート 1キング＆2シングル</td>\n",
       "      <td>[ポイント2%分利用で142,740円～朝食付2名税込139,886円～詳細･予約]</td>\n",
       "      <td>142,740</td>\n",
       "      <td>142,740</td>\n",
       "      <td>None</td>\n",
       "    </tr>\n",
       "    <tr>\n",
       "      <th>361</th>\n",
       "      <td>ウェスティン都ホテル京都</td>\n",
       "      <td>京都府・東山けあげ  / 京都温泉[全266室]</td>\n",
       "      <td>数寄屋風別館「佳水園」天然温泉風呂付 ツイン 63～68平米</td>\n",
       "      <td>[ポイント2%分利用で163,994円～朝食付2名税込160,716円～詳細･予約]</td>\n",
       "      <td>163,994</td>\n",
       "      <td>163,994</td>\n",
       "      <td>None</td>\n",
       "    </tr>\n",
       "    <tr>\n",
       "      <th>362</th>\n",
       "      <td>ウェスティン都ホテル京都</td>\n",
       "      <td>京都府・東山けあげ  / 京都温泉[全266室]</td>\n",
       "      <td>数寄屋風別館「佳水園」天然温泉風呂付 キング 70～84平米</td>\n",
       "      <td>[ポイント2%分利用で189,576円～朝食付2名税込185,786円～詳細･予約]</td>\n",
       "      <td>189,576</td>\n",
       "      <td>189,576</td>\n",
       "      <td>None</td>\n",
       "    </tr>\n",
       "    <tr>\n",
       "      <th>363</th>\n",
       "      <td>ウェスティン都ホテル京都</td>\n",
       "      <td>京都府・東山けあげ  / 京都温泉[全266室]</td>\n",
       "      <td>数寄屋風別館「佳水園」天然温泉風呂付 ツイン 100平米</td>\n",
       "      <td>[ポイント2%分利用で260,668円～朝食付2名税込255,456円～詳細･予約]</td>\n",
       "      <td>260,668</td>\n",
       "      <td>260,668</td>\n",
       "      <td>None</td>\n",
       "    </tr>\n",
       "  </tbody>\n",
       "</table>\n",
       "<p>364 rows × 7 columns</p>\n",
       "</div>"
      ],
      "text/plain": [
       "       Hotel Name                    Address                       Room Type  \\\n",
       "0        パレスホテル東京  東京都・丸の内／大手町地下通路直結 [全284室]                    デラックスキング（禁煙）   \n",
       "1        パレスホテル東京  東京都・丸の内／大手町地下通路直結 [全284室]         デラックスキング with バルコニー（禁煙）   \n",
       "2        パレスホテル東京  東京都・丸の内／大手町地下通路直結 [全284室]         デラックスツイン with バルコニー（禁煙）   \n",
       "3        パレスホテル東京  東京都・丸の内／大手町地下通路直結 [全284室]      クラブデラックスツイン with バルコニー（禁煙）   \n",
       "4        パレスホテル東京  東京都・丸の内／大手町地下通路直結 [全284室]      クラブデラックスキング with バルコニー（禁煙）   \n",
       "..            ...                        ...                             ...   \n",
       "359  ウェスティン都ホテル京都   京都府・東山けあげ  / 京都温泉[全266室]   【ラウンジ付】ラグジュアリースイート平安京ビュー 1キング   \n",
       "360  ウェスティン都ホテル京都   京都府・東山けあげ  / 京都温泉[全266室]   【ラウンジ付】2ベッドルームスイート 1キング＆2シングル   \n",
       "361  ウェスティン都ホテル京都   京都府・東山けあげ  / 京都温泉[全266室]  数寄屋風別館「佳水園」天然温泉風呂付 ツイン 63～68平米   \n",
       "362  ウェスティン都ホテル京都   京都府・東山けあげ  / 京都温泉[全266室]  数寄屋風別館「佳水園」天然温泉風呂付 キング 70～84平米   \n",
       "363  ウェスティン都ホテル京都   京都府・東山けあげ  / 京都温泉[全266室]    数寄屋風別館「佳水園」天然温泉風呂付 ツイン 100平米   \n",
       "\n",
       "                                     Room Price Detail     2名税込  朝食付2名税込  \\\n",
       "0    [ポイント2%分利用で86,020円～2名税込84,300円～詳細･予約, ポイント16%分...   86,020  140,668   \n",
       "1    [ポイント7%分利用+割引で129,030円～2名税込114,004円～詳細･予約, ポイン...  129,030  163,438   \n",
       "2    [ポイント7%分利用+割引で129,030円～2名税込114,004円～詳細･予約, ポイン...  129,030  163,438   \n",
       "3       [ポイント16%分利用+割引で178,366円～朝食付2名税込130,363円～詳細･予約]  178,366  178,366   \n",
       "4       [ポイント16%分利用+割引で178,366円～朝食付2名税込130,363円～詳細･予約]  178,366  178,366   \n",
       "..                                                 ...      ...      ...   \n",
       "359         [ポイント2%分利用で142,740円～朝食付2名税込139,886円～詳細･予約]  142,740  142,740   \n",
       "360         [ポイント2%分利用で142,740円～朝食付2名税込139,886円～詳細･予約]  142,740  142,740   \n",
       "361         [ポイント2%分利用で163,994円～朝食付2名税込160,716円～詳細･予約]  163,994  163,994   \n",
       "362         [ポイント2%分利用で189,576円～朝食付2名税込185,786円～詳細･予約]  189,576  189,576   \n",
       "363         [ポイント2%分利用で260,668円～朝食付2名税込255,456円～詳細･予約]  260,668  260,668   \n",
       "\n",
       "     夕食付2名税込  \n",
       "0    170,178  \n",
       "1    192,870  \n",
       "2    192,870  \n",
       "3       None  \n",
       "4       None  \n",
       "..       ...  \n",
       "359     None  \n",
       "360     None  \n",
       "361     None  \n",
       "362     None  \n",
       "363     None  \n",
       "\n",
       "[364 rows x 7 columns]"
      ]
     },
     "execution_count": 3,
     "metadata": {},
     "output_type": "execute_result"
    }
   ],
   "source": [
    "import re\n",
    "\n",
    "# Extract prices function\n",
    "def extract_prices(price_details):\n",
    "    price_dict = {\n",
    "        '2名税込': None,\n",
    "        '朝食付2名税込': None,\n",
    "        '夕食付2名税込': None\n",
    "    }\n",
    "    \n",
    "    for detail in price_details:\n",
    "        if '2名税込' in detail and price_dict['2名税込'] is None:\n",
    "            price_dict['2名税込'] = re.search(r'(\\d{1,3}(?:,\\d{3})*)円', detail).group(1)\n",
    "        \n",
    "        if '朝食付2名税込' in detail and price_dict['朝食付2名税込'] is None:\n",
    "            price_dict['朝食付2名税込'] = re.search(r'(\\d{1,3}(?:,\\d{3})*)円', detail).group(1)\n",
    "        \n",
    "        if '夕食付2名税込' in detail and price_dict['夕食付2名税込'] is None:\n",
    "            price_dict['夕食付2名税込'] = re.search(r'(\\d{1,3}(?:,\\d{3})*)円', detail).group(1)\n",
    "    \n",
    "    return price_dict['2名税込'], price_dict['朝食付2名税込'], price_dict['夕食付2名税込']\n",
    "\n",
    "# Apply the extraction function and create three separate columns\n",
    "df[['2名税込', '朝食付2名税込', '夕食付2名税込']] = df['Room Price Detail'].apply(lambda x: pd.Series(extract_prices(x)))"
   ]
  },
  {
   "cell_type": "code",
   "execution_count": 9,
   "metadata": {},
   "outputs": [
    {
     "name": "stdout",
     "output_type": "stream",
     "text": [
      "### Average Price per Room Type\n",
      "Room Type\n",
      "ロイヤルスイート　【禁煙】                885500.0\n",
      "パノラミックスイート【宿泊者専用無料ラウンジ付き】    687994.0\n",
      "ガーデンスイート ツイン 【禁煙】            581900.0\n",
      "テラススイート（都内最大 約40平米のテラス付）     567986.0\n",
      "アンバサダースイート　【禁煙】              506000.0\n",
      "                               ...   \n",
      "タワー館スタンダードツイン（喫煙）             26100.0\n",
      "【禁煙】ガーデンツイン                   25000.0\n",
      "【禁煙】スタンダードツイン                 20000.0\n",
      "【禁煙】ダブル                       20000.0\n",
      "【禁煙】ビューバスツイン                  20000.0\n",
      "Name: Average Price, Length: 344, dtype: float64\n",
      "\n",
      "### Price Distribution\n"
     ]
    },
    {
     "data": {
      "application/vnd.plotly.v1+json": {
       "config": {
        "plotlyServerURL": "https://plot.ly"
       },
       "data": [
        {
         "alignmentgroup": "True",
         "bingroup": "x",
         "hovertemplate": "variable=0<br>Price (円)=%{x}<br>count=%{y}<extra></extra>",
         "legendgroup": "0",
         "marker": {
          "color": "#636efa",
          "pattern": {
           "shape": ""
          }
         },
         "name": "0",
         "nbinsx": 30,
         "offsetgroup": "0",
         "orientation": "v",
         "showlegend": true,
         "type": "histogram",
         "x": [
          86020,
          140668,
          170178,
          129030,
          163438,
          192870,
          129030,
          163438,
          192870,
          178366,
          178366,
          178366,
          178366,
          137886,
          182414,
          204216,
          193546,
          193546,
          189750,
          201388,
          215050,
          215050,
          278300,
          278300,
          359260,
          359260,
          379500,
          379500,
          379500,
          379500,
          460460,
          460460,
          404800,
          404800,
          567986,
          567986,
          45560,
          45560,
          48780,
          48780,
          51340,
          51340,
          54560,
          54560,
          57460,
          57460,
          63920,
          63920,
          63920,
          63920,
          63920,
          63920,
          73940,
          73940,
          78400,
          78400,
          80740,
          80740,
          90240,
          90240,
          90240,
          90240,
          94420,
          94420,
          94420,
          94420,
          109000,
          109000,
          93060,
          93060,
          93060,
          93060,
          93060,
          93060,
          93060,
          93060,
          102960,
          102960,
          102960,
          102960,
          102960,
          102960,
          102960,
          102960,
          102960,
          102960,
          105600,
          105600,
          105600,
          105600,
          112860,
          112860,
          112860,
          112860,
          114840,
          114840,
          101832,
          113470,
          101832,
          113470,
          109104,
          120742,
          130926,
          142564,
          130926,
          142564,
          138200,
          138200,
          169444,
          138200,
          169444,
          145474,
          145474,
          145474,
          145474,
          145474,
          157112,
          167548,
          167548,
          189116,
          189116,
          199164,
          199164,
          203664,
          203664,
          213712,
          213712,
          232760,
          244398,
          247306,
          247306,
          436424,
          436424,
          436424,
          436424,
          581900,
          581900,
          34340,
          34340,
          36200,
          36200,
          39100,
          39100,
          45900,
          45900,
          45900,
          45900,
          51340,
          51340,
          54000,
          54000,
          63800,
          63800,
          67660,
          67660,
          22000,
          30200,
          22000,
          30200,
          23000,
          31200,
          23000,
          31200,
          25000,
          33200,
          25000,
          33200,
          25000,
          33200,
          25000,
          33200,
          25000,
          33200,
          25000,
          33200,
          26000,
          34200,
          26000,
          34200,
          26000,
          34200,
          28000,
          36200,
          28000,
          36200,
          33000,
          41200,
          33000,
          41200,
          36000,
          44200,
          36000,
          44200,
          60400,
          60400,
          81000,
          89200,
          81000,
          89200,
          81000,
          89200,
          86000,
          94200,
          86000,
          94200,
          56926,
          58064,
          56926,
          58064,
          56926,
          58064,
          60720,
          61290,
          64516,
          64516,
          64516,
          64516,
          70966,
          70966,
          70966,
          70966,
          103224,
          103224,
          109676,
          109676,
          109676,
          109676,
          109676,
          109676,
          109676,
          109676,
          151610,
          151610,
          151610,
          151610,
          277414,
          277414,
          490314,
          490314,
          107524,
          123210,
          107524,
          123210,
          113850,
          129536,
          113850,
          129536,
          132824,
          148510,
          151800,
          151800,
          158124,
          158124,
          158124,
          158124,
          164450,
          164450,
          170774,
          170774,
          297274,
          297274,
          64250,
          64250,
          75250,
          75250,
          86140,
          86140,
          86140,
          86140,
          109340,
          109340,
          109340,
          109340,
          163350,
          163350,
          163350,
          163350,
          179684,
          179684,
          359370,
          359370,
          35156,
          42156,
          36736,
          43736,
          39500,
          46500,
          41080,
          48080,
          35600,
          42600,
          45030,
          52030,
          50560,
          57560,
          50560,
          57560,
          52140,
          59140,
          53720,
          60720,
          53720,
          60720,
          54510,
          61510,
          58460,
          65460,
          62410,
          69410,
          64780,
          71780,
          67940,
          74940,
          180800,
          180800,
          180800,
          180800,
          180800,
          180800,
          118536,
          128928,
          120578,
          130698,
          134366,
          134366,
          134366,
          134366,
          138858,
          149040,
          138858,
          149040,
          138920,
          139300,
          149610,
          159794,
          149610,
          159794,
          161438,
          171558,
          386166,
          396348,
          386166,
          396348,
          32000,
          39000,
          34250,
          41250,
          34250,
          41250,
          38750,
          45750,
          41000,
          48000,
          41000,
          48000,
          41750,
          48750,
          43250,
          43250,
          43250,
          43250,
          44000,
          51000,
          44000,
          51000,
          44000,
          51000,
          45500,
          45500,
          45500,
          45500,
          47000,
          54000,
          47000,
          47000,
          47000,
          47000,
          47000,
          54000,
          48500,
          48500,
          48500,
          48500,
          49250,
          49250,
          49250,
          49250,
          58250,
          58250,
          58250,
          58250,
          58250,
          58250,
          62000,
          62000,
          70000,
          70000,
          72400,
          72400,
          72400,
          72400,
          74000,
          74000,
          93000,
          74000,
          74000,
          93000,
          78000,
          78000,
          97000,
          78000,
          78000,
          97000,
          78000,
          78000,
          78000,
          78000,
          80400,
          80400,
          80400,
          80400,
          86000,
          86000,
          105000,
          86000,
          86000,
          105000,
          90000,
          90000,
          109000,
          93400,
          93400,
          93400,
          93400,
          96400,
          96400,
          99400,
          107000,
          107000,
          125750,
          125750,
          137000,
          137000,
          158000,
          158000,
          174000,
          174000,
          190000,
          190000,
          209000,
          65122,
          75322,
          65122,
          75322,
          73876,
          84076,
          73876,
          84076,
          89056,
          99256,
          90168,
          100368,
          84856,
          95056,
          84856,
          95056,
          90168,
          100368,
          90168,
          100368,
          90168,
          100368,
          92218,
          102418,
          92940,
          103140,
          92940,
          103140,
          100642,
          110842,
          102692,
          112892,
          115444,
          125644,
          108536,
          118736,
          130232,
          140432,
          130232,
          140432,
          122350,
          132550,
          122350,
          132550,
          132066,
          142266,
          132066,
          142266,
          269192,
          279392,
          413402,
          423602,
          452444,
          452444,
          452444,
          452444,
          83600,
          83600,
          95200,
          95200,
          108900,
          108900,
          117700,
          117700,
          277200,
          277200,
          346500,
          346500,
          66550,
          77440,
          67760,
          67760,
          72600,
          83490,
          76502,
          76502,
          83186,
          83186,
          90750,
          90750,
          91930,
          91930,
          154274,
          154274,
          163018,
          163018,
          44940,
          58300,
          44940,
          58300,
          47220,
          58300,
          39900,
          48220,
          39900,
          48220,
          49960,
          65930,
          49960,
          65930,
          50760,
          64800,
          50760,
          64800,
          43400,
          52016,
          43400,
          52016,
          53392,
          69726,
          53392,
          69726,
          63360,
          77900,
          63360,
          77900,
          70400,
          80100,
          71900,
          79100,
          71900,
          79100,
          119960,
          119960,
          119960,
          119960,
          121840,
          121840,
          121840,
          121840,
          124900,
          124900,
          124900,
          124900,
          138900,
          138900,
          138900,
          138900,
          204900,
          204900,
          204900,
          204900,
          112500,
          112500,
          113500,
          113500,
          114500,
          114500,
          122066,
          153304,
          132064,
          164732,
          145402,
          179974,
          152074,
          187598,
          152074,
          187598,
          158736,
          195214,
          172072,
          210454,
          185410,
          225696,
          185410,
          225696,
          185410,
          225696,
          351554,
          415576,
          643126,
          732862,
          17000,
          23000,
          17000,
          23000,
          17000,
          23000,
          22000,
          28000,
          25000,
          31000,
          25000,
          31000,
          31500,
          37500,
          38500,
          44500,
          42000,
          48000,
          51000,
          57000,
          75267,
          84729,
          75267,
          84729,
          75267,
          84729,
          78493,
          87955,
          78493,
          87955,
          78493,
          87955,
          83869,
          93331,
          83869,
          93331,
          94622,
          104084,
          94622,
          104084,
          94622,
          104084,
          97847,
          107309,
          104084,
          104084,
          104084,
          104084,
          104084,
          104084,
          109460,
          109460,
          117645,
          128777,
          117645,
          128777,
          117645,
          128777,
          118277,
          118277,
          118277,
          118277,
          118277,
          118277,
          118277,
          118277,
          123653,
          123653,
          123970,
          135102,
          129030,
          129030,
          129030,
          129030,
          236555,
          236555,
          236555,
          236555,
          274188,
          274188,
          274188,
          274188,
          506000,
          506000,
          885500,
          885500,
          40480,
          48070,
          40480,
          48070,
          50600,
          58190,
          50600,
          58190,
          65984,
          65984,
          77630,
          77630,
          91084,
          91084,
          91084,
          91084,
          111514,
          111514,
          111514,
          111514,
          125372,
          125372,
          142740,
          142740,
          142740,
          142740,
          163994,
          163994,
          189576,
          189576,
          260668,
          260668
         ],
         "xaxis": "x",
         "yaxis": "y"
        }
       ],
       "layout": {
        "barmode": "relative",
        "legend": {
         "title": {
          "text": "variable"
         },
         "tracegroupgap": 0
        },
        "template": {
         "data": {
          "bar": [
           {
            "error_x": {
             "color": "#2a3f5f"
            },
            "error_y": {
             "color": "#2a3f5f"
            },
            "marker": {
             "line": {
              "color": "#E5ECF6",
              "width": 0.5
             },
             "pattern": {
              "fillmode": "overlay",
              "size": 10,
              "solidity": 0.2
             }
            },
            "type": "bar"
           }
          ],
          "barpolar": [
           {
            "marker": {
             "line": {
              "color": "#E5ECF6",
              "width": 0.5
             },
             "pattern": {
              "fillmode": "overlay",
              "size": 10,
              "solidity": 0.2
             }
            },
            "type": "barpolar"
           }
          ],
          "carpet": [
           {
            "aaxis": {
             "endlinecolor": "#2a3f5f",
             "gridcolor": "white",
             "linecolor": "white",
             "minorgridcolor": "white",
             "startlinecolor": "#2a3f5f"
            },
            "baxis": {
             "endlinecolor": "#2a3f5f",
             "gridcolor": "white",
             "linecolor": "white",
             "minorgridcolor": "white",
             "startlinecolor": "#2a3f5f"
            },
            "type": "carpet"
           }
          ],
          "choropleth": [
           {
            "colorbar": {
             "outlinewidth": 0,
             "ticks": ""
            },
            "type": "choropleth"
           }
          ],
          "contour": [
           {
            "colorbar": {
             "outlinewidth": 0,
             "ticks": ""
            },
            "colorscale": [
             [
              0,
              "#0d0887"
             ],
             [
              0.1111111111111111,
              "#46039f"
             ],
             [
              0.2222222222222222,
              "#7201a8"
             ],
             [
              0.3333333333333333,
              "#9c179e"
             ],
             [
              0.4444444444444444,
              "#bd3786"
             ],
             [
              0.5555555555555556,
              "#d8576b"
             ],
             [
              0.6666666666666666,
              "#ed7953"
             ],
             [
              0.7777777777777778,
              "#fb9f3a"
             ],
             [
              0.8888888888888888,
              "#fdca26"
             ],
             [
              1,
              "#f0f921"
             ]
            ],
            "type": "contour"
           }
          ],
          "contourcarpet": [
           {
            "colorbar": {
             "outlinewidth": 0,
             "ticks": ""
            },
            "type": "contourcarpet"
           }
          ],
          "heatmap": [
           {
            "colorbar": {
             "outlinewidth": 0,
             "ticks": ""
            },
            "colorscale": [
             [
              0,
              "#0d0887"
             ],
             [
              0.1111111111111111,
              "#46039f"
             ],
             [
              0.2222222222222222,
              "#7201a8"
             ],
             [
              0.3333333333333333,
              "#9c179e"
             ],
             [
              0.4444444444444444,
              "#bd3786"
             ],
             [
              0.5555555555555556,
              "#d8576b"
             ],
             [
              0.6666666666666666,
              "#ed7953"
             ],
             [
              0.7777777777777778,
              "#fb9f3a"
             ],
             [
              0.8888888888888888,
              "#fdca26"
             ],
             [
              1,
              "#f0f921"
             ]
            ],
            "type": "heatmap"
           }
          ],
          "heatmapgl": [
           {
            "colorbar": {
             "outlinewidth": 0,
             "ticks": ""
            },
            "colorscale": [
             [
              0,
              "#0d0887"
             ],
             [
              0.1111111111111111,
              "#46039f"
             ],
             [
              0.2222222222222222,
              "#7201a8"
             ],
             [
              0.3333333333333333,
              "#9c179e"
             ],
             [
              0.4444444444444444,
              "#bd3786"
             ],
             [
              0.5555555555555556,
              "#d8576b"
             ],
             [
              0.6666666666666666,
              "#ed7953"
             ],
             [
              0.7777777777777778,
              "#fb9f3a"
             ],
             [
              0.8888888888888888,
              "#fdca26"
             ],
             [
              1,
              "#f0f921"
             ]
            ],
            "type": "heatmapgl"
           }
          ],
          "histogram": [
           {
            "marker": {
             "pattern": {
              "fillmode": "overlay",
              "size": 10,
              "solidity": 0.2
             }
            },
            "type": "histogram"
           }
          ],
          "histogram2d": [
           {
            "colorbar": {
             "outlinewidth": 0,
             "ticks": ""
            },
            "colorscale": [
             [
              0,
              "#0d0887"
             ],
             [
              0.1111111111111111,
              "#46039f"
             ],
             [
              0.2222222222222222,
              "#7201a8"
             ],
             [
              0.3333333333333333,
              "#9c179e"
             ],
             [
              0.4444444444444444,
              "#bd3786"
             ],
             [
              0.5555555555555556,
              "#d8576b"
             ],
             [
              0.6666666666666666,
              "#ed7953"
             ],
             [
              0.7777777777777778,
              "#fb9f3a"
             ],
             [
              0.8888888888888888,
              "#fdca26"
             ],
             [
              1,
              "#f0f921"
             ]
            ],
            "type": "histogram2d"
           }
          ],
          "histogram2dcontour": [
           {
            "colorbar": {
             "outlinewidth": 0,
             "ticks": ""
            },
            "colorscale": [
             [
              0,
              "#0d0887"
             ],
             [
              0.1111111111111111,
              "#46039f"
             ],
             [
              0.2222222222222222,
              "#7201a8"
             ],
             [
              0.3333333333333333,
              "#9c179e"
             ],
             [
              0.4444444444444444,
              "#bd3786"
             ],
             [
              0.5555555555555556,
              "#d8576b"
             ],
             [
              0.6666666666666666,
              "#ed7953"
             ],
             [
              0.7777777777777778,
              "#fb9f3a"
             ],
             [
              0.8888888888888888,
              "#fdca26"
             ],
             [
              1,
              "#f0f921"
             ]
            ],
            "type": "histogram2dcontour"
           }
          ],
          "mesh3d": [
           {
            "colorbar": {
             "outlinewidth": 0,
             "ticks": ""
            },
            "type": "mesh3d"
           }
          ],
          "parcoords": [
           {
            "line": {
             "colorbar": {
              "outlinewidth": 0,
              "ticks": ""
             }
            },
            "type": "parcoords"
           }
          ],
          "pie": [
           {
            "automargin": true,
            "type": "pie"
           }
          ],
          "scatter": [
           {
            "fillpattern": {
             "fillmode": "overlay",
             "size": 10,
             "solidity": 0.2
            },
            "type": "scatter"
           }
          ],
          "scatter3d": [
           {
            "line": {
             "colorbar": {
              "outlinewidth": 0,
              "ticks": ""
             }
            },
            "marker": {
             "colorbar": {
              "outlinewidth": 0,
              "ticks": ""
             }
            },
            "type": "scatter3d"
           }
          ],
          "scattercarpet": [
           {
            "marker": {
             "colorbar": {
              "outlinewidth": 0,
              "ticks": ""
             }
            },
            "type": "scattercarpet"
           }
          ],
          "scattergeo": [
           {
            "marker": {
             "colorbar": {
              "outlinewidth": 0,
              "ticks": ""
             }
            },
            "type": "scattergeo"
           }
          ],
          "scattergl": [
           {
            "marker": {
             "colorbar": {
              "outlinewidth": 0,
              "ticks": ""
             }
            },
            "type": "scattergl"
           }
          ],
          "scattermapbox": [
           {
            "marker": {
             "colorbar": {
              "outlinewidth": 0,
              "ticks": ""
             }
            },
            "type": "scattermapbox"
           }
          ],
          "scatterpolar": [
           {
            "marker": {
             "colorbar": {
              "outlinewidth": 0,
              "ticks": ""
             }
            },
            "type": "scatterpolar"
           }
          ],
          "scatterpolargl": [
           {
            "marker": {
             "colorbar": {
              "outlinewidth": 0,
              "ticks": ""
             }
            },
            "type": "scatterpolargl"
           }
          ],
          "scatterternary": [
           {
            "marker": {
             "colorbar": {
              "outlinewidth": 0,
              "ticks": ""
             }
            },
            "type": "scatterternary"
           }
          ],
          "surface": [
           {
            "colorbar": {
             "outlinewidth": 0,
             "ticks": ""
            },
            "colorscale": [
             [
              0,
              "#0d0887"
             ],
             [
              0.1111111111111111,
              "#46039f"
             ],
             [
              0.2222222222222222,
              "#7201a8"
             ],
             [
              0.3333333333333333,
              "#9c179e"
             ],
             [
              0.4444444444444444,
              "#bd3786"
             ],
             [
              0.5555555555555556,
              "#d8576b"
             ],
             [
              0.6666666666666666,
              "#ed7953"
             ],
             [
              0.7777777777777778,
              "#fb9f3a"
             ],
             [
              0.8888888888888888,
              "#fdca26"
             ],
             [
              1,
              "#f0f921"
             ]
            ],
            "type": "surface"
           }
          ],
          "table": [
           {
            "cells": {
             "fill": {
              "color": "#EBF0F8"
             },
             "line": {
              "color": "white"
             }
            },
            "header": {
             "fill": {
              "color": "#C8D4E3"
             },
             "line": {
              "color": "white"
             }
            },
            "type": "table"
           }
          ]
         },
         "layout": {
          "annotationdefaults": {
           "arrowcolor": "#2a3f5f",
           "arrowhead": 0,
           "arrowwidth": 1
          },
          "autotypenumbers": "strict",
          "coloraxis": {
           "colorbar": {
            "outlinewidth": 0,
            "ticks": ""
           }
          },
          "colorscale": {
           "diverging": [
            [
             0,
             "#8e0152"
            ],
            [
             0.1,
             "#c51b7d"
            ],
            [
             0.2,
             "#de77ae"
            ],
            [
             0.3,
             "#f1b6da"
            ],
            [
             0.4,
             "#fde0ef"
            ],
            [
             0.5,
             "#f7f7f7"
            ],
            [
             0.6,
             "#e6f5d0"
            ],
            [
             0.7,
             "#b8e186"
            ],
            [
             0.8,
             "#7fbc41"
            ],
            [
             0.9,
             "#4d9221"
            ],
            [
             1,
             "#276419"
            ]
           ],
           "sequential": [
            [
             0,
             "#0d0887"
            ],
            [
             0.1111111111111111,
             "#46039f"
            ],
            [
             0.2222222222222222,
             "#7201a8"
            ],
            [
             0.3333333333333333,
             "#9c179e"
            ],
            [
             0.4444444444444444,
             "#bd3786"
            ],
            [
             0.5555555555555556,
             "#d8576b"
            ],
            [
             0.6666666666666666,
             "#ed7953"
            ],
            [
             0.7777777777777778,
             "#fb9f3a"
            ],
            [
             0.8888888888888888,
             "#fdca26"
            ],
            [
             1,
             "#f0f921"
            ]
           ],
           "sequentialminus": [
            [
             0,
             "#0d0887"
            ],
            [
             0.1111111111111111,
             "#46039f"
            ],
            [
             0.2222222222222222,
             "#7201a8"
            ],
            [
             0.3333333333333333,
             "#9c179e"
            ],
            [
             0.4444444444444444,
             "#bd3786"
            ],
            [
             0.5555555555555556,
             "#d8576b"
            ],
            [
             0.6666666666666666,
             "#ed7953"
            ],
            [
             0.7777777777777778,
             "#fb9f3a"
            ],
            [
             0.8888888888888888,
             "#fdca26"
            ],
            [
             1,
             "#f0f921"
            ]
           ]
          },
          "colorway": [
           "#636efa",
           "#EF553B",
           "#00cc96",
           "#ab63fa",
           "#FFA15A",
           "#19d3f3",
           "#FF6692",
           "#B6E880",
           "#FF97FF",
           "#FECB52"
          ],
          "font": {
           "color": "#2a3f5f"
          },
          "geo": {
           "bgcolor": "white",
           "lakecolor": "white",
           "landcolor": "#E5ECF6",
           "showlakes": true,
           "showland": true,
           "subunitcolor": "white"
          },
          "hoverlabel": {
           "align": "left"
          },
          "hovermode": "closest",
          "mapbox": {
           "style": "light"
          },
          "paper_bgcolor": "white",
          "plot_bgcolor": "#E5ECF6",
          "polar": {
           "angularaxis": {
            "gridcolor": "white",
            "linecolor": "white",
            "ticks": ""
           },
           "bgcolor": "#E5ECF6",
           "radialaxis": {
            "gridcolor": "white",
            "linecolor": "white",
            "ticks": ""
           }
          },
          "scene": {
           "xaxis": {
            "backgroundcolor": "#E5ECF6",
            "gridcolor": "white",
            "gridwidth": 2,
            "linecolor": "white",
            "showbackground": true,
            "ticks": "",
            "zerolinecolor": "white"
           },
           "yaxis": {
            "backgroundcolor": "#E5ECF6",
            "gridcolor": "white",
            "gridwidth": 2,
            "linecolor": "white",
            "showbackground": true,
            "ticks": "",
            "zerolinecolor": "white"
           },
           "zaxis": {
            "backgroundcolor": "#E5ECF6",
            "gridcolor": "white",
            "gridwidth": 2,
            "linecolor": "white",
            "showbackground": true,
            "ticks": "",
            "zerolinecolor": "white"
           }
          },
          "shapedefaults": {
           "line": {
            "color": "#2a3f5f"
           }
          },
          "ternary": {
           "aaxis": {
            "gridcolor": "white",
            "linecolor": "white",
            "ticks": ""
           },
           "baxis": {
            "gridcolor": "white",
            "linecolor": "white",
            "ticks": ""
           },
           "bgcolor": "#E5ECF6",
           "caxis": {
            "gridcolor": "white",
            "linecolor": "white",
            "ticks": ""
           }
          },
          "title": {
           "x": 0.05
          },
          "xaxis": {
           "automargin": true,
           "gridcolor": "white",
           "linecolor": "white",
           "ticks": "",
           "title": {
            "standoff": 15
           },
           "zerolinecolor": "white",
           "zerolinewidth": 2
          },
          "yaxis": {
           "automargin": true,
           "gridcolor": "white",
           "linecolor": "white",
           "ticks": "",
           "title": {
            "standoff": 15
           },
           "zerolinecolor": "white",
           "zerolinewidth": 2
          }
         }
        },
        "title": {
         "text": "Price Distribution"
        },
        "xaxis": {
         "anchor": "y",
         "domain": [
          0,
          1
         ],
         "title": {
          "text": "Price (円)"
         }
        },
        "yaxis": {
         "anchor": "x",
         "domain": [
          0,
          1
         ],
         "title": {
          "text": "Count"
         }
        }
       }
      }
     },
     "metadata": {},
     "output_type": "display_data"
    },
    {
     "name": "stdout",
     "output_type": "stream",
     "text": [
      "\n",
      "### Top 5 Most Expensive Hotels\n",
      "                                        Hotel Name  Max Price\n",
      "347                                The Okura Tokyo   885500.0\n",
      "304  ザ・ホテル青龍 京都清水（The Hotel Seiryu Kyoto Kiyomizu）   732862.0\n",
      "66                                   ザ・キャピトルホテル 東急   581900.0\n",
      "15                                        パレスホテル東京   567986.0\n",
      "346                                The Okura Tokyo   506000.0\n",
      "\n",
      "### Price Range Analysis\n",
      "Room Type\n",
      "パノラミックスイート【宿泊者専用無料ラウンジ付き】         89736.0\n",
      "デラックスキング（禁煙）                      84158.0\n",
      "グランドデラックスツイン（禁煙）                  66330.0\n",
      "テラスツイン パゴダビュー【宿泊者専用無料ラウンジ付き】      64022.0\n",
      "デラックスキング with バルコニー（禁煙）           63840.0\n",
      "                                   ...   \n",
      "デラックスルーム低層階（洋タイプ）3名定員                 0.0\n",
      "デラックスルーム低層階（洋タイプ）4名定員                 0.0\n",
      "デラックスルーム高層階（和タイプ）2名定員                 0.0\n",
      "デラックスルーム高層階（和タイプ）3名定員                 0.0\n",
      "＜愛犬ルーム＞プールヴィララグーンスイート1F　ラウンジ利用        0.0\n",
      "Name: Price Range, Length: 344, dtype: float64\n"
     ]
    },
    {
     "data": {
      "application/vnd.plotly.v1+json": {
       "config": {
        "plotlyServerURL": "https://plot.ly"
       },
       "data": [
        {
         "name": "Average Price Range by Room Type",
         "type": "bar",
         "x": [
          "パノラミックスイート【宿泊者専用無料ラウンジ付き】",
          "デラックスキング（禁煙）",
          "グランドデラックスツイン（禁煙）",
          "テラスツイン パゴダビュー【宿泊者専用無料ラウンジ付き】",
          "デラックスキング with バルコニー（禁煙）",
          "デラックスツイン with バルコニー（禁煙）",
          "テラスツイン【宿泊者専用無料ラウンジ付き】",
          "ジュニアスイート モダン【宿泊者専用無料ラウンジ付き】",
          "ジュニアスイート クラシック【宿泊者専用無料ラウンジ付き】",
          "プレミアムツイン パゴダビュー【宿泊者専用無料ラウンジ付き】",
          "デラックスツイン パゴダビュー【宿泊者専用無料ラウンジ付き】",
          "スーペリアツイン パゴダビュー【宿泊者専用無料ラウンジ付き】",
          "スーペリアキング パゴダビュー【宿泊者専用無料ラウンジ付き】",
          "プレミアムコーナーツイン【宿泊者専用無料ラウンジ付き】",
          "デラックスツイン DEN【宿泊者専用無料ラウンジ付き】",
          "プレミアコーナーキング ビューバス【禁煙】",
          "プレミアコーナーツイン ビューバス【禁煙】",
          "スタンダードコーナーキング【宿泊者専用無料ラウンジ付き】",
          "【ザ・メイン】デラックス ツイン 禁煙",
          "【ザ・メイン】デラックス ダブル  禁煙",
          "【ガーデンタワー】デラックス ツイン 禁煙",
          "【ガーデンタワー】デラックス ダブル 禁煙",
          "【禁煙】デラックスキングルーム",
          "【禁煙】デラックス インペリアルガーデンビューツインルーム",
          "【禁煙】デラックス インペリアルガーデンビューキングルーム",
          "【禁煙】デラックスツインルーム",
          "【禁煙】プレミアルーム",
          "【ザ・メイン】新江戸デラックス ダブル 禁煙",
          "【ザ・メイン】新江戸デラックス ツイン 禁煙",
          "【ザ・メイン】新江戸スタンダード ダブル 禁煙",
          "【ザ・メイン】新江戸スタンダード ツイン 禁煙",
          "【ザ・メイン】スタンダード ダブル  禁煙",
          "【ザ・メイン】スタンダード ツイン 禁煙",
          "2 シングル プレミアム ベイビュー",
          "2 シングル プレミアム ベイビュー ハイフロア",
          "1 キング プレミアム ベイビュー",
          "1 キング プレミアム ベイビュー ハイフロア",
          "プレミアキング【禁煙】",
          "デラックスハリウッドツイン【禁煙】",
          "プレミアコーナーキング【禁煙】",
          "プレミアコーナーツイン【禁煙】",
          "デラックスキング【禁煙】",
          "デラックスキング【喫煙】",
          "グランドデラックスキング with バルコニー（禁煙）",
          "コネクティングルーム【禁煙】",
          "プレステージルーム（ビューバス）ツインアッパーフロア【喫煙】",
          "プレステージコーナー　ツイン　【喫煙】",
          "プレステージルーム　ツイン　アッパーフロア【喫煙】",
          "プレステージルーム（ビューバス）キングアッパーフロア【喫煙】",
          "【ザ・メイン】スタンダード ツイン 喫煙",
          "クラシックダブル",
          "クラシックダブル　東山ビュー",
          "デラックスルーム キング",
          "パレスビュー スーペリアツイン【禁煙】",
          "パレスサイド デラックスツイン【禁煙】",
          "パレスサイド スーペリアツイン【禁煙】",
          "パレスビュー プレミアムツイン【禁煙】",
          "パレスビュー プレミアムデラックスキング【禁煙】",
          "パレスサイド コンフォートツイン【禁煙】",
          "パレスビュー プレミアムデラックスツイン【禁煙】",
          "パレスサイド コンフォートキング【禁煙】",
          "ドームサイド スーペリアツイン【禁煙】",
          "ドームサイド キング【禁煙】",
          "シティビュー スーペリアツイン【禁煙】",
          "シティビュー スーペリアキング【禁煙】",
          "シティビュー キング【禁煙】",
          "ドームサイド スーペリアキング【禁煙】",
          "ドームサイド コンフォートキング【禁煙】",
          "メゾネットスイートツイン【禁煙】",
          "クラシック スーペリアツイン【喫煙】",
          "クラシック スーペリアツイン【禁煙】",
          "サウスウイング プレミアムツイン【喫煙】",
          "サウスウイング デラックスツイン【喫煙】",
          "サウスウイング スーペリアツイン【喫煙】",
          "メゾネットツイン【禁煙】",
          "メゾネットスイートキング【禁煙】",
          "ジュニアスイートツイン【禁煙】",
          "ジュニアスイートキング【禁煙】",
          "メゾネットキング【禁煙】",
          "温泉ガーデンルーム ツイン",
          "温泉ガーデンルーム キング",
          "ROKUスイートルーム ツイン",
          "プレミアデラックスルーム ツイン",
          "プレミアデラックスルーム キング",
          "PEAKスイートルーム キング",
          "プールサイドテラスルーム キング",
          "デラックスルーム ツイン",
          "【ザ・メイン】デラックス  ツイン  喫煙",
          "2 シングル プレミアム ベイビュー クラブラウンジアクセス",
          "デザイナーズ スイート＆ルーム（ラグジュアリーオリエンタル）",
          "1キング ジュニアスイート リバービュークラブラウンジ",
          "1 キング プレミアム ベイビュー クラブラウンジアクセス",
          "プレステージルーム（ビューバス）ツインアッパーフロア【禁煙】",
          "ヘリテージルーム　ツイン 【禁煙】クラブラウンジアクセスなし",
          "ヘリテージルーム（ビューバス）キング 【禁煙】ラウンジなし",
          "ヘリテージルーム　キング 【禁煙】クラブラウンジアクセスなし",
          "ヘリテージルーム（ビューバス）ツイン 【禁煙】ラウンジなし",
          "プレステージルーム（ビューバス）ツイン　【禁煙】",
          "プレステージルーム（ビューバス）キングアッパーフロア【禁煙】",
          "プレステージルーム（ビューバス）キング　【禁煙】",
          "プレステージルーム　ツイン　アッパーフロア　【禁煙】",
          "プレステージルーム　ツイン　【禁煙】",
          "プレステージコーナー　ツイン　【禁煙】",
          "プレステージコーナー　キング　【禁煙】",
          "【ガーデンタワー】スタンダード 日本庭園側 ツイン 禁煙",
          "【ガーデンタワー】スタンダード 日本庭園側 ダブル 禁煙",
          "【ガーデンタワー】スタンダード ダブル  禁煙",
          "【ガーデンタワー】スタンダード ツイン  禁煙",
          "タワー館グランドクラブフロア　プルミエスイート　ツイン（禁煙",
          "タワー館スタンダード　ベイビューハリウッドツイン（禁煙）",
          "タワー館グランドクラブフロア　高層階ダブル（禁煙）",
          "タワー館スーペリアフロア　ベイフロントハリウッドツイン（禁煙",
          "タワー館グランドクラブフロア　ベイビューハリウッドツイン禁煙",
          "タワー館グランドクラブフロア　プルミエスイート　ダブル（禁煙",
          "タワー館スーペリアフロア　タワーサイドツイン（禁煙）",
          "タワー館スタンダード　ベイビューハリウッドツイン（喫煙）",
          "タワー館スーペリアフロア　ベイフロントコーナーダブル（禁煙）",
          "タワー館スーペリアフロア　タワーサイドダブル（禁煙）",
          "タワー館スタンダードツイン（喫煙）",
          "タワー館スーペリアフロア　ベイサイドダブル（禁煙）",
          "タワー館グランドクラブフロア　高層階ツイン（禁煙）",
          "タワー館スタンダード　ツイン（禁煙）",
          "タワー館グランドクラブフロア　ベイビューコーナーダブル（禁煙",
          "タワー館スタンダード　ベイビューコーナーダブル（喫煙）",
          "タワー館スタンダード　ベイビューコーナーダブル（禁煙）",
          "タワー館スーペリアフロア　ベイサイドツイン（禁煙）",
          "タワー館グランドクラブフロア　セミスイートハリウッドツイン",
          "本館グランドツイン（禁煙）",
          "本館グランドスイート　ダブル（禁煙）",
          "本館グランドデラックスツイン（禁煙）",
          "本館グランドスイート　ツイン（禁煙）",
          "本館グランドダブル（禁煙）",
          "デラックスキング",
          "デラックスツイン",
          "デラックス平安京ビュー ツイン",
          "デラックス平安京ビューキング",
          "【ザ・メイン】デラックス（洗い場付き） ツイン  禁煙",
          "【ザ・メイン】デラックス（洗い場付き） ダブル 禁煙",
          "2 シングル クラシック リバービュー",
          "コーナースーペリア（オーシャンビュー）",
          "1 キング ジュニアスイート リバービュー",
          "タタミエグゼクティブバンク（プールビュー）",
          "コーナースーペリア（プールビュー）",
          "スーペリアツイン（オーシャンビュー）",
          "スーペリアツイン（バリアフリー）",
          "スーペリアバンク",
          "スーペリアツイン",
          "タタミエグゼクティブバンク（オーシャンビュー）",
          "エグゼクティブツイン（オーシャンビュー）",
          "デラックスツイン（オーシャンビュー）",
          "デラックスツイン（プールビュー）",
          "デラックスバンク with ジャグジー",
          "デラックスバンク with ジャグジー（オーシャンビュー）",
          "エグゼクティブバンク （プールビュー）",
          "エグゼクティブバンク （オーシャンビュー）",
          "タタミエグゼクティブツイン",
          "【禁煙】ガーデンツイン",
          "【禁煙】鴨川スイート",
          "【禁煙】ガーデンスイート",
          "【禁煙】ビューバスツイン",
          "【禁煙】ダブル",
          "【禁煙】スーペリア鴨川トリプル",
          "【禁煙】スーペリア鴨川ツイン",
          "【禁煙】スーペリアコーナーツイン",
          "【禁煙】エグゼクティブツイン",
          "【禁煙】スタンダードツイン",
          "1 キング ジュニアスイート リバービューハイフロア",
          "1 キング クラシック ベイビュー",
          "2 シングル クラシック ベイビュー ハイフロア",
          "1 キング クラシック ベイビュー ハイフロア",
          "2 シングル クラシック リバービューハイフロア",
          "2 シングル クラシック ベイビュー",
          "デラックスオーシャンビュー ツイン",
          "デラックスオーシャンビュー キング",
          "デラックスオーシャンビュー サンセットウイング ツイン",
          "デラックスオーシャンビュー サンセットウイング キング",
          "パノラマデラックスルーム キング",
          "スーペリアルーム（52平米/5-8階）＜サンセットビュー＞",
          "プレミアコーナーツイン【喫煙】",
          "【エグゼクティブハウス 禅】ジュニアスイート ツイン",
          "プレミアスイート （ツイン）",
          "プレミアスイート　オーシャンビュー　“ROTEN”",
          "プレミアスイート（キング）",
          "【エグゼクティブハウス 禅】 デラックス ツイン 50平米",
          "【エグゼクティブハウス 禅】ジュニアスイート ダブル",
          "【ガーデンタワー】スイート ツイン 禁煙",
          "【エグゼクティブハウス 禅】 デラックス ツイン 45平米",
          "【エグゼクティブハウス 禅】 デラックス ダブル 50平米",
          "【エグゼクティブハウス 禅】 デラックス ダブル 45平米",
          "プールヴィラプレミア メゾネット　温水プライベートプール付",
          "プールヴィラプレミア1F　温水プライベートプール・ラウンジ",
          "プールヴィラプレミア2F　温水プライベートプール・ラウンジ",
          "プールヴィララグーンスイート 1F-3F＜ラウンジ利用付＞",
          "【ガーデンタワー】スイート ダブル 禁煙",
          "プレミアクラブオーシャンフロント キング　※ラウンジ利用付※",
          "【ザ・メイン】ジュニアスイート  ダブル 禁煙",
          "プレミアクラブオーシャンフロント ツイン　※ラウンジ利用付※",
          "【ラウンジ付】ラグジュアリースイート平安京ビュー 2ダブル",
          "【ラウンジ付】ラグジュアリースイート平安京ビュー 1キング",
          "プレステージスイート　ラウンジアクセス付き",
          "プレステージスイート東山ビュー　ラウンジアクセス付き",
          "【ラウンジ付】ラグジュアリースイート 2ダブル",
          "【ラウンジ付】ラグジュアリースイート 1キング",
          "【ラウンジ付】ジュニアスイート平安京ビュー 2ダブル",
          "【ラウンジ付】ジュニアスイート平安京ビュー 1キング",
          "【ラウンジ付】ジュニアスイート 2ダブル",
          "【ラウンジ付】ジュニアスイート 1キング",
          "【ラウンジ付】2ベッドルームスイート 1キング＆2シングル",
          "【バリアフリー対応】ユニバーサル オーシャンビュー ツイン",
          "【ドッグフレンドリールーム】プールヴィラプレミア1F",
          "プレミアオーシャンビュー キング",
          "プレミアオーシャンビュー ツイン",
          "プレミアオーシャンフロント キング",
          "プレミアオーシャンフロント ツイン",
          "【ザ・メイン】ジュニアスイート  ツイン 禁煙",
          "プールヴィララグーンスイート最上階・4F＜ラウンジ利用付＞",
          "プールヴィララグーンスイート ダブルルーム3F　ラウンジ利用",
          "DX オーシャンビュー “VIEW BATH” 室礼",
          "プールヴィラロイヤルスイート＜温水プール・サウナ・ラウンジ＞",
          "ヘリテージスイート　【禁煙】",
          "2 シングル クラシック ベイビュー NAGOMIラウンジ",
          "ユニバーサルコーナーツイン【禁煙】",
          "ロイヤルスイート　【禁煙】",
          "佳ら久ルーム　露天風呂付（洋タイプ）2名定員",
          "佳ら久ルーム　露天風呂付（洋タイプ）3名定員",
          "千代田スイート（ツイン）",
          "数寄屋風別館「佳水園」天然温泉風呂付 キング 70～84平米",
          "数寄屋風別館「佳水園」天然温泉風呂付 ツイン 100平米",
          "数寄屋風別館「佳水園」天然温泉風呂付 ツイン 63～68平米",
          "1キング ジュニアスイート リバービューNAGOMIラウンジ",
          "1キング クラシックリバービューNAGOMIラウンジアクセス",
          "1 キング プレミアム ベイビュー NAGOMIラウンジ",
          "1 キング クラシック リバービュークラブラウンジアクセス",
          "1 キング クラシック ベイビュー クラブラウンジアクセス",
          "部屋タイプ指定なし（禁煙）",
          "鷹峯デラックスルーム キング",
          "鷹峯デラックスルーム ツイン",
          "2 シングル クラシック ベイビュー クラブラウンジアクセス",
          "2 シングル クラシック リバービューNAGOMIラウンジ",
          "ミラージュフロア・プレミアスイート＜ラウンジ利用付＞",
          "ヘリテージルーム（ビューバス）キング　バルコニー付　【禁煙】",
          "ヘリテージスイート　キング　【禁煙】",
          "ファミリープールスイート＜お子様用プライベートプール付＞",
          "ヘリテージルーム　キング　【禁煙】",
          "2 シングル プレミアム ベイビュー NAGOMIラウンジ",
          "ヘリテージルーム　ツイン　【喫煙】",
          "ヘリテージルーム　ツイン　【禁煙】",
          "ヘリテージルーム（ビューバス）キング　【禁煙】",
          "2 シングル クラシック リバービュークラブラウンジアクセス",
          "ミラージュフロア・デラックススイート＜ラウンジ利用付＞",
          "ヘリテージルーム（ビューバス）ツイン　【禁煙】",
          "ヘリテージルーム（ビューバス）ツイン　バルコニー付　【禁煙】",
          "ホライゾンデラックスインペリアルガーデンビューキングルーム",
          "ホライゾンデラックスインペリアルガーデンビューツインルーム",
          "ホライゾンデラックスキングルーム",
          "ホライゾンデラックスツインルーム",
          "ミラージュフロア・ガーデンプールスイート＜ラウンジ利用付＞",
          "【禁煙】エグゼクティブスイート",
          "アンバサダースイート　【禁煙】",
          "パークスイート（ツイン）",
          "デラックス　オーシャンビュー　“ROTEN”　室礼",
          "コーラルスイート ツイン",
          "テラススイート（都内最大 約40平米のテラス付）",
          "コーラルスイート キング",
          "クリフヴィラ　※ラウンジ利用・専用プール・天然温泉付※",
          "デザイナーズ スイート＆ルーム",
          "デザイナーズ スイート＆ルーム（パリメゾン）",
          "クラブルーム（ビューバス）ツイン　【禁煙】",
          "デラックス",
          "デラックス　オーシャンビュー　“ROTEN”　（高層階）",
          "クラブデラックスツイン with バルコニー（禁煙）",
          "デラックス　東山ビュー",
          "クラブルーム（ビューバス）キング　【禁煙】",
          "クラブルーム　ツイン　【禁煙】",
          "クラブプレミアコーナーツイン【禁煙】",
          "クラブプレミアキング【禁煙】",
          "クラブデラックスハリウッド【禁煙】",
          "デラックススイート1ベッドルーム＜テラスジャグジー付＞",
          "デラックススイート2ベッドルームデイベッド付＜ジャグジー付＞",
          "ザ・セブン オーシャンスイート（オーシャンビュー）",
          "ザ・セブン テラススイート（オーシャンビュー）",
          "タワー館スーペリアフロア　ベイサイドツイン（AT）",
          "ザ・セブン プールスイート",
          "スーペリアルーム（52平米/2-4階）＜眺望指定なし＞",
          "スーペリアスイート1F-4F＜デイベッド付＞",
          "1 キング クラシック ベイビュー NAGOMIラウンジ",
          "スーペリアキング【宿泊者専用無料ラウンジ付き】",
          "スーペリアオーシャンビュー“ROTEN”",
          "スーペリア　東山ビュー",
          "スーペリア オーシャンビュー 室礼",
          "スーペリア",
          "スタンダードキング【宿泊者専用無料ラウンジ付き】",
          "スイートヒルサイド“TERRACE BATH”室礼（街側）",
          "スイート　ラウンジアクセス付き",
          "スイート　ヒルサイド　“TERRACE BATH”　（街側）",
          "ジュニアスイート＜デイベッド・テラスジャグジー付＞",
          "ジュニアスイート【禁煙】",
          "ジュニアスイート　オーシャンビュー　“ROTEN”",
          "ジャグジースイート・グリーンビュー1F＜テラスジャグジー付＞",
          "ジャグジースイート1F-4F＜キッチン・テラスジャグジー付＞",
          "デラックススイート2ベッドルーム＜ジャグジー付＞",
          "クラブデラックスキング【禁煙】",
          "【禁煙】プレミアスイート（部屋タイプお任せツインorキング）",
          "エグゼクティブスイート（キング）",
          "デラックスルーム＜テラスジャグジー付＞",
          "オーシャンビューペントハウス KUMO NO NAMI",
          "オーシャンビュープレミアム 月の道",
          "ドッグフレンドリープレミアキング【禁煙】",
          "ドッグフレンドリープレミアコーナーツイン【禁煙】",
          "オーシャンビュースーペリア",
          "オーシャンビュースイート  月の道",
          "オーシャンビュースイート",
          "ハレクラニクリフヴィラ　※ラウンジ利用・プール・天然温泉付※",
          "クラブデラックスキング with バルコニー（禁煙）",
          "エグゼクティブスイート　ツイン【禁煙】",
          "エグゼクティブスイート　キング　【禁煙】",
          "エグゼクティブオーシャンフロントスイート ツイン",
          "エグゼクティブオーシャンフロントスイート キング",
          "エグゼクティブオーシャンスイート キング",
          "アンバサダースイートツイン【禁煙】",
          "アンバサダースイートキング【禁煙】",
          "スーペリアルーム（52平米/5-8階）＜オーシャンビュー＞",
          "デラックスルーム高層階（洋タイプ）4名定員",
          "デラックスルーム高層階（洋タイプ）3名定員",
          "デラックスルーム高層階（洋タイプ）2名定員",
          "デラックスルーム高層階（和タイプ）4名定員",
          "クラブスイート　ツイン　【禁煙】",
          "デラックスツイン【宿泊者専用無料ラウンジ付き】",
          "クラブスイート　キング　【禁煙】",
          "クラブコーナー　ツイン　【禁煙】",
          "クラブグランドデラックスツイン（禁煙）",
          "クラブグランドデラックスキング with バルコニー（禁煙）",
          "ガーデンスイート（キング）",
          "ガーデンスイート ツイン 【禁煙】",
          "オーシャンビューペントハウス TSUKI NO MICHI",
          "デラックスルーム低層階（和タイプ）2名定員",
          "デラックスルーム低層階（和タイプ）3名定員",
          "デラックスルーム低層階（和タイプ）4名定員",
          "デラックスルーム低層階（洋タイプ）2名定員",
          "デラックスルーム低層階（洋タイプ）3名定員",
          "デラックスルーム低層階（洋タイプ）4名定員",
          "デラックスルーム高層階（和タイプ）2名定員",
          "デラックスルーム高層階（和タイプ）3名定員",
          "＜愛犬ルーム＞プールヴィララグーンスイート1F　ラウンジ利用"
         ],
         "y": [
          89736,
          84158,
          66330,
          64022,
          63840,
          63840,
          40286,
          40286,
          40286,
          38382,
          36478,
          35524,
          35524,
          34572,
          32668,
          31244,
          31244,
          31238,
          16334,
          16334,
          15970,
          15970,
          15686,
          15686,
          15686,
          15686,
          15686,
          14540,
          14540,
          14040,
          14040,
          13360,
          13360,
          13000,
          13000,
          13000,
          13000,
          11638,
          11638,
          11638,
          11638,
          11638,
          11638,
          11638,
          11638,
          11132,
          11132,
          11132,
          11132,
          11080,
          10890,
          10890,
          10392,
          10200,
          10200,
          10200,
          10200,
          10200,
          10200,
          10200,
          10200,
          10200,
          10200,
          10200,
          10200,
          10200,
          10200,
          10200,
          10200,
          10200,
          10200,
          10200,
          10200,
          10200,
          10200,
          10200,
          10200,
          10200,
          10200,
          10184,
          10184,
          10182,
          10182,
          10182,
          10182,
          10120,
          10120,
          9700,
          9500,
          9500,
          9500,
          9500,
          9462,
          9462,
          9462,
          9462,
          9462,
          9462,
          9462,
          9462,
          9462,
          9462,
          9462,
          9462,
          8616,
          8616,
          8320,
          8320,
          8200,
          8200,
          8200,
          8200,
          8200,
          8200,
          8200,
          8200,
          8200,
          8200,
          8200,
          8200,
          8200,
          8200,
          8200,
          8200,
          8200,
          8200,
          8200,
          8200,
          8200,
          8200,
          8200,
          8200,
          7590,
          7590,
          7590,
          7590,
          7200,
          7200,
          7000,
          7000,
          7000,
          7000,
          7000,
          7000,
          7000,
          7000,
          7000,
          7000,
          7000,
          7000,
          7000,
          7000,
          7000,
          7000,
          7000,
          7000,
          6000,
          6000,
          6000,
          6000,
          6000,
          6000,
          6000,
          6000,
          6000,
          6000,
          5000,
          3500,
          3500,
          3500,
          3500,
          3500,
          1138,
          1138,
          1138,
          570,
          380,
          0,
          0,
          0,
          0,
          0,
          0,
          0,
          0,
          0,
          0,
          0,
          0,
          0,
          0,
          0,
          0,
          0,
          0,
          0,
          0,
          0,
          0,
          0,
          0,
          0,
          0,
          0,
          0,
          0,
          0,
          0,
          0,
          0,
          0,
          0,
          0,
          0,
          0,
          0,
          0,
          0,
          0,
          0,
          0,
          0,
          0,
          0,
          0,
          0,
          0,
          0,
          0,
          0,
          0,
          0,
          0,
          0,
          0,
          0,
          0,
          0,
          0,
          0,
          0,
          0,
          0,
          0,
          0,
          0,
          0,
          0,
          0,
          0,
          0,
          0,
          0,
          0,
          0,
          0,
          0,
          0,
          0,
          0,
          0,
          0,
          0,
          0,
          0,
          0,
          0,
          0,
          0,
          0,
          0,
          0,
          0,
          0,
          0,
          0,
          0,
          0,
          0,
          0,
          0,
          0,
          0,
          0,
          0,
          0,
          0,
          0,
          0,
          0,
          0,
          0,
          0,
          0,
          0,
          0,
          0,
          0,
          0,
          0,
          0,
          0,
          0,
          0,
          0,
          0,
          0,
          0,
          0,
          0,
          0,
          0,
          0,
          0,
          0,
          0,
          0,
          0,
          0,
          0,
          0,
          0,
          0,
          0,
          0,
          0,
          0,
          0,
          0,
          0,
          0,
          0,
          0,
          0,
          0,
          0,
          0,
          0,
          0,
          0,
          0,
          0,
          0,
          0
         ]
        }
       ],
       "layout": {
        "template": {
         "data": {
          "bar": [
           {
            "error_x": {
             "color": "#2a3f5f"
            },
            "error_y": {
             "color": "#2a3f5f"
            },
            "marker": {
             "line": {
              "color": "#E5ECF6",
              "width": 0.5
             },
             "pattern": {
              "fillmode": "overlay",
              "size": 10,
              "solidity": 0.2
             }
            },
            "type": "bar"
           }
          ],
          "barpolar": [
           {
            "marker": {
             "line": {
              "color": "#E5ECF6",
              "width": 0.5
             },
             "pattern": {
              "fillmode": "overlay",
              "size": 10,
              "solidity": 0.2
             }
            },
            "type": "barpolar"
           }
          ],
          "carpet": [
           {
            "aaxis": {
             "endlinecolor": "#2a3f5f",
             "gridcolor": "white",
             "linecolor": "white",
             "minorgridcolor": "white",
             "startlinecolor": "#2a3f5f"
            },
            "baxis": {
             "endlinecolor": "#2a3f5f",
             "gridcolor": "white",
             "linecolor": "white",
             "minorgridcolor": "white",
             "startlinecolor": "#2a3f5f"
            },
            "type": "carpet"
           }
          ],
          "choropleth": [
           {
            "colorbar": {
             "outlinewidth": 0,
             "ticks": ""
            },
            "type": "choropleth"
           }
          ],
          "contour": [
           {
            "colorbar": {
             "outlinewidth": 0,
             "ticks": ""
            },
            "colorscale": [
             [
              0,
              "#0d0887"
             ],
             [
              0.1111111111111111,
              "#46039f"
             ],
             [
              0.2222222222222222,
              "#7201a8"
             ],
             [
              0.3333333333333333,
              "#9c179e"
             ],
             [
              0.4444444444444444,
              "#bd3786"
             ],
             [
              0.5555555555555556,
              "#d8576b"
             ],
             [
              0.6666666666666666,
              "#ed7953"
             ],
             [
              0.7777777777777778,
              "#fb9f3a"
             ],
             [
              0.8888888888888888,
              "#fdca26"
             ],
             [
              1,
              "#f0f921"
             ]
            ],
            "type": "contour"
           }
          ],
          "contourcarpet": [
           {
            "colorbar": {
             "outlinewidth": 0,
             "ticks": ""
            },
            "type": "contourcarpet"
           }
          ],
          "heatmap": [
           {
            "colorbar": {
             "outlinewidth": 0,
             "ticks": ""
            },
            "colorscale": [
             [
              0,
              "#0d0887"
             ],
             [
              0.1111111111111111,
              "#46039f"
             ],
             [
              0.2222222222222222,
              "#7201a8"
             ],
             [
              0.3333333333333333,
              "#9c179e"
             ],
             [
              0.4444444444444444,
              "#bd3786"
             ],
             [
              0.5555555555555556,
              "#d8576b"
             ],
             [
              0.6666666666666666,
              "#ed7953"
             ],
             [
              0.7777777777777778,
              "#fb9f3a"
             ],
             [
              0.8888888888888888,
              "#fdca26"
             ],
             [
              1,
              "#f0f921"
             ]
            ],
            "type": "heatmap"
           }
          ],
          "heatmapgl": [
           {
            "colorbar": {
             "outlinewidth": 0,
             "ticks": ""
            },
            "colorscale": [
             [
              0,
              "#0d0887"
             ],
             [
              0.1111111111111111,
              "#46039f"
             ],
             [
              0.2222222222222222,
              "#7201a8"
             ],
             [
              0.3333333333333333,
              "#9c179e"
             ],
             [
              0.4444444444444444,
              "#bd3786"
             ],
             [
              0.5555555555555556,
              "#d8576b"
             ],
             [
              0.6666666666666666,
              "#ed7953"
             ],
             [
              0.7777777777777778,
              "#fb9f3a"
             ],
             [
              0.8888888888888888,
              "#fdca26"
             ],
             [
              1,
              "#f0f921"
             ]
            ],
            "type": "heatmapgl"
           }
          ],
          "histogram": [
           {
            "marker": {
             "pattern": {
              "fillmode": "overlay",
              "size": 10,
              "solidity": 0.2
             }
            },
            "type": "histogram"
           }
          ],
          "histogram2d": [
           {
            "colorbar": {
             "outlinewidth": 0,
             "ticks": ""
            },
            "colorscale": [
             [
              0,
              "#0d0887"
             ],
             [
              0.1111111111111111,
              "#46039f"
             ],
             [
              0.2222222222222222,
              "#7201a8"
             ],
             [
              0.3333333333333333,
              "#9c179e"
             ],
             [
              0.4444444444444444,
              "#bd3786"
             ],
             [
              0.5555555555555556,
              "#d8576b"
             ],
             [
              0.6666666666666666,
              "#ed7953"
             ],
             [
              0.7777777777777778,
              "#fb9f3a"
             ],
             [
              0.8888888888888888,
              "#fdca26"
             ],
             [
              1,
              "#f0f921"
             ]
            ],
            "type": "histogram2d"
           }
          ],
          "histogram2dcontour": [
           {
            "colorbar": {
             "outlinewidth": 0,
             "ticks": ""
            },
            "colorscale": [
             [
              0,
              "#0d0887"
             ],
             [
              0.1111111111111111,
              "#46039f"
             ],
             [
              0.2222222222222222,
              "#7201a8"
             ],
             [
              0.3333333333333333,
              "#9c179e"
             ],
             [
              0.4444444444444444,
              "#bd3786"
             ],
             [
              0.5555555555555556,
              "#d8576b"
             ],
             [
              0.6666666666666666,
              "#ed7953"
             ],
             [
              0.7777777777777778,
              "#fb9f3a"
             ],
             [
              0.8888888888888888,
              "#fdca26"
             ],
             [
              1,
              "#f0f921"
             ]
            ],
            "type": "histogram2dcontour"
           }
          ],
          "mesh3d": [
           {
            "colorbar": {
             "outlinewidth": 0,
             "ticks": ""
            },
            "type": "mesh3d"
           }
          ],
          "parcoords": [
           {
            "line": {
             "colorbar": {
              "outlinewidth": 0,
              "ticks": ""
             }
            },
            "type": "parcoords"
           }
          ],
          "pie": [
           {
            "automargin": true,
            "type": "pie"
           }
          ],
          "scatter": [
           {
            "fillpattern": {
             "fillmode": "overlay",
             "size": 10,
             "solidity": 0.2
            },
            "type": "scatter"
           }
          ],
          "scatter3d": [
           {
            "line": {
             "colorbar": {
              "outlinewidth": 0,
              "ticks": ""
             }
            },
            "marker": {
             "colorbar": {
              "outlinewidth": 0,
              "ticks": ""
             }
            },
            "type": "scatter3d"
           }
          ],
          "scattercarpet": [
           {
            "marker": {
             "colorbar": {
              "outlinewidth": 0,
              "ticks": ""
             }
            },
            "type": "scattercarpet"
           }
          ],
          "scattergeo": [
           {
            "marker": {
             "colorbar": {
              "outlinewidth": 0,
              "ticks": ""
             }
            },
            "type": "scattergeo"
           }
          ],
          "scattergl": [
           {
            "marker": {
             "colorbar": {
              "outlinewidth": 0,
              "ticks": ""
             }
            },
            "type": "scattergl"
           }
          ],
          "scattermapbox": [
           {
            "marker": {
             "colorbar": {
              "outlinewidth": 0,
              "ticks": ""
             }
            },
            "type": "scattermapbox"
           }
          ],
          "scatterpolar": [
           {
            "marker": {
             "colorbar": {
              "outlinewidth": 0,
              "ticks": ""
             }
            },
            "type": "scatterpolar"
           }
          ],
          "scatterpolargl": [
           {
            "marker": {
             "colorbar": {
              "outlinewidth": 0,
              "ticks": ""
             }
            },
            "type": "scatterpolargl"
           }
          ],
          "scatterternary": [
           {
            "marker": {
             "colorbar": {
              "outlinewidth": 0,
              "ticks": ""
             }
            },
            "type": "scatterternary"
           }
          ],
          "surface": [
           {
            "colorbar": {
             "outlinewidth": 0,
             "ticks": ""
            },
            "colorscale": [
             [
              0,
              "#0d0887"
             ],
             [
              0.1111111111111111,
              "#46039f"
             ],
             [
              0.2222222222222222,
              "#7201a8"
             ],
             [
              0.3333333333333333,
              "#9c179e"
             ],
             [
              0.4444444444444444,
              "#bd3786"
             ],
             [
              0.5555555555555556,
              "#d8576b"
             ],
             [
              0.6666666666666666,
              "#ed7953"
             ],
             [
              0.7777777777777778,
              "#fb9f3a"
             ],
             [
              0.8888888888888888,
              "#fdca26"
             ],
             [
              1,
              "#f0f921"
             ]
            ],
            "type": "surface"
           }
          ],
          "table": [
           {
            "cells": {
             "fill": {
              "color": "#EBF0F8"
             },
             "line": {
              "color": "white"
             }
            },
            "header": {
             "fill": {
              "color": "#C8D4E3"
             },
             "line": {
              "color": "white"
             }
            },
            "type": "table"
           }
          ]
         },
         "layout": {
          "annotationdefaults": {
           "arrowcolor": "#2a3f5f",
           "arrowhead": 0,
           "arrowwidth": 1
          },
          "autotypenumbers": "strict",
          "coloraxis": {
           "colorbar": {
            "outlinewidth": 0,
            "ticks": ""
           }
          },
          "colorscale": {
           "diverging": [
            [
             0,
             "#8e0152"
            ],
            [
             0.1,
             "#c51b7d"
            ],
            [
             0.2,
             "#de77ae"
            ],
            [
             0.3,
             "#f1b6da"
            ],
            [
             0.4,
             "#fde0ef"
            ],
            [
             0.5,
             "#f7f7f7"
            ],
            [
             0.6,
             "#e6f5d0"
            ],
            [
             0.7,
             "#b8e186"
            ],
            [
             0.8,
             "#7fbc41"
            ],
            [
             0.9,
             "#4d9221"
            ],
            [
             1,
             "#276419"
            ]
           ],
           "sequential": [
            [
             0,
             "#0d0887"
            ],
            [
             0.1111111111111111,
             "#46039f"
            ],
            [
             0.2222222222222222,
             "#7201a8"
            ],
            [
             0.3333333333333333,
             "#9c179e"
            ],
            [
             0.4444444444444444,
             "#bd3786"
            ],
            [
             0.5555555555555556,
             "#d8576b"
            ],
            [
             0.6666666666666666,
             "#ed7953"
            ],
            [
             0.7777777777777778,
             "#fb9f3a"
            ],
            [
             0.8888888888888888,
             "#fdca26"
            ],
            [
             1,
             "#f0f921"
            ]
           ],
           "sequentialminus": [
            [
             0,
             "#0d0887"
            ],
            [
             0.1111111111111111,
             "#46039f"
            ],
            [
             0.2222222222222222,
             "#7201a8"
            ],
            [
             0.3333333333333333,
             "#9c179e"
            ],
            [
             0.4444444444444444,
             "#bd3786"
            ],
            [
             0.5555555555555556,
             "#d8576b"
            ],
            [
             0.6666666666666666,
             "#ed7953"
            ],
            [
             0.7777777777777778,
             "#fb9f3a"
            ],
            [
             0.8888888888888888,
             "#fdca26"
            ],
            [
             1,
             "#f0f921"
            ]
           ]
          },
          "colorway": [
           "#636efa",
           "#EF553B",
           "#00cc96",
           "#ab63fa",
           "#FFA15A",
           "#19d3f3",
           "#FF6692",
           "#B6E880",
           "#FF97FF",
           "#FECB52"
          ],
          "font": {
           "color": "#2a3f5f"
          },
          "geo": {
           "bgcolor": "white",
           "lakecolor": "white",
           "landcolor": "#E5ECF6",
           "showlakes": true,
           "showland": true,
           "subunitcolor": "white"
          },
          "hoverlabel": {
           "align": "left"
          },
          "hovermode": "closest",
          "mapbox": {
           "style": "light"
          },
          "paper_bgcolor": "white",
          "plot_bgcolor": "#E5ECF6",
          "polar": {
           "angularaxis": {
            "gridcolor": "white",
            "linecolor": "white",
            "ticks": ""
           },
           "bgcolor": "#E5ECF6",
           "radialaxis": {
            "gridcolor": "white",
            "linecolor": "white",
            "ticks": ""
           }
          },
          "scene": {
           "xaxis": {
            "backgroundcolor": "#E5ECF6",
            "gridcolor": "white",
            "gridwidth": 2,
            "linecolor": "white",
            "showbackground": true,
            "ticks": "",
            "zerolinecolor": "white"
           },
           "yaxis": {
            "backgroundcolor": "#E5ECF6",
            "gridcolor": "white",
            "gridwidth": 2,
            "linecolor": "white",
            "showbackground": true,
            "ticks": "",
            "zerolinecolor": "white"
           },
           "zaxis": {
            "backgroundcolor": "#E5ECF6",
            "gridcolor": "white",
            "gridwidth": 2,
            "linecolor": "white",
            "showbackground": true,
            "ticks": "",
            "zerolinecolor": "white"
           }
          },
          "shapedefaults": {
           "line": {
            "color": "#2a3f5f"
           }
          },
          "ternary": {
           "aaxis": {
            "gridcolor": "white",
            "linecolor": "white",
            "ticks": ""
           },
           "baxis": {
            "gridcolor": "white",
            "linecolor": "white",
            "ticks": ""
           },
           "bgcolor": "#E5ECF6",
           "caxis": {
            "gridcolor": "white",
            "linecolor": "white",
            "ticks": ""
           }
          },
          "title": {
           "x": 0.05
          },
          "xaxis": {
           "automargin": true,
           "gridcolor": "white",
           "linecolor": "white",
           "ticks": "",
           "title": {
            "standoff": 15
           },
           "zerolinecolor": "white",
           "zerolinewidth": 2
          },
          "yaxis": {
           "automargin": true,
           "gridcolor": "white",
           "linecolor": "white",
           "ticks": "",
           "title": {
            "standoff": 15
           },
           "zerolinecolor": "white",
           "zerolinewidth": 2
          }
         }
        },
        "title": {
         "text": "Average Price Range by Room Type"
        },
        "xaxis": {
         "tickangle": -45,
         "title": {
          "text": "Room Type"
         }
        },
        "yaxis": {
         "title": {
          "text": "Average Price Range (円)"
         }
        }
       }
      }
     },
     "metadata": {},
     "output_type": "display_data"
    }
   ],
   "source": [
    "import re\n",
    "import numpy as np\n",
    "import pandas as pd\n",
    "import plotly.express as px\n",
    "import plotly.graph_objects as go\n",
    "\n",
    "# Extract prices function\n",
    "def extract_prices(price_details):\n",
    "    price_dict = {\n",
    "        '2名税込': None,\n",
    "        '朝食付2名税込': None,\n",
    "        '夕食付2名税込': None\n",
    "    }\n",
    "    \n",
    "    for detail in price_details:\n",
    "        if '2名税込' in detail and price_dict['2名税込'] is None:\n",
    "            match = re.search(r'(\\d{1,3}(?:,\\d{3})*)円', detail)\n",
    "            if match:\n",
    "                price_dict['2名税込'] = float(match.group(1).replace(',', ''))\n",
    "        \n",
    "        if '朝食付2名税込' in detail and price_dict['朝食付2名税込'] is None:\n",
    "            match = re.search(r'(\\d{1,3}(?:,\\d{3})*)円', detail)\n",
    "            if match:\n",
    "                price_dict['朝食付2名税込'] = float(match.group(1).replace(',', ''))\n",
    "        \n",
    "        if '夕食付2名税込' in detail and price_dict['夕食付2名税込'] is None:\n",
    "            match = re.search(r'(\\d{1,3}(?:,\\d{3})*)円', detail)\n",
    "            if match:\n",
    "                price_dict['夕食付2名税込'] = float(match.group(1).replace(',', ''))\n",
    "    \n",
    "    return [price_dict['2名税込'], price_dict['朝食付2名税込'], price_dict['夕食付2名税込']]\n",
    "\n",
    "# Function to perform analytics on the data\n",
    "def perform_analytics(df):\n",
    "\n",
    "    # Apply the cleaning function to 'Room Price Detail'\n",
    "    df['Room Price Detail'] = df['Room Price Detail'].apply(clean_price_detail)\n",
    "\n",
    "    # Extract numerical prices from 'Room Price Detail'\n",
    "    df['Extracted Prices'] = df['Room Price Detail'].apply(extract_prices)\n",
    "    \n",
    "    # Calculate average price per room type\n",
    "    df['Average Price'] = df['Extracted Prices'].apply(lambda x: np.mean([p for p in x if p is not None]))\n",
    "    avg_price_per_room = df.groupby('Room Type')['Average Price'].mean().sort_values(ascending=False)\n",
    "    print(\"### Average Price per Room Type\")\n",
    "    print(avg_price_per_room)\n",
    "    \n",
    "    # Distribution of Prices\n",
    "    print(\"\\n### Price Distribution\")\n",
    "    all_prices = [price for sublist in df['Extracted Prices'].tolist() for price in sublist if price is not None]\n",
    "    fig = px.histogram(all_prices, nbins=30, title=\"Price Distribution\", labels={'value': 'Price (円)'})\n",
    "    fig.update_layout(xaxis_title='Price (円)', yaxis_title='Count')\n",
    "    fig.show()\n",
    "    \n",
    "    # Top 5 Most Expensive Hotels\n",
    "    df['Max Price'] = df['Extracted Prices'].apply(lambda x: max([p for p in x if p is not None], default=0))\n",
    "    top_expensive_hotels = df[['Hotel Name', 'Max Price']].sort_values(by='Max Price', ascending=False).head(5)\n",
    "    print(\"\\n### Top 5 Most Expensive Hotels\")\n",
    "    print(top_expensive_hotels)\n",
    "    \n",
    "    # Price Range Analysis\n",
    "    df['Price Range'] = df['Extracted Prices'].apply(lambda x: max([p for p in x if p is not None], default=0) - min([p for p in x if p is not None], default=0))\n",
    "    price_range_analysis = df.groupby('Room Type')['Price Range'].mean().sort_values(ascending=False)\n",
    "    print(\"\\n### Price Range Analysis\")\n",
    "    print(price_range_analysis)\n",
    "    \n",
    "    # Visualize Price Range Analysis\n",
    "    fig = go.Figure()\n",
    "    fig.add_trace(go.Bar(\n",
    "        x=price_range_analysis.index,\n",
    "        y=price_range_analysis.values,\n",
    "        name=\"Average Price Range by Room Type\"\n",
    "    ))\n",
    "    fig.update_layout(title=\"Average Price Range by Room Type\",\n",
    "                      xaxis_title=\"Room Type\",\n",
    "                      yaxis_title=\"Average Price Range (円)\",\n",
    "                      xaxis_tickangle=-45)\n",
    "    fig.show()\n",
    "\n",
    "# Apply the extraction function and create three separate columns\n",
    "df[['2名税込', '朝食付2名税込', '夕食付2名税込']] = df['Room Price Detail'].apply(lambda x: pd.Series(extract_prices(x)))\n",
    "\n",
    "# Run the analytics\n",
    "perform_analytics(df)\n"
   ]
  }
 ],
 "metadata": {
  "kernelspec": {
   "display_name": "atom",
   "language": "python",
   "name": "python3"
  },
  "language_info": {
   "codemirror_mode": {
    "name": "ipython",
    "version": 3
   },
   "file_extension": ".py",
   "mimetype": "text/x-python",
   "name": "python",
   "nbconvert_exporter": "python",
   "pygments_lexer": "ipython3",
   "version": "3.10.13"
  }
 },
 "nbformat": 4,
 "nbformat_minor": 2
}
